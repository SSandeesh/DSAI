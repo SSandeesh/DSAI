{
 "cells": [
  {
   "cell_type": "markdown",
   "id": "ba04d4a6-7b49-4002-9188-e73c52582d1d",
   "metadata": {},
   "source": [
    "# Day-21(2June)"
   ]
  },
  {
   "cell_type": "markdown",
   "id": "94d1d10f-75e6-463a-9ac6-4c02b594f065",
   "metadata": {},
   "source": [
    "- Numpy + matplotlib\n",
    "- IPL dataset analysis project"
   ]
  },
  {
   "cell_type": "code",
   "execution_count": 2,
   "id": "d287c1a0-8dd5-4a7f-bc48-a0c205dd0e13",
   "metadata": {},
   "outputs": [],
   "source": [
    "#Import numpy\n",
    "import numpy as np\n",
    "\n",
    "#Seasons\n",
    "Seasons = [\"2015\",\"2016\",\"2017\",\"2018\",\"2019\",\"2020\",\"2021\",\"2022\",\"2023\",\"2024\"]\n",
    "Sdict = {\"2015\":0,\"2016\":1,\"2017\":2,\"2018\":3,\"2019\":4,\"2020\":5,\"2021\":6,\"2022\":7,\"2023\":8,\"2024\":9}\n",
    "\n",
    "#Players\n",
    "Players = [\"Sachin\",\"Rahul\",\"Smith\",\"Sami\",\"Pollard\",\"Morris\",\"Samson\",\"Dhoni\",\"Kohli\",\"Sky\"]\n",
    "Pdict = {\"Sachin\":0,\"Rahul\":1,\"Smith\":2,\"Sami\":3,\"Pollard\":4,\"Morris\":5,\"Samson\":6,\"Dhoni\":7,\"Kohli\":8,\"Sky\":9}\n",
    "\n",
    "#Salaries\n",
    "Sachin_Salary = [15946875,17718750,19490625,21262500,23034375,24806250,25244493,27849149,30453805,23500000]\n",
    "Rahul_Salary = [12000000,12744189,13488377,14232567,14976754,16324500,18038573,19752645,21466718,23180790]\n",
    "Smith_Salary = [4621800,5828090,13041250,14410581,15779912,14500000,16022500,17545000,19067500,20644400]\n",
    "Sami_Salary = [3713640,4694041,13041250,14410581,15779912,17149243,18518574,19450000,22407474,22458000]\n",
    "Pollard_Salary = [4493160,4806720,6061274,13758000,15202590,16647180,18091770,19536360,20513178,21436271]\n",
    "Morris_Salary = [3348000,4235220,12455000,14410581,15779912,14500000,16022500,17545000,19067500,20644400]\n",
    "Samson_Salary = [3144240,3380160,3615960,4574189,13520500,14940153,16359805,17779458,18668431,20068563]\n",
    "Dhoni_Salary = [0,0,4171200,4484040,4796880,6053663,15506632,16669630,17832627,18995624]\n",
    "Kohli_Salary = [0,0,0,4822800,5184480,5546160,6993708,16402500,17632688,18862875]\n",
    "Sky_Salary = [3031920,3841443,13041250,14410581,15779912,14200000,15691000,17182000,18673000,15000000]\n",
    "#Matrix\n",
    "Salary = np.array([Sachin_Salary, Rahul_Salary, Smith_Salary, Sami_Salary, Pollard_Salary, Morris_Salary, Samson_Salary, Dhoni_Salary, Kohli_Salary, Sky_Salary])\n",
    "\n",
    "#Games \n",
    "Sachin_G = [80,77,82,82,73,82,58,78,6,35]\n",
    "Rahul_G = [82,57,82,79,76,72,60,72,79,80]\n",
    "Smith_G = [79,78,75,81,76,79,62,76,77,69]\n",
    "Sami_G = [80,65,77,66,69,77,55,67,77,40]\n",
    "Pollard_G = [82,82,82,79,82,78,54,76,71,41]\n",
    "Morris_G = [70,69,67,77,70,77,57,74,79,44]\n",
    "Samson_G = [78,64,80,78,45,80,60,70,62,82]\n",
    "Dhoni_G = [35,35,80,74,82,78,66,81,81,27]\n",
    "Kohli_G = [40,40,40,81,78,81,39,0,10,51]\n",
    "Sky_G = [75,51,51,79,77,76,49,69,54,62]\n",
    "#Matrix\n",
    "Games = np.array([Sachin_G, Rahul_G, Smith_G, Sami_G, Pollard_G, Morris_G, Samson_G, Dhoni_G, Kohli_G, Sky_G])\n",
    "\n",
    "#Points\n",
    "Sachin_PTS = [2832,2430,2323,2201,1970,2078,1616,2133,83,782]\n",
    "Rahul_PTS = [1653,1426,1779,1688,1619,1312,1129,1170,1245,1154]\n",
    "Smith_PTS = [2478,2132,2250,2304,2258,2111,1683,2036,2089,1743]\n",
    "Sami_PTS = [2122,1881,1978,1504,1943,1970,1245,1920,2112,966]\n",
    "Pollard_PTS = [1292,1443,1695,1624,1503,1784,1113,1296,1297,646]\n",
    "Morris_PTS = [1572,1561,1496,1746,1678,1438,1025,1232,1281,928]\n",
    "Samson_PTS = [1258,1104,1684,1781,841,1268,1189,1186,1185,1564]\n",
    "Dhoni_PTS = [903,903,1624,1871,2472,2161,1850,2280,2593,686]\n",
    "Kohli_PTS = [597,597,597,1361,1619,2026,852,0,159,904]\n",
    "Sky_PTS = [2040,1397,1254,2386,2045,1941,1082,1463,1028,1331]\n",
    "#Matrix\n",
    "Points = np.array([Sachin_PTS, Rahul_PTS, Smith_PTS, Sami_PTS, Pollard_PTS, Morris_PTS, Samson_PTS, Dhoni_PTS, Kohli_PTS, Sky_PTS])"
   ]
  },
  {
   "cell_type": "code",
   "execution_count": 3,
   "id": "6b204d3e-d43c-463b-8b87-ef50b3f7fdca",
   "metadata": {},
   "outputs": [
    {
     "data": {
      "text/plain": [
       "array([[15946875, 17718750, 19490625, 21262500, 23034375, 24806250,\n",
       "        25244493, 27849149, 30453805, 23500000],\n",
       "       [12000000, 12744189, 13488377, 14232567, 14976754, 16324500,\n",
       "        18038573, 19752645, 21466718, 23180790],\n",
       "       [ 4621800,  5828090, 13041250, 14410581, 15779912, 14500000,\n",
       "        16022500, 17545000, 19067500, 20644400],\n",
       "       [ 3713640,  4694041, 13041250, 14410581, 15779912, 17149243,\n",
       "        18518574, 19450000, 22407474, 22458000],\n",
       "       [ 4493160,  4806720,  6061274, 13758000, 15202590, 16647180,\n",
       "        18091770, 19536360, 20513178, 21436271],\n",
       "       [ 3348000,  4235220, 12455000, 14410581, 15779912, 14500000,\n",
       "        16022500, 17545000, 19067500, 20644400],\n",
       "       [ 3144240,  3380160,  3615960,  4574189, 13520500, 14940153,\n",
       "        16359805, 17779458, 18668431, 20068563],\n",
       "       [       0,        0,  4171200,  4484040,  4796880,  6053663,\n",
       "        15506632, 16669630, 17832627, 18995624],\n",
       "       [       0,        0,        0,  4822800,  5184480,  5546160,\n",
       "         6993708, 16402500, 17632688, 18862875],\n",
       "       [ 3031920,  3841443, 13041250, 14410581, 15779912, 14200000,\n",
       "        15691000, 17182000, 18673000, 15000000]])"
      ]
     },
     "execution_count": 3,
     "metadata": {},
     "output_type": "execute_result"
    }
   ],
   "source": [
    "Salary"
   ]
  },
  {
   "cell_type": "code",
   "execution_count": 4,
   "id": "807246fa-42c8-4e51-9f1b-a07c62053889",
   "metadata": {},
   "outputs": [
    {
     "data": {
      "text/plain": [
       "array([[80, 77, 82, 82, 73, 82, 58, 78,  6, 35],\n",
       "       [82, 57, 82, 79, 76, 72, 60, 72, 79, 80],\n",
       "       [79, 78, 75, 81, 76, 79, 62, 76, 77, 69],\n",
       "       [80, 65, 77, 66, 69, 77, 55, 67, 77, 40],\n",
       "       [82, 82, 82, 79, 82, 78, 54, 76, 71, 41],\n",
       "       [70, 69, 67, 77, 70, 77, 57, 74, 79, 44],\n",
       "       [78, 64, 80, 78, 45, 80, 60, 70, 62, 82],\n",
       "       [35, 35, 80, 74, 82, 78, 66, 81, 81, 27],\n",
       "       [40, 40, 40, 81, 78, 81, 39,  0, 10, 51],\n",
       "       [75, 51, 51, 79, 77, 76, 49, 69, 54, 62]])"
      ]
     },
     "execution_count": 4,
     "metadata": {},
     "output_type": "execute_result"
    }
   ],
   "source": [
    "Games"
   ]
  },
  {
   "cell_type": "code",
   "execution_count": 5,
   "id": "b51f7d09-f1d0-41a5-8ddb-071f2da4878d",
   "metadata": {},
   "outputs": [
    {
     "data": {
      "text/plain": [
       "array([[2832, 2430, 2323, 2201, 1970, 2078, 1616, 2133,   83,  782],\n",
       "       [1653, 1426, 1779, 1688, 1619, 1312, 1129, 1170, 1245, 1154],\n",
       "       [2478, 2132, 2250, 2304, 2258, 2111, 1683, 2036, 2089, 1743],\n",
       "       [2122, 1881, 1978, 1504, 1943, 1970, 1245, 1920, 2112,  966],\n",
       "       [1292, 1443, 1695, 1624, 1503, 1784, 1113, 1296, 1297,  646],\n",
       "       [1572, 1561, 1496, 1746, 1678, 1438, 1025, 1232, 1281,  928],\n",
       "       [1258, 1104, 1684, 1781,  841, 1268, 1189, 1186, 1185, 1564],\n",
       "       [ 903,  903, 1624, 1871, 2472, 2161, 1850, 2280, 2593,  686],\n",
       "       [ 597,  597,  597, 1361, 1619, 2026,  852,    0,  159,  904],\n",
       "       [2040, 1397, 1254, 2386, 2045, 1941, 1082, 1463, 1028, 1331]])"
      ]
     },
     "execution_count": 5,
     "metadata": {},
     "output_type": "execute_result"
    }
   ],
   "source": [
    "Points"
   ]
  },
  {
   "cell_type": "code",
   "execution_count": 6,
   "id": "968875c2-7ec3-4bf5-bc22-69236cd743a3",
   "metadata": {},
   "outputs": [
    {
     "data": {
      "text/plain": [
       "array([15946875, 17718750, 19490625, 21262500, 23034375, 24806250,\n",
       "       25244493, 27849149, 30453805, 23500000])"
      ]
     },
     "execution_count": 6,
     "metadata": {},
     "output_type": "execute_result"
    }
   ],
   "source": [
    "Salary[0]"
   ]
  },
  {
   "cell_type": "code",
   "execution_count": 8,
   "id": "f663a41a-44c2-4455-af72-f53fa8ef983c",
   "metadata": {},
   "outputs": [
    {
     "data": {
      "text/plain": [
       "array([[82, 57, 82, 79, 76, 72, 60, 72, 79, 80],\n",
       "       [79, 78, 75, 81, 76, 79, 62, 76, 77, 69],\n",
       "       [80, 65, 77, 66, 69, 77, 55, 67, 77, 40],\n",
       "       [82, 82, 82, 79, 82, 78, 54, 76, 71, 41]])"
      ]
     },
     "execution_count": 8,
     "metadata": {},
     "output_type": "execute_result"
    }
   ],
   "source": [
    "Games[1:5]"
   ]
  },
  {
   "cell_type": "code",
   "execution_count": 9,
   "id": "c9be1506-707c-4a90-9c36-9b227c6ac136",
   "metadata": {},
   "outputs": [
    {
     "data": {
      "text/plain": [
       "72"
      ]
     },
     "execution_count": 9,
     "metadata": {},
     "output_type": "execute_result"
    }
   ],
   "source": [
    "Games[1,5]"
   ]
  },
  {
   "cell_type": "code",
   "execution_count": 10,
   "id": "4d460fc8-22cd-4654-829a-7fcb52e0ebb2",
   "metadata": {},
   "outputs": [
    {
     "data": {
      "text/plain": [
       "{'Sachin': 0,\n",
       " 'Rahul': 1,\n",
       " 'Smith': 2,\n",
       " 'Sami': 3,\n",
       " 'Pollard': 4,\n",
       " 'Morris': 5,\n",
       " 'Samson': 6,\n",
       " 'Dhoni': 7,\n",
       " 'Kohli': 8,\n",
       " 'Sky': 9}"
      ]
     },
     "execution_count": 10,
     "metadata": {},
     "output_type": "execute_result"
    }
   ],
   "source": [
    "Pdict"
   ]
  },
  {
   "cell_type": "code",
   "execution_count": 11,
   "id": "a2ed55ed-3a1c-4994-8bb6-7bccc7550179",
   "metadata": {},
   "outputs": [
    {
     "name": "stderr",
     "output_type": "stream",
     "text": [
      "C:\\Users\\sande\\AppData\\Local\\Temp\\ipykernel_17928\\3709746658.py:1: RuntimeWarning: divide by zero encountered in divide\n",
      "  Salary/Games\n"
     ]
    },
    {
     "data": {
      "text/plain": [
       "array([[ 199335.9375    ,  230113.63636364,  237690.54878049,\n",
       "         259298.7804878 ,  315539.38356164,  302515.24390244,\n",
       "         435249.87931034,  357040.37179487, 5075634.16666667,\n",
       "         671428.57142857],\n",
       "       [ 146341.46341463,  223582.26315789,  164492.40243902,\n",
       "         180159.07594937,  197062.55263158,  226729.16666667,\n",
       "         300642.88333333,  274342.29166667,  271730.60759494,\n",
       "         289759.875     ],\n",
       "       [  58503.79746835,   74719.1025641 ,  173883.33333333,\n",
       "         177908.40740741,  207630.42105263,  183544.30379747,\n",
       "         258427.41935484,  230855.26315789,  247629.87012987,\n",
       "         299194.20289855],\n",
       "       [  46420.5       ,   72216.01538462,  169366.88311688,\n",
       "         218342.13636364,  228694.37681159,  222717.44155844,\n",
       "         336701.34545455,  290298.50746269,  291006.15584416,\n",
       "         561450.        ],\n",
       "       [  54794.63414634,   58618.53658537,   73917.97560976,\n",
       "         174151.89873418,  185397.43902439,  213425.38461538,\n",
       "         335032.77777778,  257057.36842105,  288918.        ,\n",
       "         522835.87804878],\n",
       "       [  47828.57142857,   61380.        ,  185895.52238806,\n",
       "         187150.4025974 ,  225427.31428571,  188311.68831169,\n",
       "         281096.49122807,  237094.59459459,  241360.75949367,\n",
       "         469190.90909091],\n",
       "       [  40310.76923077,   52815.        ,   45199.5       ,\n",
       "          58643.44871795,  300455.55555556,  186751.9125    ,\n",
       "         272663.41666667,  253992.25714286,  301103.72580645,\n",
       "         244738.57317073],\n",
       "       [      0.        ,       0.        ,   52140.        ,\n",
       "          60595.13513514,   58498.53658537,   77611.06410256,\n",
       "         234948.96969697,  205797.90123457,  220155.88888889,\n",
       "         703541.62962963],\n",
       "       [      0.        ,       0.        ,       0.        ,\n",
       "          59540.74074074,   66467.69230769,   68471.11111111,\n",
       "         179325.84615385,              inf, 1763268.8       ,\n",
       "         369860.29411765],\n",
       "       [  40425.6       ,   75322.41176471,  255710.78431373,\n",
       "         182412.41772152,  204933.92207792,  186842.10526316,\n",
       "         320224.48979592,  249014.49275362,  345796.2962963 ,\n",
       "         241935.48387097]])"
      ]
     },
     "execution_count": 11,
     "metadata": {},
     "output_type": "execute_result"
    }
   ],
   "source": [
    "Salary/Games"
   ]
  },
  {
   "cell_type": "code",
   "execution_count": 13,
   "id": "b7eb637e-f50b-4b61-b74b-ca75d7b8d06e",
   "metadata": {},
   "outputs": [
    {
     "name": "stderr",
     "output_type": "stream",
     "text": [
      "C:\\Users\\sande\\AppData\\Local\\Temp\\ipykernel_17928\\3663165759.py:1: RuntimeWarning: divide by zero encountered in floor_divide\n",
      "  np.round(Salary//Games)\n"
     ]
    },
    {
     "data": {
      "text/plain": [
       "array([[ 199335,  230113,  237690,  259298,  315539,  302515,  435249,\n",
       "         357040, 5075634,  671428],\n",
       "       [ 146341,  223582,  164492,  180159,  197062,  226729,  300642,\n",
       "         274342,  271730,  289759],\n",
       "       [  58503,   74719,  173883,  177908,  207630,  183544,  258427,\n",
       "         230855,  247629,  299194],\n",
       "       [  46420,   72216,  169366,  218342,  228694,  222717,  336701,\n",
       "         290298,  291006,  561450],\n",
       "       [  54794,   58618,   73917,  174151,  185397,  213425,  335032,\n",
       "         257057,  288918,  522835],\n",
       "       [  47828,   61380,  185895,  187150,  225427,  188311,  281096,\n",
       "         237094,  241360,  469190],\n",
       "       [  40310,   52815,   45199,   58643,  300455,  186751,  272663,\n",
       "         253992,  301103,  244738],\n",
       "       [      0,       0,   52140,   60595,   58498,   77611,  234948,\n",
       "         205797,  220155,  703541],\n",
       "       [      0,       0,       0,   59540,   66467,   68471,  179325,\n",
       "              0, 1763268,  369860],\n",
       "       [  40425,   75322,  255710,  182412,  204933,  186842,  320224,\n",
       "         249014,  345796,  241935]])"
      ]
     },
     "execution_count": 13,
     "metadata": {},
     "output_type": "execute_result"
    }
   ],
   "source": [
    "np.round(Salary//Games)"
   ]
  },
  {
   "cell_type": "code",
   "execution_count": 14,
   "id": "0b8e3fed-94bb-4645-bcc5-d1d454ad8d4d",
   "metadata": {},
   "outputs": [],
   "source": [
    "import warnings\n",
    "warnings.filterwarnings(\"ignore\")"
   ]
  },
  {
   "cell_type": "code",
   "execution_count": 15,
   "id": "95e165c2-a345-428c-9e6a-fbd46c2cebee",
   "metadata": {},
   "outputs": [],
   "source": [
    "import matplotlib.pyplot as plt"
   ]
  },
  {
   "cell_type": "code",
   "execution_count": 24,
   "id": "5329f338-e8cd-4504-96c1-d10e6b16245b",
   "metadata": {},
   "outputs": [
    {
     "data": {
      "text/plain": [
       "[<matplotlib.lines.Line2D at 0x2023a173bc0>]"
      ]
     },
     "execution_count": 24,
     "metadata": {},
     "output_type": "execute_result"
    },
    {
     "data": {
      "image/png": "[encoded data removed]",
      "text/plain": [
       "<Figure size 640x480 with 1 Axes>"
      ]
     },
     "metadata": {},
     "output_type": "display_data"
    }
   ],
   "source": [
    "plt.plot(Salary[0],color=\"r\")"
   ]
  },
  {
   "cell_type": "code",
   "execution_count": 30,
   "id": "ae9dec9f-30c7-445c-8ac4-512d49fd13da",
   "metadata": {},
   "outputs": [
    {
     "data": {
      "text/plain": [
       "[<matplotlib.lines.Line2D at 0x2023fd2b3e0>]"
      ]
     },
     "execution_count": 30,
     "metadata": {},
     "output_type": "execute_result"
    },
    {
     "data": {
      "image/png": "[encoded data removed]",
      "text/plain": [
       "<Figure size 640x480 with 1 Axes>"
      ]
     },
     "metadata": {},
     "output_type": "display_data"
    }
   ],
   "source": [
    "plt.plot(Salary[0],color=\"g\",ls=\"--\")#color can be written as \"c\""
   ]
  },
  {
   "cell_type": "code",
   "execution_count": 48,
   "id": "d004c00d-9632-4106-8f60-9f6cae40b07f",
   "metadata": {},
   "outputs": [],
   "source": [
    "%matplotlib inline\n",
    "plt.rcParams[\"figure.figsize\"]=5,3"
   ]
  },
  {
   "cell_type": "code",
   "execution_count": 49,
   "id": "8a783388-091b-4009-8bd5-0d2b60757bc8",
   "metadata": {},
   "outputs": [
    {
     "data": {
      "image/png": "[encoded data removed]",
      "text/plain": [
       "<Figure size 500x300 with 1 Axes>"
      ]
     },
     "metadata": {},
     "output_type": "display_data"
    }
   ],
   "source": [
    "plt.plot(Salary[0],color=\"g\",ls=\"-.\")\n",
    "plt.show()"
   ]
  },
  {
   "cell_type": "code",
   "execution_count": 53,
   "id": "fa701e47-a67b-43bc-a4e0-a65643709bb1",
   "metadata": {},
   "outputs": [
    {
     "data": {
      "image/png": "[encoded data removed]",
      "text/plain": [
       "<Figure size 500x300 with 1 Axes>"
      ]
     },
     "metadata": {},
     "output_type": "display_data"
    }
   ],
   "source": [
    "plt.plot(Salary[0],color=\"b\",ls=\"--\",marker=\"8\")\n",
    "plt.show()"
   ]
  },
  {
   "cell_type": "code",
   "execution_count": 54,
   "id": "7c9ea763-4f9d-49c1-adb0-e85e3cb743b1",
   "metadata": {},
   "outputs": [
    {
     "data": {
      "text/plain": [
       "{'2015': 0,\n",
       " '2016': 1,\n",
       " '2017': 2,\n",
       " '2018': 3,\n",
       " '2019': 4,\n",
       " '2020': 5,\n",
       " '2021': 6,\n",
       " '2022': 7,\n",
       " '2023': 8,\n",
       " '2024': 9}"
      ]
     },
     "execution_count": 54,
     "metadata": {},
     "output_type": "execute_result"
    }
   ],
   "source": [
    "Sdict"
   ]
  },
  {
   "cell_type": "code",
   "execution_count": 56,
   "id": "33b03118-ac96-44b3-ac5b-5fc7de861d49",
   "metadata": {},
   "outputs": [
    {
     "data": {
      "image/png": "[encoded data removed]",
      "text/plain": [
       "<Figure size 500x300 with 1 Axes>"
      ]
     },
     "metadata": {},
     "output_type": "display_data"
    }
   ],
   "source": [
    "plt.plot(Salary[0],color=\"b\",ls=\"--\",marker=\"8\")\n",
    "plt.show()"
   ]
  },
  {
   "cell_type": "code",
   "execution_count": 58,
   "id": "8718f339-c4e9-47ca-9efc-7607c2ebaf83",
   "metadata": {},
   "outputs": [
    {
     "data": {
      "text/plain": [
       "<function matplotlib.pyplot.gcf() -> 'Figure'>"
      ]
     },
     "execution_count": 58,
     "metadata": {},
     "output_type": "execute_result"
    }
   ],
   "source": [
    "plt.gcf"
   ]
  },
  {
   "cell_type": "code",
   "execution_count": 1,
   "id": "cc2a2222-bd8e-48d8-af28-f104b3e37b19",
   "metadata": {},
   "outputs": [],
   "source": [
    "# Intro to Matplotlib"
   ]
  },
  {
   "cell_type": "code",
   "execution_count": null,
   "id": "ed11447b-f358-4aaa-ae7d-75b9932e29f4",
   "metadata": {},
   "outputs": [],
   "source": []
  }
 ],
 "metadata": {
  "kernelspec": {
   "display_name": "Python 3 (ipykernel)",
   "language": "python",
   "name": "python3"
  },
  "language_info": {
   "codemirror_mode": {
    "name": "ipython",
    "version": 3
   },
   "file_extension": ".py",
   "mimetype": "text/x-python",
   "name": "python",
   "nbconvert_exporter": "python",
   "pygments_lexer": "ipython3",
   "version": "3.12.7"
  }
 },
 "nbformat": 4,
 "nbformat_minor": 5
}
