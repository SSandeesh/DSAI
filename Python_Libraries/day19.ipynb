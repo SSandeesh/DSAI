{
 "cells": [
  {
   "cell_type": "markdown",
   "id": "8169b584-2b57-47c0-b0d6-526c198e2678",
   "metadata": {},
   "source": [
    "# Day-19(29May)"
   ]
  },
  {
   "cell_type": "markdown",
   "id": "54ba9b17-053a-4ce6-80e3-a9d48086c5be",
   "metadata": {},
   "source": [
    "- Numpy\n",
    "- Array is a multi-dimensional data structure that stores elements of the same data type in contiguous memory locations.\n",
    "  - arange()\n",
    "  - zeros()\n",
    "  - ones()\n",
    "  - np.random.rand()\n",
    "  - np.random.randint()"
   ]
  },
  {
   "cell_type": "code",
   "execution_count": 1,
   "id": "b8d16368-84b9-4374-9250-0475936c4eda",
   "metadata": {},
   "outputs": [],
   "source": [
    "import numpy as np"
   ]
  },
  {
   "cell_type": "code",
   "execution_count": 3,
   "id": "38d339fa-2037-4d69-bd35-dd45b9fc16b8",
   "metadata": {},
   "outputs": [
    {
     "data": {
      "text/plain": [
       "'1.26.4'"
      ]
     },
     "execution_count": 3,
     "metadata": {},
     "output_type": "execute_result"
    }
   ],
   "source": [
    "np.__version__"
   ]
  },
  {
   "cell_type": "code",
   "execution_count": 4,
   "id": "8a8d07af-b1b7-407f-9773-21bc23d47488",
   "metadata": {},
   "outputs": [
    {
     "data": {
      "text/plain": [
       "'3.12.7 | packaged by Anaconda, Inc. | (main, Oct  4 2024, 13:17:27) [MSC v.1929 64 bit (AMD64)]'"
      ]
     },
     "execution_count": 4,
     "metadata": {},
     "output_type": "execute_result"
    }
   ],
   "source": [
    "import sys\n",
    "sys.version"
   ]
  },
  {
   "cell_type": "code",
   "execution_count": 6,
   "id": "41166cbb-5bff-4cf7-afd6-6ecd75a1980c",
   "metadata": {},
   "outputs": [
    {
     "data": {
      "text/plain": [
       "list"
      ]
     },
     "execution_count": 6,
     "metadata": {},
     "output_type": "execute_result"
    }
   ],
   "source": [
    "li=[1,2,3,4,5]\n",
    "type(li)"
   ]
  },
  {
   "cell_type": "code",
   "execution_count": 9,
   "id": "9c53f79e-3a54-4ea5-b9bf-f24371f3e95d",
   "metadata": {},
   "outputs": [
    {
     "data": {
      "text/plain": [
       "numpy.ndarray"
      ]
     },
     "execution_count": 9,
     "metadata": {},
     "output_type": "execute_result"
    }
   ],
   "source": [
    "arr=np.array(li)\n",
    "type(arr)"
   ]
  },
  {
   "cell_type": "code",
   "execution_count": 15,
   "id": "90ad44f1-2db0-4fd2-bcec-e9defe4aa416",
   "metadata": {},
   "outputs": [
    {
     "data": {
      "text/plain": [
       "array([0, 1, 2, 3, 4, 5, 6, 7, 8, 9])"
      ]
     },
     "execution_count": 15,
     "metadata": {},
     "output_type": "execute_result"
    }
   ],
   "source": [
    "np.arange(10)"
   ]
  },
  {
   "cell_type": "code",
   "execution_count": 16,
   "id": "1615e645-7fce-44a0-b338-e461f657e494",
   "metadata": {},
   "outputs": [
    {
     "data": {
      "text/plain": [
       "array([0., 1., 2., 3., 4.])"
      ]
     },
     "execution_count": 16,
     "metadata": {},
     "output_type": "execute_result"
    }
   ],
   "source": [
    "np.arange(5.0)"
   ]
  },
  {
   "cell_type": "code",
   "execution_count": 17,
   "id": "cf537386-1e24-4771-a273-14ce946d3428",
   "metadata": {},
   "outputs": [
    {
     "data": {
      "text/plain": [
       "array([40, 41, 42, 43, 44, 45])"
      ]
     },
     "execution_count": 17,
     "metadata": {},
     "output_type": "execute_result"
    }
   ],
   "source": [
    "np.arange(40,46)"
   ]
  },
  {
   "cell_type": "code",
   "execution_count": 19,
   "id": "88e729dd-7980-495c-ac37-74c9364ec134",
   "metadata": {},
   "outputs": [
    {
     "data": {
      "text/plain": [
       "array([], dtype=int32)"
      ]
     },
     "execution_count": 19,
     "metadata": {},
     "output_type": "execute_result"
    }
   ],
   "source": [
    "np.arange(20,13) # first arg should be less than second arg"
   ]
  },
  {
   "cell_type": "code",
   "execution_count": 21,
   "id": "5d092130-59a9-45b3-9298-fed6674ac24d",
   "metadata": {},
   "outputs": [
    {
     "data": {
      "text/plain": [
       "array([10, 13, 16, 19])"
      ]
     },
     "execution_count": 21,
     "metadata": {},
     "output_type": "execute_result"
    }
   ],
   "source": [
    "np.arange(10,20,3) # only three args"
   ]
  },
  {
   "cell_type": "code",
   "execution_count": 25,
   "id": "38f769b9-26ab-47fa-81ba-7fe691d53015",
   "metadata": {},
   "outputs": [
    {
     "data": {
      "text/plain": [
       "array([0., 0., 0., 0., 0., 0., 0., 0., 0., 0.])"
      ]
     },
     "execution_count": 25,
     "metadata": {},
     "output_type": "execute_result"
    }
   ],
   "source": [
    "np.zeros(10) # parameter tunning - system given default datatype"
   ]
  },
  {
   "cell_type": "code",
   "execution_count": 24,
   "id": "b0cc557a-7b0d-44ab-aaed-ceb610ca3b3f",
   "metadata": {},
   "outputs": [
    {
     "data": {
      "text/plain": [
       "array([0, 0, 0, 0, 0, 0, 0, 0, 0, 0])"
      ]
     },
     "execution_count": 24,
     "metadata": {},
     "output_type": "execute_result"
    }
   ],
   "source": [
    "np.zeros(10,dtype=int) #hyperparameter tunning - user specified"
   ]
  },
  {
   "cell_type": "code",
   "execution_count": 26,
   "id": "7576370e-29ef-49a6-aa8d-6c47da9265ea",
   "metadata": {},
   "outputs": [
    {
     "data": {
      "text/plain": [
       "array([[0, 0],\n",
       "       [0, 0]])"
      ]
     },
     "execution_count": 26,
     "metadata": {},
     "output_type": "execute_result"
    }
   ],
   "source": [
    "np.zeros((2,2),dtype=int)"
   ]
  },
  {
   "cell_type": "code",
   "execution_count": 28,
   "id": "04db657d-1efc-4c28-a3b4-403dbf0b8d1e",
   "metadata": {},
   "outputs": [
    {
     "data": {
      "text/plain": [
       "array([[0, 0, 0, 0, 0],\n",
       "       [0, 0, 0, 0, 0]])"
      ]
     },
     "execution_count": 28,
     "metadata": {},
     "output_type": "execute_result"
    }
   ],
   "source": [
    "np.zeros((2,5),dtype=int) # 2*5 matrix"
   ]
  },
  {
   "cell_type": "code",
   "execution_count": 29,
   "id": "792c2ef7-61f8-4a55-b1c8-5c2a7cf3e361",
   "metadata": {},
   "outputs": [
    {
     "data": {
      "text/plain": [
       "array([1., 1., 1.])"
      ]
     },
     "execution_count": 29,
     "metadata": {},
     "output_type": "execute_result"
    }
   ],
   "source": [
    "np.ones(3)"
   ]
  },
  {
   "cell_type": "code",
   "execution_count": 31,
   "id": "cf10e086-62cb-4e07-8ba9-5b20c6448bc0",
   "metadata": {},
   "outputs": [
    {
     "data": {
      "text/plain": [
       "array([[1, 1, 1],\n",
       "       [1, 1, 1],\n",
       "       [1, 1, 1]])"
      ]
     },
     "execution_count": 31,
     "metadata": {},
     "output_type": "execute_result"
    }
   ],
   "source": [
    "np.ones((3,3),dtype=int)"
   ]
  },
  {
   "cell_type": "code",
   "execution_count": 34,
   "id": "6c261932-aa66-44b5-9cc3-fb3cfc8d8410",
   "metadata": {},
   "outputs": [
    {
     "ename": "AttributeError",
     "evalue": "module 'numpy' has no attribute 'two'",
     "output_type": "error",
     "traceback": [
      "\u001b[1;31m---------------------------------------------------------------------------\u001b[0m",
      "\u001b[1;31mAttributeError\u001b[0m                            Traceback (most recent call last)",
      "Cell \u001b[1;32mIn[34], line 1\u001b[0m\n\u001b[1;32m----> 1\u001b[0m np\u001b[38;5;241m.\u001b[39mtwo(\u001b[38;5;241m2\u001b[39m,\u001b[38;5;241m3\u001b[39m)\n",
      "File \u001b[1;32m~\\anaconda3\\Lib\\site-packages\\numpy\\__init__.py:333\u001b[0m, in \u001b[0;36m__getattr__\u001b[1;34m(attr)\u001b[0m\n\u001b[0;32m    330\u001b[0m     \u001b[38;5;124m\"\u001b[39m\u001b[38;5;124mRemoved in NumPy 1.25.0\u001b[39m\u001b[38;5;124m\"\u001b[39m\n\u001b[0;32m    331\u001b[0m     \u001b[38;5;28;01mraise\u001b[39;00m \u001b[38;5;167;01mRuntimeError\u001b[39;00m(\u001b[38;5;124m\"\u001b[39m\u001b[38;5;124mTester was removed in NumPy 1.25.\u001b[39m\u001b[38;5;124m\"\u001b[39m)\n\u001b[1;32m--> 333\u001b[0m \u001b[38;5;28;01mraise\u001b[39;00m \u001b[38;5;167;01mAttributeError\u001b[39;00m(\u001b[38;5;124m\"\u001b[39m\u001b[38;5;124mmodule \u001b[39m\u001b[38;5;132;01m{!r}\u001b[39;00m\u001b[38;5;124m has no attribute \u001b[39m\u001b[38;5;124m\"\u001b[39m\n\u001b[0;32m    334\u001b[0m                      \u001b[38;5;124m\"\u001b[39m\u001b[38;5;132;01m{!r}\u001b[39;00m\u001b[38;5;124m\"\u001b[39m\u001b[38;5;241m.\u001b[39mformat(\u001b[38;5;18m__name__\u001b[39m, attr))\n",
      "\u001b[1;31mAttributeError\u001b[0m: module 'numpy' has no attribute 'two'"
     ]
    }
   ],
   "source": [
    "np.two(2,3)#no function"
   ]
  },
  {
   "cell_type": "code",
   "execution_count": 42,
   "id": "d7bdb27f-6897-4ed1-aeb3-07dbf9475dfb",
   "metadata": {},
   "outputs": [
    {
     "data": {
      "text/plain": [
       "array([[0.12916562, 0.20071346, 0.89310293],\n",
       "       [0.22448959, 0.27781313, 0.63131548],\n",
       "       [0.61211286, 0.7616846 , 0.78891972]])"
      ]
     },
     "execution_count": 42,
     "metadata": {},
     "output_type": "execute_result"
    }
   ],
   "source": [
    "np.random.rand(3,3)"
   ]
  },
  {
   "cell_type": "code",
   "execution_count": 45,
   "id": "b5ca0d43-c24c-4fa7-a398-4bdc5d8cce14",
   "metadata": {},
   "outputs": [
    {
     "data": {
      "text/plain": [
       "5"
      ]
     },
     "execution_count": 45,
     "metadata": {},
     "output_type": "execute_result"
    }
   ],
   "source": [
    "np.random.randint(3,6)#2nd arg is n-1"
   ]
  },
  {
   "cell_type": "code",
   "execution_count": 48,
   "id": "4021df45-da61-4584-830a-68cc1271d565",
   "metadata": {},
   "outputs": [
    {
     "data": {
      "text/plain": [
       "array([9097, 9722, 9595, 3426, 7359, 6964, 8606, 6798, 8431, 1383])"
      ]
     },
     "execution_count": 48,
     "metadata": {},
     "output_type": "execute_result"
    }
   ],
   "source": [
    "np.random.randint(1000,9999,10)#3rg arg is to specify how many"
   ]
  },
  {
   "cell_type": "code",
   "execution_count": 53,
   "id": "2f20fc5a-0353-4bc4-943e-0353de099c61",
   "metadata": {},
   "outputs": [
    {
     "data": {
      "text/plain": [
       "array([[ 1,  2,  3,  4],\n",
       "       [ 5,  6,  7,  8],\n",
       "       [ 9, 10, 11, 12]])"
      ]
     },
     "execution_count": 53,
     "metadata": {},
     "output_type": "execute_result"
    }
   ],
   "source": [
    "np.arange(1,13).reshape(3,4)"
   ]
  },
  {
   "cell_type": "markdown",
   "id": "88cd2487-9c5f-4d51-aa37-ac10f3595849",
   "metadata": {},
   "source": [
    "# Numpy U-Practice\n",
    "- linspace()\n",
    "- copy()"
   ]
  },
  {
   "cell_type": "code",
   "execution_count": 3,
   "id": "78121420-5942-44c2-aee2-ae3c66fd1279",
   "metadata": {},
   "outputs": [],
   "source": [
    "import numpy as np\n",
    "#np.lookfor(\"arange\")"
   ]
  },
  {
   "cell_type": "code",
   "execution_count": 3,
   "id": "8fadf2e5-10fb-4ebc-8f04-1e496ccc9457",
   "metadata": {},
   "outputs": [
    {
     "data": {
      "text/plain": [
       "array([0, 1, 2])"
      ]
     },
     "execution_count": 3,
     "metadata": {},
     "output_type": "execute_result"
    }
   ],
   "source": [
    "np.arange(3)"
   ]
  },
  {
   "cell_type": "code",
   "execution_count": 4,
   "id": "bb7688ac-b5d5-4175-ad84-0efce9bf9d13",
   "metadata": {},
   "outputs": [
    {
     "data": {
      "text/plain": [
       "2317243266176"
      ]
     },
     "execution_count": 4,
     "metadata": {},
     "output_type": "execute_result"
    }
   ],
   "source": [
    "listt=[1,3,5,9]\n",
    "id(listt)"
   ]
  },
  {
   "cell_type": "code",
   "execution_count": 5,
   "id": "5bed57cb-f540-4752-a20a-31c7cd434a0a",
   "metadata": {},
   "outputs": [
    {
     "data": {
      "text/plain": [
       "140717137144312"
      ]
     },
     "execution_count": 5,
     "metadata": {},
     "output_type": "execute_result"
    }
   ],
   "source": [
    "id(listt[1])"
   ]
  },
  {
   "cell_type": "code",
   "execution_count": 7,
   "id": "a9cd2a6a-6ead-44a6-b91b-dba5607f2f61",
   "metadata": {},
   "outputs": [
    {
     "data": {
      "text/plain": [
       "array([1, 3, 5, 9])"
      ]
     },
     "execution_count": 7,
     "metadata": {},
     "output_type": "execute_result"
    }
   ],
   "source": [
    "arr=np.array(listt)\n",
    "arr"
   ]
  },
  {
   "cell_type": "code",
   "execution_count": 13,
   "id": "71f8f8ff-2f84-47da-9432-3c2e390efefb",
   "metadata": {},
   "outputs": [
    {
     "name": "stdout",
     "output_type": "stream",
     "text": [
      "2317248153936 2317248153936 2317248153936\n"
     ]
    }
   ],
   "source": [
    "print(id(arr[0]),id(arr[1]),id(arr[2]))"
   ]
  },
  {
   "cell_type": "code",
   "execution_count": 14,
   "id": "491a613a-9901-45bd-9737-b815e6a16a12",
   "metadata": {},
   "outputs": [
    {
     "data": {
      "text/plain": [
       "(4,)"
      ]
     },
     "execution_count": 14,
     "metadata": {},
     "output_type": "execute_result"
    }
   ],
   "source": [
    "arr.shape"
   ]
  },
  {
   "cell_type": "code",
   "execution_count": 20,
   "id": "80755948-9375-44af-b46d-106b657b0be1",
   "metadata": {},
   "outputs": [
    {
     "data": {
      "text/plain": [
       "array([[1, 3, 5, 7],\n",
       "       [2, 4, 6, 8],\n",
       "       [2, 3, 5, 7]])"
      ]
     },
     "execution_count": 20,
     "metadata": {},
     "output_type": "execute_result"
    }
   ],
   "source": [
    "list1=[1,3,5,7]\n",
    "list2=[2,4,6,8]\n",
    "list3=[2,3,5,7]\n",
    "two_d_arr=np.array([list1,list2,list3])\n",
    "two_d_arr"
   ]
  },
  {
   "cell_type": "code",
   "execution_count": 21,
   "id": "527df6d2-d0c6-4060-8ce6-492d5570e75a",
   "metadata": {},
   "outputs": [
    {
     "data": {
      "text/plain": [
       "(3, 4)"
      ]
     },
     "execution_count": 21,
     "metadata": {},
     "output_type": "execute_result"
    }
   ],
   "source": [
    "two_d_arr.shape"
   ]
  },
  {
   "cell_type": "code",
   "execution_count": 22,
   "id": "46952188-fa46-48a9-bae0-9e0de44dc6ff",
   "metadata": {},
   "outputs": [
    {
     "data": {
      "text/plain": [
       "array([[1, 3, 5],\n",
       "       [7, 2, 4],\n",
       "       [6, 8, 2],\n",
       "       [3, 5, 7]])"
      ]
     },
     "execution_count": 22,
     "metadata": {},
     "output_type": "execute_result"
    }
   ],
   "source": [
    "two_d_arr.reshape(4,3)"
   ]
  },
  {
   "cell_type": "code",
   "execution_count": 24,
   "id": "8b5247ca-43f7-49e1-b592-a021d2f0236c",
   "metadata": {},
   "outputs": [
    {
     "data": {
      "text/plain": [
       "array([1, 3, 5, 7, 2, 4, 6, 8, 2, 3, 5, 7])"
      ]
     },
     "execution_count": 24,
     "metadata": {},
     "output_type": "execute_result"
    }
   ],
   "source": [
    "two_d_arr.reshape(12)"
   ]
  },
  {
   "cell_type": "code",
   "execution_count": 26,
   "id": "39f7afb2-96fa-44d9-90e0-c8a3c90e4937",
   "metadata": {},
   "outputs": [
    {
     "data": {
      "text/plain": [
       "array([[1, 3, 5, 7, 2, 4, 6, 8, 2, 3, 5, 7]])"
      ]
     },
     "execution_count": 26,
     "metadata": {},
     "output_type": "execute_result"
    }
   ],
   "source": [
    "two_d_arr.reshape(1,12)#reshape within 2d"
   ]
  },
  {
   "cell_type": "code",
   "execution_count": 27,
   "id": "34d9c9d5-5c16-4f7b-987f-5503a0799fac",
   "metadata": {},
   "outputs": [],
   "source": [
    "# Array Indexing "
   ]
  },
  {
   "cell_type": "code",
   "execution_count": 29,
   "id": "35880930-256a-4722-a1c8-a45c0cc5f4bc",
   "metadata": {},
   "outputs": [
    {
     "data": {
      "text/plain": [
       "array([1, 2, 3, 4, 5])"
      ]
     },
     "execution_count": 29,
     "metadata": {},
     "output_type": "execute_result"
    }
   ],
   "source": [
    "od_arr=np.array([1,2,3,4,5])\n",
    "od_arr"
   ]
  },
  {
   "cell_type": "code",
   "execution_count": 32,
   "id": "079aaba6-acdc-4ec3-a559-4f323baf70cc",
   "metadata": {},
   "outputs": [
    {
     "data": {
      "text/plain": [
       "3"
      ]
     },
     "execution_count": 32,
     "metadata": {},
     "output_type": "execute_result"
    }
   ],
   "source": [
    "od_arr[2] #1d slicing"
   ]
  },
  {
   "cell_type": "code",
   "execution_count": 33,
   "id": "bf362f25-c0a4-4521-85be-b8f83f4410a9",
   "metadata": {},
   "outputs": [
    {
     "data": {
      "text/plain": [
       "array([[1, 3, 5, 7],\n",
       "       [2, 4, 6, 8],\n",
       "       [2, 3, 5, 7]])"
      ]
     },
     "execution_count": 33,
     "metadata": {},
     "output_type": "execute_result"
    }
   ],
   "source": [
    "two_d_arr"
   ]
  },
  {
   "cell_type": "code",
   "execution_count": 36,
   "id": "d8b5d839-6cb8-4f1e-a249-3d35472ddcfe",
   "metadata": {},
   "outputs": [
    {
     "data": {
      "text/plain": [
       "6"
      ]
     },
     "execution_count": 36,
     "metadata": {},
     "output_type": "execute_result"
    }
   ],
   "source": [
    "two_d_arr[1,2]#2-d slicing"
   ]
  },
  {
   "cell_type": "code",
   "execution_count": 37,
   "id": "c941bc7f-3c1e-486f-bcb0-889e32c60ab9",
   "metadata": {},
   "outputs": [
    {
     "data": {
      "text/plain": [
       "array([[2, 4, 6, 8],\n",
       "       [2, 3, 5, 7]])"
      ]
     },
     "execution_count": 37,
     "metadata": {},
     "output_type": "execute_result"
    }
   ],
   "source": [
    "two_d_arr[1:,]"
   ]
  },
  {
   "cell_type": "code",
   "execution_count": 42,
   "id": "0bfa1de5-6ae6-461c-ba27-4a978dbe312e",
   "metadata": {},
   "outputs": [
    {
     "data": {
      "text/plain": [
       "array([[6, 8],\n",
       "       [5, 7]])"
      ]
     },
     "execution_count": 42,
     "metadata": {},
     "output_type": "execute_result"
    }
   ],
   "source": [
    "two_d_arr[1:,2:]"
   ]
  },
  {
   "cell_type": "code",
   "execution_count": 43,
   "id": "b5498b15-380e-4151-916b-1b912b3b14ef",
   "metadata": {},
   "outputs": [
    {
     "data": {
      "text/plain": [
       "array([[5, 7],\n",
       "       [6, 8]])"
      ]
     },
     "execution_count": 43,
     "metadata": {},
     "output_type": "execute_result"
    }
   ],
   "source": [
    "two_d_arr[:2,2:]"
   ]
  },
  {
   "cell_type": "code",
   "execution_count": 45,
   "id": "2b8993e0-35ba-49fa-89b6-274eb3aeb896",
   "metadata": {},
   "outputs": [],
   "source": [
    "# Inbuilts"
   ]
  },
  {
   "cell_type": "code",
   "execution_count": 47,
   "id": "5198fd56-b2d1-4653-9515-8179d12d08fe",
   "metadata": {},
   "outputs": [
    {
     "data": {
      "text/plain": [
       "array([0, 1, 2, 3, 4])"
      ]
     },
     "execution_count": 47,
     "metadata": {},
     "output_type": "execute_result"
    }
   ],
   "source": [
    "arr=np.arange(5)\n",
    "arr"
   ]
  },
  {
   "cell_type": "code",
   "execution_count": 48,
   "id": "d9b35a3b-e552-43c0-9c37-eddea73e8cc4",
   "metadata": {},
   "outputs": [
    {
     "data": {
      "text/plain": [
       "array([1, 4])"
      ]
     },
     "execution_count": 48,
     "metadata": {},
     "output_type": "execute_result"
    }
   ],
   "source": [
    "arr=np.arange(1,5,3)\n",
    "arr"
   ]
  },
  {
   "cell_type": "code",
   "execution_count": 50,
   "id": "17903302-e3e7-4fd1-9c15-ac1b5b867793",
   "metadata": {},
   "outputs": [
    {
     "data": {
      "text/plain": [
       "array([40.        , 40.55555556, 41.11111111, 41.66666667, 42.22222222,\n",
       "       42.77777778, 43.33333333, 43.88888889, 44.44444444, 45.        ])"
      ]
     },
     "execution_count": 50,
     "metadata": {},
     "output_type": "execute_result"
    }
   ],
   "source": [
    "np.linspace(40,45,10)# linear space b/w the output numbers"
   ]
  },
  {
   "cell_type": "code",
   "execution_count": 53,
   "id": "a978a37f-a5ac-4f95-89e2-8fc480e5064a",
   "metadata": {},
   "outputs": [],
   "source": [
    "arr1=np.arange(10)\n",
    "arr2=np.arange(10,20)"
   ]
  },
  {
   "cell_type": "code",
   "execution_count": 54,
   "id": "0e9eba4d-ed0c-4ce9-b92b-f457aadce695",
   "metadata": {},
   "outputs": [
    {
     "data": {
      "text/plain": [
       "array([0, 1, 2, 3, 4, 5, 6, 7, 8, 9])"
      ]
     },
     "execution_count": 54,
     "metadata": {},
     "output_type": "execute_result"
    }
   ],
   "source": [
    "arr2=arr1.copy()\n",
    "arr2"
   ]
  },
  {
   "cell_type": "code",
   "execution_count": 56,
   "id": "d4ce374a-155e-4dfd-8e91-a6365a2cdc25",
   "metadata": {},
   "outputs": [
    {
     "data": {
      "text/plain": [
       "array([ 0,  1,  2, 30,  4,  5,  6,  7,  8,  9])"
      ]
     },
     "execution_count": 56,
     "metadata": {},
     "output_type": "execute_result"
    }
   ],
   "source": [
    "arr2[3]=30\n",
    "arr2"
   ]
  },
  {
   "cell_type": "code",
   "execution_count": 57,
   "id": "c23da01f-1d41-40f1-a076-c6e158762cf6",
   "metadata": {},
   "outputs": [
    {
     "name": "stdout",
     "output_type": "stream",
     "text": [
      "[0 1 2 3 4 5 6 7 8 9] [ 0  1  2 30  4  5  6  7  8  9]\n"
     ]
    }
   ],
   "source": [
    "print(arr1,arr2)"
   ]
  },
  {
   "cell_type": "code",
   "execution_count": 58,
   "id": "c34b8bfe-a27c-4801-b411-a10531cb5b49",
   "metadata": {},
   "outputs": [
    {
     "data": {
      "text/plain": [
       "array([ 0,  1,  2, 30, 77, 77, 77, 77, 77, 77])"
      ]
     },
     "execution_count": 58,
     "metadata": {},
     "output_type": "execute_result"
    }
   ],
   "source": [
    "arr2[4:]=77\n",
    "arr2"
   ]
  },
  {
   "cell_type": "code",
   "execution_count": 59,
   "id": "f1592441-56d8-4123-b76d-6868c27279a7",
   "metadata": {},
   "outputs": [
    {
     "data": {
      "text/plain": [
       "array([  0,   3,   6,  90, 231, 231, 231, 231, 231, 231])"
      ]
     },
     "execution_count": 59,
     "metadata": {},
     "output_type": "execute_result"
    }
   ],
   "source": [
    "var=3\n",
    "arr2*var"
   ]
  },
  {
   "cell_type": "code",
   "execution_count": 62,
   "id": "c7297e60-6f07-4101-9544-eef62aacc74e",
   "metadata": {},
   "outputs": [
    {
     "data": {
      "text/plain": [
       "array([ 0,  0,  0, 10, 25, 25, 25, 25, 25, 25], dtype=int32)"
      ]
     },
     "execution_count": 62,
     "metadata": {},
     "output_type": "execute_result"
    }
   ],
   "source": [
    "arr2//var"
   ]
  },
  {
   "cell_type": "code",
   "execution_count": 64,
   "id": "cc7aa2d8-9be5-4aae-a065-306cd43181a6",
   "metadata": {},
   "outputs": [
    {
     "data": {
      "text/plain": [
       "array([ 0,  1,  2, 30])"
      ]
     },
     "execution_count": 64,
     "metadata": {},
     "output_type": "execute_result"
    }
   ],
   "source": [
    "arr2[arr2<70]"
   ]
  },
  {
   "cell_type": "code",
   "execution_count": 67,
   "id": "de4e63f5-9e97-4acb-860a-e5aa6b31139e",
   "metadata": {},
   "outputs": [
    {
     "data": {
      "text/plain": [
       "array([[ True,  True,  True],\n",
       "       [ True,  True,  True]])"
      ]
     },
     "execution_count": 67,
     "metadata": {},
     "output_type": "execute_result"
    }
   ],
   "source": [
    "np.ones((2,3),dtype=bool)"
   ]
  },
  {
   "cell_type": "code",
   "execution_count": 68,
   "id": "7c7ab2f4-9ba2-45d8-ab12-00dcc4e39881",
   "metadata": {},
   "outputs": [
    {
     "data": {
      "text/plain": [
       "array([ 0,  1,  2, 30, 77, 77, 77, 77, 77, 77])"
      ]
     },
     "execution_count": 68,
     "metadata": {},
     "output_type": "execute_result"
    }
   ],
   "source": [
    "arr2\n"
   ]
  },
  {
   "cell_type": "code",
   "execution_count": 69,
   "id": "fb1a9130-c476-4ae1-b3eb-49aa9d46e497",
   "metadata": {},
   "outputs": [
    {
     "data": {
      "text/plain": [
       "array([ 0,  1,  2, 30, 77, 77, 77, 77, 80, 77])"
      ]
     },
     "execution_count": 69,
     "metadata": {},
     "output_type": "execute_result"
    }
   ],
   "source": [
    "arr2[-2]=80\n",
    "arr2"
   ]
  },
  {
   "cell_type": "code",
   "execution_count": null,
   "id": "aa053f8e-c8c1-4677-8f50-bc590f948f8f",
   "metadata": {},
   "outputs": [],
   "source": []
  }
 ],
 "metadata": {
  "kernelspec": {
   "display_name": "Python 3 (ipykernel)",
   "language": "python",
   "name": "python3"
  },
  "language_info": {
   "codemirror_mode": {
    "name": "ipython",
    "version": 3
   },
   "file_extension": ".py",
   "mimetype": "text/x-python",
   "name": "python",
   "nbconvert_exporter": "python",
   "pygments_lexer": "ipython3",
   "version": "3.12.7"
  }
 },
 "nbformat": 4,
 "nbformat_minor": 5
}
