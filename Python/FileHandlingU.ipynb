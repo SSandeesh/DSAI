{
 "cells": [
  {
   "cell_type": "markdown",
   "id": "ba415fb0-9ec8-4582-ab1e-bcf14181e3a2",
   "metadata": {},
   "source": [
    "# 9June"
   ]
  },
  {
   "cell_type": "code",
   "execution_count": 12,
   "id": "05f15a62-ecf0-47c6-beec-5dbe335858a8",
   "metadata": {},
   "outputs": [
    {
     "name": "stdout",
     "output_type": "stream",
     "text": [
      "1.Ec2\n",
      "2.ELB\n",
      "3.lambda\n",
      "4.VPC\n",
      "5.CloudFront\n",
      "6.s3\n",
      "7.DynamoDB\n",
      "8.Athena\n",
      "9.RDS\n",
      "10.API\n",
      "11.IAM\n",
      "12.cloudformation\n",
      "13.\n"
     ]
    }
   ],
   "source": [
    "with open(r\"C:\\Users\\sande\\OneDrive\\Documents\\Documents\\aws services.txt\",\"r\") as file:\n",
    "    content=file.read()\n",
    "    print(content)"
   ]
  },
  {
   "cell_type": "code",
   "execution_count": 13,
   "id": "74fda68d-4a3e-4cfe-9860-3bff8fbfcb7d",
   "metadata": {},
   "outputs": [
    {
     "name": "stdout",
     "output_type": "stream",
     "text": [
      "File Not Found\n"
     ]
    }
   ],
   "source": [
    "try:\n",
    "    with open(r\"Sample.txt\",\"r\") as file:\n",
    "        content=file.read()\n",
    "        print(content)\n",
    "except FileNotFoundError:\n",
    "    print(\"File Not Found\")"
   ]
  },
  {
   "cell_type": "code",
   "execution_count": 14,
   "id": "6155e027-6b2f-402d-87af-d44ee29cec8d",
   "metadata": {},
   "outputs": [
    {
     "name": "stdout",
     "output_type": "stream",
     "text": [
      "Number of lines:13\n"
     ]
    }
   ],
   "source": [
    "def countt(filename):\n",
    "    try:\n",
    "        with open(filename,\"r\") as filename:\n",
    "            linescount=len(filename.readlines())\n",
    "            print(f\"Number of lines:{linescount}\")\n",
    "    except FileNotFoundError:\n",
    "        print(\"File Not Found\")\n",
    "countt(r\"C:\\Users\\sande\\OneDrive\\Documents\\Documents\\aws services.txt\")"
   ]
  },
  {
   "cell_type": "code",
   "execution_count": 15,
   "id": "1af3b1cd-eaf4-4e00-91f6-3937b1eb6c29",
   "metadata": {},
   "outputs": [
    {
     "name": "stdout",
     "output_type": "stream",
     "text": [
      "1.Ec2\n",
      "2.ELB\n",
      "3.lambda\n",
      "4.VPC\n",
      "5.CloudFront\n",
      "6.s3\n",
      "7.DynamoDB\n",
      "8.Athena\n",
      "9.RDS\n",
      "10.API\n",
      "11.IAM\n",
      "12.cloudformation\n",
      "13.\n"
     ]
    }
   ],
   "source": [
    "with open(r\"C:\\Users\\sande\\OneDrive\\Documents\\Documents\\aws services.txt\",\"r\") as file:\n",
    "    content=file.read()\n",
    "    print(content)"
   ]
  },
  {
   "cell_type": "code",
   "execution_count": 24,
   "id": "26c43297-9e0d-4506-9952-984ea91bc724",
   "metadata": {},
   "outputs": [
    {
     "name": "stdout",
     "output_type": "stream",
     "text": [
      "Number of lines:12\n",
      "Number of Words:18\n"
     ]
    }
   ],
   "source": [
    "def countt(filename):\n",
    "    try:\n",
    "        with open(filename,\"r\") as filename:\n",
    "            lines=(filename.readlines())\n",
    "            linescount=len(lines)\n",
    "            wordscount=sum(len(line.split()) for line in lines)\n",
    "            \n",
    "            print(f\"Number of lines:{linescount}\")\n",
    "            print(f\"Number of Words:{wordscount}\")\n",
    "            \n",
    "    except FileNotFoundError:\n",
    "        print(\"File Not Found\")\n",
    "countt(r\"C:\\Users\\sande\\OneDrive\\Documents\\Documents\\aws services.txt\")"
   ]
  },
  {
   "cell_type": "code",
   "execution_count": 25,
   "id": "8c6bc360-c4ed-4ce7-acd7-fde34d063de7",
   "metadata": {},
   "outputs": [
    {
     "name": "stdout",
     "output_type": "stream",
     "text": [
      "Number of lines:12\n",
      "Number of Words:12\n"
     ]
    }
   ],
   "source": [
    "def countt(filename):\n",
    "    try:\n",
    "        with open(filename,\"r\") as filename:\n",
    "            lines=(filename.readlines())\n",
    "            linescount=len(lines)\n",
    "            wordscount=sum(len(line.split()) for line in lines)\n",
    "            \n",
    "            print(f\"Number of lines:{linescount}\")\n",
    "            print(f\"Number of Words:{wordscount}\")\n",
    "            \n",
    "    except FileNotFoundError:\n",
    "        print(\"File Not Found\")\n",
    "countt(r\"C:\\Users\\sande\\OneDrive\\Documents\\Documents\\aws services.txt\")"
   ]
  },
  {
   "cell_type": "code",
   "execution_count": null,
   "id": "1137d9ee-f7f7-4d21-a889-86d119e56272",
   "metadata": {},
   "outputs": [],
   "source": []
  }
 ],
 "metadata": {
  "kernelspec": {
   "display_name": "Python 3 (ipykernel)",
   "language": "python",
   "name": "python3"
  },
  "language_info": {
   "codemirror_mode": {
    "name": "ipython",
    "version": 3
   },
   "file_extension": ".py",
   "mimetype": "text/x-python",
   "name": "python",
   "nbconvert_exporter": "python",
   "pygments_lexer": "ipython3",
   "version": "3.12.7"
  }
 },
 "nbformat": 4,
 "nbformat_minor": 5
}
