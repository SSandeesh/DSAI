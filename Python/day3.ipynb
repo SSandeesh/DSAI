{
 "cells": [
  {
   "cell_type": "markdown",
   "id": "21290429-e172-405e-88b8-0162047b0ad4",
   "metadata": {},
   "source": [
    "# Day-3 DSAI(24May)\n"
   ]
  },
  {
   "cell_type": "markdown",
   "id": "430dd66e-13ec-49d4-b280-a5f1dcedfc25",
   "metadata": {},
   "source": [
    "- Discussed about operators and operands\n",
    "- Discussed about strings\n",
    "- Python Variables"
   ]
  },
  {
   "cell_type": "raw",
   "id": "8a9e0b40-acde-4475-8446-6223b8d6a8d2",
   "metadata": {},
   "source": [
    "# python variable = object = identifier"
   ]
  },
  {
   "cell_type": "code",
   "execution_count": 1,
   "id": "00f7b92a-2075-4de3-a853-258c929daea6",
   "metadata": {},
   "outputs": [
    {
     "data": {
      "text/plain": [
       "'3.12.7 | packaged by Anaconda, Inc. | (main, Oct  4 2024, 13:17:27) [MSC v.1929 64 bit (AMD64)]'"
      ]
     },
     "execution_count": 1,
     "metadata": {},
     "output_type": "execute_result"
    }
   ],
   "source": [
    "import sys\n",
    "sys.version"
   ]
  },
  {
   "cell_type": "code",
   "execution_count": 1,
   "id": "f7fae724-4132-404b-a6aa-a5dd812c14a6",
   "metadata": {},
   "outputs": [
    {
     "data": {
      "text/plain": [
       "1.0"
      ]
     },
     "execution_count": 1,
     "metadata": {},
     "output_type": "execute_result"
    }
   ],
   "source": [
    "9/9"
   ]
  },
  {
   "cell_type": "code",
   "execution_count": 2,
   "id": "00d2d39b-2729-46d6-90de-26fe38073439",
   "metadata": {},
   "outputs": [
    {
     "data": {
      "text/plain": [
       "8"
      ]
     },
     "execution_count": 2,
     "metadata": {},
     "output_type": "execute_result"
    }
   ],
   "source": [
    "2**3"
   ]
  },
  {
   "cell_type": "code",
   "execution_count": 2,
   "id": "963742da-9503-42f9-8007-7a480cc0b741",
   "metadata": {},
   "outputs": [
    {
     "data": {
      "text/plain": [
       "False"
      ]
     },
     "execution_count": 2,
     "metadata": {},
     "output_type": "execute_result"
    }
   ],
   "source": [
    "3!=3\n"
   ]
  },
  {
   "cell_type": "code",
   "execution_count": 3,
   "id": "b5743fd1-229e-4f9e-b01d-59c4df6ddcc5",
   "metadata": {},
   "outputs": [
    {
     "data": {
      "text/plain": [
       "2"
      ]
     },
     "execution_count": 3,
     "metadata": {},
     "output_type": "execute_result"
    }
   ],
   "source": [
    "a=2\n",
    "a"
   ]
  },
  {
   "cell_type": "code",
   "execution_count": 4,
   "id": "d974dbfa-ca65-43e7-b7f0-0ff86b2bfa7e",
   "metadata": {},
   "outputs": [
    {
     "data": {
      "text/plain": [
       "int"
      ]
     },
     "execution_count": 4,
     "metadata": {},
     "output_type": "execute_result"
    }
   ],
   "source": [
    "type(a)"
   ]
  },
  {
   "cell_type": "code",
   "execution_count": 5,
   "id": "36159c79-a831-4b72-9fa1-7fb5e2d17c26",
   "metadata": {},
   "outputs": [
    {
     "ename": "SyntaxError",
     "evalue": "cannot assign to literal here. Maybe you meant '==' instead of '='? (3405246843.py, line 1)",
     "output_type": "error",
     "traceback": [
      "\u001b[1;36m  Cell \u001b[1;32mIn[5], line 1\u001b[1;36m\u001b[0m\n\u001b[1;33m    3=b\u001b[0m\n\u001b[1;37m    ^\u001b[0m\n\u001b[1;31mSyntaxError\u001b[0m\u001b[1;31m:\u001b[0m cannot assign to literal here. Maybe you meant '==' instead of '='?\n"
     ]
    }
   ],
   "source": [
    "3=b"
   ]
  },
  {
   "cell_type": "code",
   "execution_count": 7,
   "id": "f1e885d9-b590-4bf5-bcce-544f29fd60bb",
   "metadata": {},
   "outputs": [
    {
     "data": {
      "text/plain": [
       "140731452697048"
      ]
     },
     "execution_count": 7,
     "metadata": {},
     "output_type": "execute_result"
    }
   ],
   "source": [
    "id(a)#memory location of variable"
   ]
  },
  {
   "cell_type": "code",
   "execution_count": null,
   "id": "d3de3574-8815-4b6a-9780-5edb65a7ccc0",
   "metadata": {},
   "outputs": [],
   "source": []
  }
 ],
 "metadata": {
  "kernelspec": {
   "display_name": "Python 3 (ipykernel)",
   "language": "python",
   "name": "python3"
  },
  "language_info": {
   "codemirror_mode": {
    "name": "ipython",
    "version": 3
   },
   "file_extension": ".py",
   "mimetype": "text/x-python",
   "name": "python",
   "nbconvert_exporter": "python",
   "pygments_lexer": "ipython3",
   "version": "3.12.7"
  }
 },
 "nbformat": 4,
 "nbformat_minor": 5
}
