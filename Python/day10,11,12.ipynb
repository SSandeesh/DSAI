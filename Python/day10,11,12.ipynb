{
 "cells": [
  {
   "cell_type": "markdown",
   "id": "3e78229f-3e4b-41cc-868e-2ac328fd9537",
   "metadata": {},
   "source": [
    "# Day10\n",
    "- Data Structures\n",
    "- Data types-collection of datatypes\n",
    "- Matrix-collection of datastructures\n",
    "- Data Structures are two types:\n",
    "   - Inbuilt DS- LIST,TUPLE,SET,DICT\n",
    "   - User defined DS-STACK,LINKEDLIST,HEAP,TREE(normally used by some libraries)"
   ]
  },
  {
   "cell_type": "markdown",
   "id": "933c9cae-da2b-4c31-8852-56038627aa82",
   "metadata": {},
   "source": [
    "# LIST\n",
    "- Mutable(can be changed)\n",
    "- Duplication is allowed\n",
    "- List can be filled with multiple datatypes\n"
   ]
  },
  {
   "cell_type": "code",
   "execution_count": 1,
   "id": "38653abf-507f-45d4-8dd3-666f844612c1",
   "metadata": {},
   "outputs": [
    {
     "data": {
      "text/plain": [
       "list"
      ]
     },
     "execution_count": 1,
     "metadata": {},
     "output_type": "execute_result"
    }
   ],
   "source": [
    "l=[]\n",
    "type(l)"
   ]
  },
  {
   "cell_type": "code",
   "execution_count": 2,
   "id": "21bba1a1-c62f-4e18-9672-e6c3a83e4ca1",
   "metadata": {},
   "outputs": [
    {
     "data": {
      "text/plain": [
       "[18]"
      ]
     },
     "execution_count": 2,
     "metadata": {},
     "output_type": "execute_result"
    }
   ],
   "source": [
    "l.append(18)#only one argument allowed\n",
    "l"
   ]
  },
  {
   "cell_type": "code",
   "execution_count": 3,
   "id": "b9573cf8-e03c-47d2-9286-61c9303a38df",
   "metadata": {},
   "outputs": [],
   "source": [
    "l.append(7)\n",
    "l.append(45)"
   ]
  },
  {
   "cell_type": "code",
   "execution_count": 4,
   "id": "44000193-9821-4272-a128-a3e7f201dc63",
   "metadata": {},
   "outputs": [
    {
     "data": {
      "text/plain": [
       "[18, 7, 45]"
      ]
     },
     "execution_count": 4,
     "metadata": {},
     "output_type": "execute_result"
    }
   ],
   "source": [
    "l\n"
   ]
  },
  {
   "cell_type": "code",
   "execution_count": 5,
   "id": "472248ae-33b4-4322-97ef-1f11a7cf064b",
   "metadata": {},
   "outputs": [
    {
     "ename": "TypeError",
     "evalue": "list.append() takes exactly one argument (2 given)",
     "output_type": "error",
     "traceback": [
      "\u001b[1;31m---------------------------------------------------------------------------\u001b[0m",
      "\u001b[1;31mTypeError\u001b[0m                                 Traceback (most recent call last)",
      "Cell \u001b[1;32mIn[5], line 1\u001b[0m\n\u001b[1;32m----> 1\u001b[0m l\u001b[38;5;241m.\u001b[39mappend(\u001b[38;5;241m33\u001b[39m,\u001b[38;5;241m43\u001b[39m)\n",
      "\u001b[1;31mTypeError\u001b[0m: list.append() takes exactly one argument (2 given)"
     ]
    }
   ],
   "source": [
    "l.append(33,43)"
   ]
  },
  {
   "cell_type": "code",
   "execution_count": 6,
   "id": "93782ab4-c97c-4ddb-9c91-e20cb1331b65",
   "metadata": {},
   "outputs": [
    {
     "data": {
      "text/plain": [
       "[18, 7, 45, 45]"
      ]
     },
     "execution_count": 6,
     "metadata": {},
     "output_type": "execute_result"
    }
   ],
   "source": [
    "l.append(45)\n",
    "l"
   ]
  },
  {
   "cell_type": "code",
   "execution_count": 7,
   "id": "219d8b92-0246-4bbc-8206-0170a06ddf7d",
   "metadata": {},
   "outputs": [
    {
     "data": {
      "text/plain": [
       "[18, 7, 45, 45, (3+3j)]"
      ]
     },
     "execution_count": 7,
     "metadata": {},
     "output_type": "execute_result"
    }
   ],
   "source": [
    "l.append(3+3j)\n",
    "l"
   ]
  },
  {
   "cell_type": "code",
   "execution_count": 8,
   "id": "3413823e-fce5-41ac-8372-29e5d8309087",
   "metadata": {},
   "outputs": [
    {
     "data": {
      "text/plain": [
       "[18, 7, 45, 45, (3+3j), 'Hitman']"
      ]
     },
     "execution_count": 8,
     "metadata": {},
     "output_type": "execute_result"
    }
   ],
   "source": [
    "l.append(\"Hitman\")\n",
    "l\n"
   ]
  },
  {
   "cell_type": "code",
   "execution_count": 9,
   "id": "fa369423-f0ae-43d5-9fe3-8271b268a020",
   "metadata": {},
   "outputs": [
    {
     "data": {
      "text/plain": [
       "[18, 7, 45, 45, (3+3j), 'Hitman', [1, 2, 3]]"
      ]
     },
     "execution_count": 9,
     "metadata": {},
     "output_type": "execute_result"
    }
   ],
   "source": [
    "l.append([1,2,3])\n",
    "l"
   ]
  },
  {
   "cell_type": "code",
   "execution_count": 10,
   "id": "c1deefa4-b79b-497a-82ca-a0f16b795e1b",
   "metadata": {},
   "outputs": [
    {
     "name": "stdout",
     "output_type": "stream",
     "text": [
      "18\n",
      "7\n",
      "45\n",
      "45\n",
      "(3+3j)\n",
      "Hitman\n",
      "[1, 2, 3]\n"
     ]
    }
   ],
   "source": [
    "for i in l:\n",
    "    print(i)\n",
    "    "
   ]
  },
  {
   "cell_type": "code",
   "execution_count": 11,
   "id": "b17f2135-02f1-4f46-9b8c-0ba219685118",
   "metadata": {},
   "outputs": [
    {
     "name": "stdout",
     "output_type": "stream",
     "text": [
      "(0, 18)\n",
      "(1, 7)\n",
      "(2, 45)\n",
      "(3, 45)\n",
      "(4, (3+3j))\n",
      "(5, 'Hitman')\n",
      "(6, [1, 2, 3])\n"
     ]
    }
   ],
   "source": [
    "for i in enumerate(l):\n",
    "    print(i)"
   ]
  },
  {
   "cell_type": "code",
   "execution_count": 12,
   "id": "117c1776-1447-4948-b4e6-3a6f8c882d2f",
   "metadata": {},
   "outputs": [
    {
     "data": {
      "text/plain": [
       "[18, 7, 45, 45, (3+3j), 'Hitman', [1, 2, 3]]"
      ]
     },
     "execution_count": 12,
     "metadata": {},
     "output_type": "execute_result"
    }
   ],
   "source": [
    "l[:]\n"
   ]
  },
  {
   "cell_type": "code",
   "execution_count": 13,
   "id": "1c6c0229-4114-4685-9b5a-9280f30c3e9c",
   "metadata": {},
   "outputs": [
    {
     "data": {
      "text/plain": [
       "[1, 2, 3]"
      ]
     },
     "execution_count": 13,
     "metadata": {},
     "output_type": "execute_result"
    }
   ],
   "source": [
    "l[-1]"
   ]
  },
  {
   "cell_type": "code",
   "execution_count": 14,
   "id": "c0cb8d79-dd78-442b-9a07-c68ddf211e7c",
   "metadata": {},
   "outputs": [],
   "source": [
    "l.remove([1,2,3])"
   ]
  },
  {
   "cell_type": "code",
   "execution_count": 15,
   "id": "46076806-b81b-41bd-8004-c73540223c94",
   "metadata": {},
   "outputs": [
    {
     "data": {
      "text/plain": [
       "[18, 7, 45, 45, (3+3j), 'Hitman']"
      ]
     },
     "execution_count": 15,
     "metadata": {},
     "output_type": "execute_result"
    }
   ],
   "source": [
    "l"
   ]
  },
  {
   "cell_type": "code",
   "execution_count": 16,
   "id": "44d753fb-b528-4e86-b35b-dd2808839e6e",
   "metadata": {},
   "outputs": [
    {
     "data": {
      "text/plain": [
       "['Hitman', (3+3j), 45, 45, 7, 18]"
      ]
     },
     "execution_count": 16,
     "metadata": {},
     "output_type": "execute_result"
    }
   ],
   "source": [
    "l[::-1]"
   ]
  },
  {
   "cell_type": "code",
   "execution_count": 17,
   "id": "812b3721-1c48-4012-81c0-05e874254f60",
   "metadata": {},
   "outputs": [
    {
     "data": {
      "text/plain": [
       "[7, 45]"
      ]
     },
     "execution_count": 17,
     "metadata": {},
     "output_type": "execute_result"
    }
   ],
   "source": [
    "l[1:3]#always right side prints upto n-1"
   ]
  },
  {
   "cell_type": "code",
   "execution_count": 18,
   "id": "f35d0e49-20c6-4c79-885f-60f32983bf88",
   "metadata": {},
   "outputs": [
    {
     "data": {
      "text/plain": [
       "[18, 7, 45, 45, (3+3j), 'Hitman']"
      ]
     },
     "execution_count": 18,
     "metadata": {},
     "output_type": "execute_result"
    }
   ],
   "source": [
    "l"
   ]
  },
  {
   "cell_type": "code",
   "execution_count": 19,
   "id": "8182f2b4-4fd9-4b37-b4f1-b33e1cc682b0",
   "metadata": {},
   "outputs": [],
   "source": [
    "l[3]=33"
   ]
  },
  {
   "cell_type": "code",
   "execution_count": 20,
   "id": "2790b4ae-7438-4dd4-b247-071fc8dbbb9c",
   "metadata": {},
   "outputs": [
    {
     "data": {
      "text/plain": [
       "[18, 7, 45, 33, (3+3j), 'Hitman']"
      ]
     },
     "execution_count": 20,
     "metadata": {},
     "output_type": "execute_result"
    }
   ],
   "source": [
    "l"
   ]
  },
  {
   "cell_type": "code",
   "execution_count": 23,
   "id": "4948c32c-1d30-4028-a117-415bb53f0674",
   "metadata": {},
   "outputs": [
    {
     "data": {
      "text/plain": [
       "[18, 7, 45, 33, (3+3j), 'Hitman', 45, 45]"
      ]
     },
     "execution_count": 23,
     "metadata": {},
     "output_type": "execute_result"
    }
   ],
   "source": [
    "l.append(45)\n",
    "l"
   ]
  },
  {
   "cell_type": "code",
   "execution_count": 24,
   "id": "923449a3-a4c3-4435-8f0c-368ec2a40b27",
   "metadata": {},
   "outputs": [],
   "source": [
    "li=[]"
   ]
  },
  {
   "cell_type": "code",
   "execution_count": 25,
   "id": "46a83b44-2f88-4324-9bc2-f3e614f806dd",
   "metadata": {},
   "outputs": [
    {
     "data": {
      "text/plain": [
       "list"
      ]
     },
     "execution_count": 25,
     "metadata": {},
     "output_type": "execute_result"
    }
   ],
   "source": [
    "type(li)"
   ]
  },
  {
   "cell_type": "code",
   "execution_count": 26,
   "id": "fff6152f-e151-4828-b673-ff291e948f75",
   "metadata": {},
   "outputs": [],
   "source": [
    "li.append(7)\n",
    "li.append(18)\n",
    "li.append(45)"
   ]
  },
  {
   "cell_type": "code",
   "execution_count": 27,
   "id": "013a5877-5e4d-4483-b298-2d5bb013054e",
   "metadata": {},
   "outputs": [
    {
     "data": {
      "text/plain": [
       "[7, 18, 45]"
      ]
     },
     "execution_count": 27,
     "metadata": {},
     "output_type": "execute_result"
    }
   ],
   "source": [
    "li"
   ]
  },
  {
   "cell_type": "code",
   "execution_count": 28,
   "id": "19c19f73-33f6-44d5-a918-d705225016b8",
   "metadata": {},
   "outputs": [],
   "source": [
    "li2=[]"
   ]
  },
  {
   "cell_type": "code",
   "execution_count": 29,
   "id": "4aa906ae-fb7a-41c4-afdd-7a5df5511b1d",
   "metadata": {},
   "outputs": [],
   "source": [
    "li2=li.copy()"
   ]
  },
  {
   "cell_type": "code",
   "execution_count": 30,
   "id": "0edd19b7-64c0-430f-97fa-0470e5ed1606",
   "metadata": {},
   "outputs": [
    {
     "data": {
      "text/plain": [
       "[7, 18, 45]"
      ]
     },
     "execution_count": 30,
     "metadata": {},
     "output_type": "execute_result"
    }
   ],
   "source": [
    "li2"
   ]
  },
  {
   "cell_type": "code",
   "execution_count": 31,
   "id": "beaa4e49-fde2-41c0-8da4-af2940d91411",
   "metadata": {},
   "outputs": [
    {
     "name": "stdout",
     "output_type": "stream",
     "text": [
      "2310587334592\n",
      "2310596034944\n"
     ]
    }
   ],
   "source": [
    "print(id(li))\n",
    "print(id(li2))"
   ]
  },
  {
   "cell_type": "markdown",
   "id": "7c274076-d26d-4d5e-a2ea-b443b00b175d",
   "metadata": {},
   "source": [
    "# Day-11 "
   ]
  },
  {
   "cell_type": "code",
   "execution_count": 32,
   "id": "7688a1b8-c88f-402b-906c-0d51214a360e",
   "metadata": {},
   "outputs": [],
   "source": [
    "li.append(45)"
   ]
  },
  {
   "cell_type": "code",
   "execution_count": 33,
   "id": "2d0dc62a-ed0b-4b32-8738-43f724cc9e1a",
   "metadata": {},
   "outputs": [
    {
     "data": {
      "text/plain": [
       "2"
      ]
     },
     "execution_count": 33,
     "metadata": {},
     "output_type": "execute_result"
    }
   ],
   "source": [
    "li.count(45)"
   ]
  },
  {
   "cell_type": "code",
   "execution_count": 34,
   "id": "759c851d-5ba5-41d8-b10d-2e1f36d4be9a",
   "metadata": {},
   "outputs": [
    {
     "data": {
      "text/plain": [
       "[7, 18, 45, 45]"
      ]
     },
     "execution_count": 34,
     "metadata": {},
     "output_type": "execute_result"
    }
   ],
   "source": [
    "  li"
   ]
  },
  {
   "cell_type": "code",
   "execution_count": 35,
   "id": "a53cf372-2e64-4e00-bcc6-64669db767ec",
   "metadata": {},
   "outputs": [],
   "source": [
    "li[3]=33"
   ]
  },
  {
   "cell_type": "code",
   "execution_count": 36,
   "id": "1c1b59cc-cb82-4411-99e2-aac93fbfbf49",
   "metadata": {},
   "outputs": [
    {
     "data": {
      "text/plain": [
       "[7, 18, 45, 33]"
      ]
     },
     "execution_count": 36,
     "metadata": {},
     "output_type": "execute_result"
    }
   ],
   "source": [
    "li\n"
   ]
  },
  {
   "cell_type": "code",
   "execution_count": 37,
   "id": "740da819-960f-49ad-88cc-b564ba9993f7",
   "metadata": {},
   "outputs": [],
   "source": [
    "li.append(10)"
   ]
  },
  {
   "cell_type": "code",
   "execution_count": 38,
   "id": "85ddc6af-8ce6-4b88-a6b5-2ed5cd609b98",
   "metadata": {},
   "outputs": [
    {
     "data": {
      "text/plain": [
       "[7, 18, 45, 33, 10]"
      ]
     },
     "execution_count": 38,
     "metadata": {},
     "output_type": "execute_result"
    }
   ],
   "source": [
    "li"
   ]
  },
  {
   "cell_type": "code",
   "execution_count": 39,
   "id": "3c9c50b5-541a-497c-9ee6-8cda26aa3841",
   "metadata": {},
   "outputs": [],
   "source": [
    "li.clear()"
   ]
  },
  {
   "cell_type": "code",
   "execution_count": 40,
   "id": "b7b1492e-0496-4a52-ae0f-8d58d009ec61",
   "metadata": {},
   "outputs": [
    {
     "data": {
      "text/plain": [
       "[]"
      ]
     },
     "execution_count": 40,
     "metadata": {},
     "output_type": "execute_result"
    }
   ],
   "source": [
    "li"
   ]
  },
  {
   "cell_type": "code",
   "execution_count": 41,
   "id": "332cb29b-179e-4ad3-9756-44f55830110d",
   "metadata": {},
   "outputs": [],
   "source": [
    "li.append(1)\n",
    "li.append(2)\n",
    "li.append(\"hitman\")\n",
    "li.append(1+2j)"
   ]
  },
  {
   "cell_type": "code",
   "execution_count": 42,
   "id": "16101a63-7183-43bf-9d05-66c9a160a486",
   "metadata": {},
   "outputs": [
    {
     "data": {
      "text/plain": [
       "[1, 2, 'hitman', (1+2j)]"
      ]
     },
     "execution_count": 42,
     "metadata": {},
     "output_type": "execute_result"
    }
   ],
   "source": [
    "(li)"
   ]
  },
  {
   "cell_type": "code",
   "execution_count": 43,
   "id": "10aee93b-35f0-41a6-9fa0-7436f1d5be7c",
   "metadata": {},
   "outputs": [],
   "source": [
    "li.remove(1)"
   ]
  },
  {
   "cell_type": "code",
   "execution_count": 44,
   "id": "f281514f-cfe4-430b-ab75-d4e9240356b3",
   "metadata": {},
   "outputs": [
    {
     "data": {
      "text/plain": [
       "[2, 'hitman', (1+2j)]"
      ]
     },
     "execution_count": 44,
     "metadata": {},
     "output_type": "execute_result"
    }
   ],
   "source": [
    "li"
   ]
  },
  {
   "cell_type": "markdown",
   "id": "05c4b701-db80-4d3e-b84a-858fd1dc90fa",
   "metadata": {},
   "source": [
    "# Day-12"
   ]
  },
  {
   "cell_type": "code",
   "execution_count": 45,
   "id": "8d840003-12b2-41c6-94ff-b472c29838df",
   "metadata": {},
   "outputs": [],
   "source": [
    "a=[7,18,33,45,\"hitman\",\"king\"]"
   ]
  },
  {
   "cell_type": "code",
   "execution_count": 46,
   "id": "a1b60dcd-5cac-4d39-9990-6c1e97c06315",
   "metadata": {},
   "outputs": [],
   "source": [
    "a.clear()"
   ]
  },
  {
   "cell_type": "code",
   "execution_count": 47,
   "id": "0aeccf61-2101-42ae-94e9-f5f4b8f8b15c",
   "metadata": {},
   "outputs": [
    {
     "data": {
      "text/plain": [
       "[]"
      ]
     },
     "execution_count": 47,
     "metadata": {},
     "output_type": "execute_result"
    }
   ],
   "source": [
    "a"
   ]
  },
  {
   "cell_type": "code",
   "execution_count": 48,
   "id": "9ccdbbad-9854-4538-a74f-4357e3e5cc3f",
   "metadata": {},
   "outputs": [],
   "source": [
    "a=[7,18,33,45,\"hitman\",\"king\"]"
   ]
  },
  {
   "cell_type": "code",
   "execution_count": 49,
   "id": "e41c56dc-d51d-4691-af25-7c0555dc444d",
   "metadata": {},
   "outputs": [
    {
     "data": {
      "text/plain": [
       "18"
      ]
     },
     "execution_count": 49,
     "metadata": {},
     "output_type": "execute_result"
    }
   ],
   "source": [
    "a.pop(1)"
   ]
  },
  {
   "cell_type": "code",
   "execution_count": 52,
   "id": "8a907fcc-6647-4285-ad8f-db2f840906ce",
   "metadata": {},
   "outputs": [
    {
     "ename": "IndexError",
     "evalue": "pop index out of range",
     "output_type": "error",
     "traceback": [
      "\u001b[1;31m---------------------------------------------------------------------------\u001b[0m",
      "\u001b[1;31mIndexError\u001b[0m                                Traceback (most recent call last)",
      "Cell \u001b[1;32mIn[52], line 1\u001b[0m\n\u001b[1;32m----> 1\u001b[0m a\u001b[38;5;241m.\u001b[39mpop(\u001b[38;5;241m18\u001b[39m)\n",
      "\u001b[1;31mIndexError\u001b[0m: pop index out of range"
     ]
    }
   ],
   "source": [
    "a.pop(18)# Index-argument"
   ]
  },
  {
   "cell_type": "code",
   "execution_count": 53,
   "id": "4e639472-04e2-472d-8628-48b2289f9912",
   "metadata": {},
   "outputs": [
    {
     "data": {
      "text/plain": [
       "[7, 33, 45, 'hitman', 'king']"
      ]
     },
     "execution_count": 53,
     "metadata": {},
     "output_type": "execute_result"
    }
   ],
   "source": [
    "a"
   ]
  },
  {
   "cell_type": "code",
   "execution_count": 54,
   "id": "4109467d-3549-4e86-a55f-07d1c047419c",
   "metadata": {},
   "outputs": [],
   "source": [
    "a.remove(33)"
   ]
  },
  {
   "cell_type": "code",
   "execution_count": 55,
   "id": "8bf064d4-ad13-42d4-a69c-cd1ab7435395",
   "metadata": {},
   "outputs": [
    {
     "data": {
      "text/plain": [
       "[7, 45, 'hitman', 'king']"
      ]
     },
     "execution_count": 55,
     "metadata": {},
     "output_type": "execute_result"
    }
   ],
   "source": [
    "a"
   ]
  },
  {
   "cell_type": "code",
   "execution_count": 56,
   "id": "cfdcc86d-fbd2-4aa5-8c28-0a98e4f8a579",
   "metadata": {},
   "outputs": [],
   "source": [
    "a.insert(1,18)"
   ]
  },
  {
   "cell_type": "code",
   "execution_count": 57,
   "id": "66686218-ee6a-4d03-9c9b-57df66f8454d",
   "metadata": {},
   "outputs": [
    {
     "data": {
      "text/plain": [
       "[7, 18, 45, 'hitman', 'king']"
      ]
     },
     "execution_count": 57,
     "metadata": {},
     "output_type": "execute_result"
    }
   ],
   "source": [
    "a"
   ]
  },
  {
   "cell_type": "code",
   "execution_count": 58,
   "id": "c6981ea1-af02-4784-b1cb-a7805dfcd3dc",
   "metadata": {},
   "outputs": [],
   "source": [
    "s=[]\n",
    "s=a.copy()"
   ]
  },
  {
   "cell_type": "code",
   "execution_count": 59,
   "id": "4537ff82-110e-43c2-931c-74b68dae7066",
   "metadata": {},
   "outputs": [
    {
     "data": {
      "text/plain": [
       "[7, 18, 45, 'hitman', 'king']"
      ]
     },
     "execution_count": 59,
     "metadata": {},
     "output_type": "execute_result"
    }
   ],
   "source": [
    "s\n"
   ]
  },
  {
   "cell_type": "code",
   "execution_count": 60,
   "id": "ef27ed40-cd3e-415d-b4f3-556a04b504fb",
   "metadata": {},
   "outputs": [
    {
     "name": "stdout",
     "output_type": "stream",
     "text": [
      "[7, 18, 45, 'hitman', 'king'] [7, 18, 45, 'hitman', 'king']\n"
     ]
    }
   ],
   "source": [
    "print(a,s)"
   ]
  },
  {
   "cell_type": "code",
   "execution_count": 61,
   "id": "1f847504-1e94-4d6b-b17c-9365e3349f53",
   "metadata": {},
   "outputs": [
    {
     "data": {
      "text/plain": [
       "3"
      ]
     },
     "execution_count": 61,
     "metadata": {},
     "output_type": "execute_result"
    }
   ],
   "source": [
    "s.index(\"hitman\")"
   ]
  },
  {
   "cell_type": "code",
   "execution_count": 62,
   "id": "95e8612d-a798-451e-9b9f-f774d94e44f5",
   "metadata": {},
   "outputs": [
    {
     "data": {
      "text/plain": [
       "'i'"
      ]
     },
     "execution_count": 62,
     "metadata": {},
     "output_type": "execute_result"
    }
   ],
   "source": [
    "(a[3][1])"
   ]
  },
  {
   "cell_type": "code",
   "execution_count": 21,
   "id": "6542b941-6c88-49d5-99ba-35aa6b63b9fe",
   "metadata": {},
   "outputs": [
    {
     "data": {
      "text/plain": [
       "[45, 'hitman']"
      ]
     },
     "execution_count": 21,
     "metadata": {},
     "output_type": "execute_result"
    }
   ],
   "source": [
    "a[2:4]"
   ]
  },
  {
   "cell_type": "code",
   "execution_count": 22,
   "id": "ca8a5129-aa24-4c03-aba0-618cd551a64b",
   "metadata": {
    "scrolled": true
   },
   "outputs": [
    {
     "name": "stdout",
     "output_type": "stream",
     "text": [
      "(0, 7)\n",
      "(1, 18)\n",
      "(2, 45)\n",
      "(3, 'hitman')\n",
      "(4, 'king')\n"
     ]
    }
   ],
   "source": [
    "for i in enumerate(a):\n",
    "    print(i)"
   ]
  },
  {
   "cell_type": "code",
   "execution_count": 23,
   "id": "a203952e-164d-41a5-bd7e-9551e418e48d",
   "metadata": {},
   "outputs": [],
   "source": [
    "a.insert(2,33)"
   ]
  },
  {
   "cell_type": "code",
   "execution_count": 24,
   "id": "0d9c2df1-161d-4e7e-8f0e-ae07916835bc",
   "metadata": {},
   "outputs": [
    {
     "data": {
      "text/plain": [
       "[7, 18, 33, 45, 'hitman', 'king']"
      ]
     },
     "execution_count": 24,
     "metadata": {},
     "output_type": "execute_result"
    }
   ],
   "source": [
    "a"
   ]
  },
  {
   "cell_type": "code",
   "execution_count": 63,
   "id": "9a932177-2122-4611-a991-ba63cf6dec0e",
   "metadata": {},
   "outputs": [
    {
     "ename": "TypeError",
     "evalue": "'<' not supported between instances of 'str' and 'int'",
     "output_type": "error",
     "traceback": [
      "\u001b[1;31m---------------------------------------------------------------------------\u001b[0m",
      "\u001b[1;31mTypeError\u001b[0m                                 Traceback (most recent call last)",
      "Cell \u001b[1;32mIn[63], line 1\u001b[0m\n\u001b[1;32m----> 1\u001b[0m a\u001b[38;5;241m.\u001b[39msort() \u001b[38;5;66;03m# a has both int ans str\u001b[39;00m\n\u001b[0;32m      2\u001b[0m a\n",
      "\u001b[1;31mTypeError\u001b[0m: '<' not supported between instances of 'str' and 'int'"
     ]
    }
   ],
   "source": [
    "a.sort() # a has both int ans str\n",
    "a"
   ]
  },
  {
   "cell_type": "code",
   "execution_count": 27,
   "id": "608c1771-1ddc-40c7-824a-4e56d8f2d95c",
   "metadata": {},
   "outputs": [],
   "source": [
    "a.remove(\"hitman\")"
   ]
  },
  {
   "cell_type": "code",
   "execution_count": 28,
   "id": "a8c83a52-e722-4520-8fac-075875dc678c",
   "metadata": {},
   "outputs": [],
   "source": [
    "a.remove(\"king\")"
   ]
  },
  {
   "cell_type": "code",
   "execution_count": 29,
   "id": "889f963f-9f0a-4d74-b7c6-51243f0822d0",
   "metadata": {},
   "outputs": [
    {
     "data": {
      "text/plain": [
       "[7, 18, 33, 45]"
      ]
     },
     "execution_count": 29,
     "metadata": {},
     "output_type": "execute_result"
    }
   ],
   "source": [
    "a\n"
   ]
  },
  {
   "cell_type": "code",
   "execution_count": 34,
   "id": "e77521c5-5ab8-49c6-b1c6-dca33d785524",
   "metadata": {},
   "outputs": [
    {
     "data": {
      "text/plain": [
       "[7, 18, 33, 45, 100]"
      ]
     },
     "execution_count": 34,
     "metadata": {},
     "output_type": "execute_result"
    }
   ],
   "source": [
    "a.sort()\n",
    "a"
   ]
  },
  {
   "cell_type": "code",
   "execution_count": 32,
   "id": "c9264a2f-eb1d-433e-a0f8-4b3df97b8cd0",
   "metadata": {},
   "outputs": [],
   "source": [
    "a.insert(1,100)"
   ]
  },
  {
   "cell_type": "code",
   "execution_count": 37,
   "id": "8a1eed4c-6e13-4e89-af5d-a8acec346fa3",
   "metadata": {},
   "outputs": [],
   "source": [
    "a.extend((12,34))"
   ]
  },
  {
   "cell_type": "code",
   "execution_count": 38,
   "id": "f1c68864-c3e1-4394-9ac0-cb566eb906b5",
   "metadata": {},
   "outputs": [
    {
     "data": {
      "text/plain": [
       "[7, 18, 33, 45, 100, 12, 34]"
      ]
     },
     "execution_count": 38,
     "metadata": {},
     "output_type": "execute_result"
    }
   ],
   "source": [
    "a"
   ]
  },
  {
   "cell_type": "code",
   "execution_count": 39,
   "id": "a4b44bf8-2670-4522-9e83-898a6b89a08a",
   "metadata": {},
   "outputs": [],
   "source": [
    "a.sort()"
   ]
  },
  {
   "cell_type": "code",
   "execution_count": 40,
   "id": "1eac3caa-2dcb-4383-bc89-218cb8aaf1fa",
   "metadata": {},
   "outputs": [
    {
     "data": {
      "text/plain": [
       "[7, 12, 18, 33, 34, 45, 100]"
      ]
     },
     "execution_count": 40,
     "metadata": {},
     "output_type": "execute_result"
    }
   ],
   "source": [
    "a"
   ]
  },
  {
   "cell_type": "code",
   "execution_count": 41,
   "id": "6c64141a-c58f-4da4-8fe6-c72c9226cb4e",
   "metadata": {},
   "outputs": [],
   "source": [
    "a.reverse()"
   ]
  },
  {
   "cell_type": "code",
   "execution_count": 42,
   "id": "e726952f-eb98-4f80-b34c-ad2ab01169e1",
   "metadata": {},
   "outputs": [
    {
     "data": {
      "text/plain": [
       "[100, 45, 34, 33, 18, 12, 7]"
      ]
     },
     "execution_count": 42,
     "metadata": {},
     "output_type": "execute_result"
    }
   ],
   "source": [
    "a"
   ]
  },
  {
   "cell_type": "code",
   "execution_count": 43,
   "id": "3854ce38-1bbd-435a-bca6-523b52aba704",
   "metadata": {},
   "outputs": [
    {
     "data": {
      "text/plain": [
       "[100, 45, 34, 33, 18, 12, 7]"
      ]
     },
     "execution_count": 43,
     "metadata": {},
     "output_type": "execute_result"
    }
   ],
   "source": [
    "a"
   ]
  },
  {
   "cell_type": "code",
   "execution_count": 44,
   "id": "b3c11033-6e26-4ea0-b1a5-f6e70e491d13",
   "metadata": {},
   "outputs": [],
   "source": [
    "a.extend(s)"
   ]
  },
  {
   "cell_type": "code",
   "execution_count": 45,
   "id": "cad448f3-0929-4849-9149-a497fdbf67e2",
   "metadata": {},
   "outputs": [
    {
     "data": {
      "text/plain": [
       "[100, 45, 34, 33, 18, 12, 7, 7, 18, 45, 'hitman', 'king']"
      ]
     },
     "execution_count": 45,
     "metadata": {},
     "output_type": "execute_result"
    }
   ],
   "source": [
    "a"
   ]
  },
  {
   "cell_type": "code",
   "execution_count": 47,
   "id": "b05dd02d-ded4-4057-a609-0f4652a51771",
   "metadata": {},
   "outputs": [
    {
     "data": {
      "text/plain": [
       "2"
      ]
     },
     "execution_count": 47,
     "metadata": {},
     "output_type": "execute_result"
    }
   ],
   "source": [
    "a.count(7)"
   ]
  },
  {
   "cell_type": "code",
   "execution_count": 49,
   "id": "94b8d3f2-5f83-468f-9f7e-204b36f9f998",
   "metadata": {},
   "outputs": [
    {
     "data": {
      "text/plain": [
       "['king', 'hitman', 45, 18, 7, 7, 12, 18, 33, 34, 45, 100]"
      ]
     },
     "execution_count": 49,
     "metadata": {},
     "output_type": "execute_result"
    }
   ],
   "source": [
    "a.reverse()\n",
    "a"
   ]
  },
  {
   "cell_type": "code",
   "execution_count": 50,
   "id": "5413dbfe-c819-4bf4-83cc-1ae32a015448",
   "metadata": {},
   "outputs": [
    {
     "data": {
      "text/plain": [
       "['king', 'hitman', 45, 18, 7, 7, 12, 18, 33, 34, 45, 100]"
      ]
     },
     "execution_count": 50,
     "metadata": {},
     "output_type": "execute_result"
    }
   ],
   "source": [
    "a"
   ]
  },
  {
   "cell_type": "code",
   "execution_count": 51,
   "id": "0d5eebc0-5827-4125-b5cd-ec97b6984a9e",
   "metadata": {},
   "outputs": [
    {
     "data": {
      "text/plain": [
       "['king', 'hitman', 45, 18, 7, 7, 12, 18, 33, 34, 45, 100]"
      ]
     },
     "execution_count": 51,
     "metadata": {},
     "output_type": "execute_result"
    }
   ],
   "source": [
    "a"
   ]
  },
  {
   "cell_type": "code",
   "execution_count": 55,
   "id": "c9e11ec0-0573-45f3-a987-72758e7f4837",
   "metadata": {},
   "outputs": [
    {
     "name": "stdout",
     "output_type": "stream",
     "text": [
      "Day\n",
      "Topics\n"
     ]
    }
   ],
   "source": [
    "print(\"Day\\nTopics\")"
   ]
  },
  {
   "cell_type": "code",
   "execution_count": 56,
   "id": "0ddb6011-d461-4251-92e2-c5cdcb17634c",
   "metadata": {},
   "outputs": [
    {
     "name": "stdout",
     "output_type": "stream",
     "text": [
      "bay\tof\tbengal\n"
     ]
    }
   ],
   "source": [
    "print(\"bay\\tof\\tbengal\")"
   ]
  },
  {
   "cell_type": "code",
   "execution_count": 59,
   "id": "ad9450bb-8d0e-4975-880a-ccd4353b32a8",
   "metadata": {},
   "outputs": [
    {
     "name": "stdout",
     "output_type": "stream",
     "text": [
      "[1, 2, 3, 4, 5] [4, 5]\n"
     ]
    }
   ],
   "source": [
    "a1=[1,2,3]\n",
    "a2=[4,5]\n",
    "a1.extend(a2)\n",
    "print(a1,a2)"
   ]
  },
  {
   "cell_type": "code",
   "execution_count": 58,
   "id": "4cbd2acc-74ac-46ea-91eb-6133a3c2722a",
   "metadata": {},
   "outputs": [
    {
     "data": {
      "text/plain": [
       "[4, 5]"
      ]
     },
     "execution_count": 58,
     "metadata": {},
     "output_type": "execute_result"
    }
   ],
   "source": [
    "a2"
   ]
  },
  {
   "cell_type": "code",
   "execution_count": 60,
   "id": "42f8ccc2-66aa-493c-a01d-b6acffe58347",
   "metadata": {},
   "outputs": [],
   "source": [
    "a1.sort(reverse=True)"
   ]
  },
  {
   "cell_type": "code",
   "execution_count": 61,
   "id": "6cd5f0af-db6c-431a-8af1-38ead81e7544",
   "metadata": {},
   "outputs": [
    {
     "data": {
      "text/plain": [
       "[5, 4, 3, 2, 1]"
      ]
     },
     "execution_count": 61,
     "metadata": {},
     "output_type": "execute_result"
    }
   ],
   "source": [
    "a1"
   ]
  },
  {
   "cell_type": "code",
   "execution_count": 62,
   "id": "fa20678f-b6ef-40ed-ae0e-91add23a0344",
   "metadata": {},
   "outputs": [
    {
     "data": {
      "text/plain": [
       "[]"
      ]
     },
     "execution_count": 62,
     "metadata": {},
     "output_type": "execute_result"
    }
   ],
   "source": [
    "lp=[]\n",
    "lp\n"
   ]
  },
  {
   "cell_type": "code",
   "execution_count": 63,
   "id": "dbbca524-475e-42c7-ad54-ab8d97206b3b",
   "metadata": {},
   "outputs": [
    {
     "data": {
      "text/plain": [
       "[1, 2, 'hitman', (1+2j)]"
      ]
     },
     "execution_count": 63,
     "metadata": {},
     "output_type": "execute_result"
    }
   ],
   "source": [
    "lp.append(1)\n",
    "lp.append(2)\n",
    "lp.append(\"hitman\")\n",
    "lp.append(1+2j)\n",
    "lp"
   ]
  },
  {
   "cell_type": "code",
   "execution_count": 64,
   "id": "b1f4f205-b960-4933-b907-425d9d27594b",
   "metadata": {},
   "outputs": [
    {
     "data": {
      "text/plain": [
       "[1, 2, 'hitman', (1+2j)]"
      ]
     },
     "execution_count": 64,
     "metadata": {},
     "output_type": "execute_result"
    }
   ],
   "source": [
    "lp2=[]\n",
    "lp2=lp.copy()\n",
    "lp2"
   ]
  },
  {
   "cell_type": "code",
   "execution_count": 65,
   "id": "11c5e731-2a2d-4207-b4fa-fc03429de910",
   "metadata": {},
   "outputs": [],
   "source": [
    "lp.reverse()"
   ]
  },
  {
   "cell_type": "code",
   "execution_count": 66,
   "id": "173ff02f-3ef0-43c1-bfe8-8c905ec0ca6b",
   "metadata": {},
   "outputs": [
    {
     "data": {
      "text/plain": [
       "[(1+2j), 'hitman', 2, 1]"
      ]
     },
     "execution_count": 66,
     "metadata": {},
     "output_type": "execute_result"
    }
   ],
   "source": [
    "lp"
   ]
  },
  {
   "cell_type": "code",
   "execution_count": 67,
   "id": "6f3e8a62-9889-45f7-8594-70fe0755eb9e",
   "metadata": {},
   "outputs": [
    {
     "data": {
      "text/plain": [
       "'hitman'"
      ]
     },
     "execution_count": 67,
     "metadata": {},
     "output_type": "execute_result"
    }
   ],
   "source": [
    "lp.pop(1)"
   ]
  },
  {
   "cell_type": "code",
   "execution_count": 68,
   "id": "50274143-3f3b-455b-949f-b723fc8a5ba2",
   "metadata": {},
   "outputs": [
    {
     "data": {
      "text/plain": [
       "[(1+2j), 2, 1]"
      ]
     },
     "execution_count": 68,
     "metadata": {},
     "output_type": "execute_result"
    }
   ],
   "source": [
    "lp"
   ]
  },
  {
   "cell_type": "code",
   "execution_count": 69,
   "id": "d9d40415-5481-4de2-884a-c39ae4d8a490",
   "metadata": {},
   "outputs": [],
   "source": [
    "lp.remove((1+2j))"
   ]
  },
  {
   "cell_type": "code",
   "execution_count": 70,
   "id": "16802f08-bb00-49f2-ad76-cd9be921d5fd",
   "metadata": {},
   "outputs": [
    {
     "data": {
      "text/plain": [
       "[2, 1]"
      ]
     },
     "execution_count": 70,
     "metadata": {},
     "output_type": "execute_result"
    }
   ],
   "source": [
    "lp"
   ]
  },
  {
   "cell_type": "code",
   "execution_count": 73,
   "id": "69b83db4-ce2d-4a15-8454-1821e0f0b88e",
   "metadata": {},
   "outputs": [
    {
     "data": {
      "text/plain": [
       "[1, 2, 10, 10, 10, 76, 76, 76]"
      ]
     },
     "execution_count": 73,
     "metadata": {},
     "output_type": "execute_result"
    }
   ],
   "source": [
    "lp.append(10)\n",
    "lp.append(76)\n",
    "lp.sort()\n",
    "lp"
   ]
  },
  {
   "cell_type": "code",
   "execution_count": 78,
   "id": "8f93f9c7-d3a7-4d4a-abe0-d4a31dc6412e",
   "metadata": {},
   "outputs": [
    {
     "data": {
      "text/plain": [
       "3"
      ]
     },
     "execution_count": 78,
     "metadata": {},
     "output_type": "execute_result"
    }
   ],
   "source": [
    "lp.count(76)\n"
   ]
  },
  {
   "cell_type": "code",
   "execution_count": 79,
   "id": "42f72f21-aca0-4995-bcbb-ea6417b92a48",
   "metadata": {},
   "outputs": [],
   "source": [
    "lp.clear()"
   ]
  },
  {
   "cell_type": "code",
   "execution_count": 81,
   "id": "cb5063fb-09a6-4d49-8d42-661f602c81dd",
   "metadata": {},
   "outputs": [
    {
     "data": {
      "text/plain": [
       "[]"
      ]
     },
     "execution_count": 81,
     "metadata": {},
     "output_type": "execute_result"
    }
   ],
   "source": [
    "lp"
   ]
  },
  {
   "cell_type": "code",
   "execution_count": 83,
   "id": "5042a0b6-3ffa-4783-a9ad-3d1798938b9d",
   "metadata": {},
   "outputs": [],
   "source": [
    "lp.append(9)"
   ]
  },
  {
   "cell_type": "code",
   "execution_count": 84,
   "id": "ddef8b55-73da-49ab-a14d-18f3983c323c",
   "metadata": {},
   "outputs": [],
   "source": [
    "lp.extend(s)"
   ]
  },
  {
   "cell_type": "code",
   "execution_count": 85,
   "id": "c444885e-dd3d-4e18-89b3-88305dfcba33",
   "metadata": {},
   "outputs": [
    {
     "data": {
      "text/plain": [
       "[9, 9, 7, 18, 45, 'hitman', 'king']"
      ]
     },
     "execution_count": 85,
     "metadata": {},
     "output_type": "execute_result"
    }
   ],
   "source": [
    "lp"
   ]
  },
  {
   "cell_type": "code",
   "execution_count": 86,
   "id": "5561c3d9-743e-4c2d-9e9c-da9221aabf75",
   "metadata": {},
   "outputs": [
    {
     "data": {
      "text/plain": [
       "0"
      ]
     },
     "execution_count": 86,
     "metadata": {},
     "output_type": "execute_result"
    }
   ],
   "source": [
    "lp.index(9)"
   ]
  },
  {
   "cell_type": "code",
   "execution_count": 87,
   "id": "75065f78-1925-4f1b-8bab-3167261e0aae",
   "metadata": {},
   "outputs": [],
   "source": [
    "lp.insert(2,\"animal\")"
   ]
  },
  {
   "cell_type": "code",
   "execution_count": 88,
   "id": "90ec33f9-2c42-44de-a3aa-70b8e81757d1",
   "metadata": {},
   "outputs": [
    {
     "data": {
      "text/plain": [
       "[9, 9, 'animal', 7, 18, 45, 'hitman', 'king']"
      ]
     },
     "execution_count": 88,
     "metadata": {},
     "output_type": "execute_result"
    }
   ],
   "source": [
    "lp"
   ]
  },
  {
   "cell_type": "code",
   "execution_count": 89,
   "id": "8a4ecc55-956d-4ce7-98c9-cc1a64ca6e88",
   "metadata": {},
   "outputs": [],
   "source": [
    "ld=[1,2,(1,2,3)]"
   ]
  },
  {
   "cell_type": "code",
   "execution_count": 90,
   "id": "83a28f2c-bcbe-4f3b-a5ea-41d9ddbaf9a2",
   "metadata": {},
   "outputs": [],
   "source": [
    "ld.remove((1,2,3))"
   ]
  },
  {
   "cell_type": "code",
   "execution_count": 91,
   "id": "ccde1ac5-181c-483f-8703-f8f6af6f371e",
   "metadata": {},
   "outputs": [
    {
     "data": {
      "text/plain": [
       "[1, 2]"
      ]
     },
     "execution_count": 91,
     "metadata": {},
     "output_type": "execute_result"
    }
   ],
   "source": [
    "ld"
   ]
  },
  {
   "cell_type": "code",
   "execution_count": null,
   "id": "84d2a06d-f28a-4479-9a80-b7e681375943",
   "metadata": {},
   "outputs": [],
   "source": []
  }
 ],
 "metadata": {
  "kernelspec": {
   "display_name": "Python 3 (ipykernel)",
   "language": "python",
   "name": "python3"
  },
  "language_info": {
   "codemirror_mode": {
    "name": "ipython",
    "version": 3
   },
   "file_extension": ".py",
   "mimetype": "text/x-python",
   "name": "python",
   "nbconvert_exporter": "python",
   "pygments_lexer": "ipython3",
   "version": "3.12.7"
  }
 },
 "nbformat": 4,
 "nbformat_minor": 5
}
