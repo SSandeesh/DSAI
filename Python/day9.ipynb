{
 "cells": [
  {
   "cell_type": "markdown",
   "id": "2b840f3c-cf29-4c16-9503-2c97fa0ec339",
   "metadata": {},
   "source": [
    "# Day-9\n"
   ]
  },
  {
   "cell_type": "markdown",
   "id": "44fd2679-34c1-4968-8080-b4520de9349c",
   "metadata": {},
   "source": [
    "- About Python TypeCasting\n",
    "- From all other datatypes to INT possible except complex & String with text\n",
    "- From all other datatypes to FLOAT possible except complex & String with text\n",
    "- From all other datatypes to COMPLEX possible except String with text\n",
    "- From all other datatypes to BOOL possible without any issue\n",
    "- Github account creation"
   ]
  },
  {
   "cell_type": "code",
   "execution_count": 20,
   "id": "185a8adc-874c-43df-95b1-59777a7da132",
   "metadata": {},
   "outputs": [
    {
     "data": {
      "text/plain": [
       "4"
      ]
     },
     "execution_count": 20,
     "metadata": {},
     "output_type": "execute_result"
    }
   ],
   "source": [
    "int(4.5)#only one argument is allowed"
   ]
  },
  {
   "cell_type": "code",
   "execution_count": 21,
   "id": "24b789b9-54ec-4df3-aa17-7fb5c3367122",
   "metadata": {},
   "outputs": [
    {
     "ename": "TypeError",
     "evalue": "'float' object cannot be interpreted as an integer",
     "output_type": "error",
     "traceback": [
      "\u001b[1;31m---------------------------------------------------------------------------\u001b[0m",
      "\u001b[1;31mTypeError\u001b[0m                                 Traceback (most recent call last)",
      "Cell \u001b[1;32mIn[21], line 1\u001b[0m\n\u001b[1;32m----> 1\u001b[0m \u001b[38;5;28mint\u001b[39m(\u001b[38;5;241m4.5\u001b[39m,\u001b[38;5;241m1.8\u001b[39m)\n",
      "\u001b[1;31mTypeError\u001b[0m: 'float' object cannot be interpreted as an integer"
     ]
    }
   ],
   "source": [
    "int(4.5,1.8)"
   ]
  },
  {
   "cell_type": "code",
   "execution_count": 22,
   "id": "72c3111a-be58-4561-8831-580de69f7cff",
   "metadata": {},
   "outputs": [
    {
     "data": {
      "text/plain": [
       "1"
      ]
     },
     "execution_count": 22,
     "metadata": {},
     "output_type": "execute_result"
    }
   ],
   "source": [
    "int(True)"
   ]
  },
  {
   "cell_type": "code",
   "execution_count": 23,
   "id": "9e9fdeba-ba1c-46d1-a97b-dc501ba47651",
   "metadata": {},
   "outputs": [
    {
     "ename": "TypeError",
     "evalue": "int() argument must be a string, a bytes-like object or a real number, not 'complex'",
     "output_type": "error",
     "traceback": [
      "\u001b[1;31m---------------------------------------------------------------------------\u001b[0m",
      "\u001b[1;31mTypeError\u001b[0m                                 Traceback (most recent call last)",
      "Cell \u001b[1;32mIn[23], line 1\u001b[0m\n\u001b[1;32m----> 1\u001b[0m \u001b[38;5;28mint\u001b[39m(\u001b[38;5;241m2\u001b[39m\u001b[38;5;241m+\u001b[39m\u001b[38;5;241m3\u001b[39mj)\n",
      "\u001b[1;31mTypeError\u001b[0m: int() argument must be a string, a bytes-like object or a real number, not 'complex'"
     ]
    }
   ],
   "source": [
    "int(2+3j)#complex to int - not possible"
   ]
  },
  {
   "cell_type": "code",
   "execution_count": 24,
   "id": "ccaf6337-cd51-4064-8ce9-0018a68e56ca",
   "metadata": {},
   "outputs": [
    {
     "data": {
      "text/plain": [
       "10"
      ]
     },
     "execution_count": 24,
     "metadata": {},
     "output_type": "execute_result"
    }
   ],
   "source": [
    "int(\"10\")"
   ]
  },
  {
   "cell_type": "code",
   "execution_count": 25,
   "id": "0044db27-4853-41a5-b097-198da06ea456",
   "metadata": {},
   "outputs": [
    {
     "data": {
      "text/plain": [
       "10.0"
      ]
     },
     "execution_count": 25,
     "metadata": {},
     "output_type": "execute_result"
    }
   ],
   "source": [
    "float(10)\n"
   ]
  },
  {
   "cell_type": "code",
   "execution_count": 26,
   "id": "21a835bb-8e11-43b7-90e3-2ba633aee813",
   "metadata": {},
   "outputs": [
    {
     "data": {
      "text/plain": [
       "0.0"
      ]
     },
     "execution_count": 26,
     "metadata": {},
     "output_type": "execute_result"
    }
   ],
   "source": [
    "float(False)"
   ]
  },
  {
   "cell_type": "code",
   "execution_count": 27,
   "id": "c556de88-b4f4-4edb-9207-bfe75d65be33",
   "metadata": {},
   "outputs": [
    {
     "data": {
      "text/plain": [
       "(45+0j)"
      ]
     },
     "execution_count": 27,
     "metadata": {},
     "output_type": "execute_result"
    }
   ],
   "source": [
    "complex(45)"
   ]
  },
  {
   "cell_type": "code",
   "execution_count": 28,
   "id": "28062db4-72f7-4a47-9485-e3ae2d2a1571",
   "metadata": {},
   "outputs": [
    {
     "data": {
      "text/plain": [
       "(45+18j)"
      ]
     },
     "execution_count": 28,
     "metadata": {},
     "output_type": "execute_result"
    }
   ],
   "source": [
    "complex(45,18)"
   ]
  },
  {
   "cell_type": "code",
   "execution_count": 29,
   "id": "1fe02c93-4839-472c-88d7-222e8f98f728",
   "metadata": {},
   "outputs": [
    {
     "name": "stdout",
     "output_type": "stream",
     "text": [
      "(4.5+0j)\n",
      "(4.5+18j)\n",
      "(1+0j)\n",
      "(45+0j)\n"
     ]
    }
   ],
   "source": [
    "print(complex(4.5))\n",
    "print(complex(4.5,18))\n",
    "print(complex(True,False))\n",
    "print(complex(\"45\"))"
   ]
  },
  {
   "cell_type": "code",
   "execution_count": 30,
   "id": "e662ad38-cbe3-4858-995c-5c577e606163",
   "metadata": {},
   "outputs": [
    {
     "data": {
      "text/plain": [
       "(True, False)"
      ]
     },
     "execution_count": 30,
     "metadata": {},
     "output_type": "execute_result"
    }
   ],
   "source": [
    "bool(1),bool(0)"
   ]
  },
  {
   "cell_type": "code",
   "execution_count": 31,
   "id": "1c456c67-1d8b-4456-b8a8-29d8e9966b18",
   "metadata": {},
   "outputs": [
    {
     "data": {
      "text/plain": [
       "(True, False)"
      ]
     },
     "execution_count": 31,
     "metadata": {},
     "output_type": "execute_result"
    }
   ],
   "source": [
    "bool(1+2j),bool(0+0j)"
   ]
  },
  {
   "cell_type": "code",
   "execution_count": 32,
   "id": "91c6c385-0f98-4547-a076-adb9ff9b81b8",
   "metadata": {},
   "outputs": [
    {
     "data": {
      "text/plain": [
       "False"
      ]
     },
     "execution_count": 32,
     "metadata": {},
     "output_type": "execute_result"
    }
   ],
   "source": [
    "bool()"
   ]
  },
  {
   "cell_type": "code",
   "execution_count": 33,
   "id": "a7a3b9d3-a37a-4ea4-94a6-a42fd7b1e3c1",
   "metadata": {},
   "outputs": [
    {
     "data": {
      "text/plain": [
       "(True, True)"
      ]
     },
     "execution_count": 33,
     "metadata": {},
     "output_type": "execute_result"
    }
   ],
   "source": [
    "bool(\"45\"),bool(\"HitMan\")\n"
   ]
  },
  {
   "cell_type": "code",
   "execution_count": null,
   "id": "950e0fa9-873d-4df4-b6ec-a66643378ef2",
   "metadata": {},
   "outputs": [],
   "source": []
  }
 ],
 "metadata": {
  "kernelspec": {
   "display_name": "Python 3 (ipykernel)",
   "language": "python",
   "name": "python3"
  },
  "language_info": {
   "codemirror_mode": {
    "name": "ipython",
    "version": 3
   },
   "file_extension": ".py",
   "mimetype": "text/x-python",
   "name": "python",
   "nbconvert_exporter": "python",
   "pygments_lexer": "ipython3",
   "version": "3.12.7"
  }
 },
 "nbformat": 4,
 "nbformat_minor": 5
}
