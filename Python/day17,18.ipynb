{
 "cells": [
  {
   "cell_type": "markdown",
   "id": "4e5a2ce0-718b-4864-8e89-ba505a90367e",
   "metadata": {},
   "source": [
    "# Day-17 (26May-H 27May)"
   ]
  },
  {
   "cell_type": "markdown",
   "id": "9ef68183-b71a-4993-a9fe-dc1307a35d30",
   "metadata": {},
   "source": [
    "- Discussed about Operators\n",
    "  - Arithematic operator (+ - * / // %)\n",
    "  - Assignment operator += -= *= /= //=\n",
    "  - Unary operator -\n",
    "  - Relational operator >= <=\n",
    "  - Logical operator  AND OR NOT\n",
    "  - Bitwize operator\n",
    "- NUMBER SYSTEM CONVERSION\n",
    "    - bin-0b\n",
    "    - oct-0o\n",
    "    - dec-0x\n",
    "    - hex-0xabcdef\n",
    "- fine to dine\n",
    "- program to swap two numbers"
   ]
  },
  {
   "cell_type": "code",
   "execution_count": 1,
   "id": "5f956198-119b-4f79-9abb-1a96594d5bbd",
   "metadata": {},
   "outputs": [
    {
     "data": {
      "text/plain": [
       "'nitnit'"
      ]
     },
     "execution_count": 1,
     "metadata": {},
     "output_type": "execute_result"
    }
   ],
   "source": [
    "\"nit\"+\"nit\""
   ]
  },
  {
   "cell_type": "code",
   "execution_count": 2,
   "id": "ab6fbcb1-3223-4232-a656-1abe44ea1dbc",
   "metadata": {},
   "outputs": [],
   "source": [
    "y=7"
   ]
  },
  {
   "cell_type": "code",
   "execution_count": 5,
   "id": "3743f6cf-b901-4bff-bfd4-a51996d434f7",
   "metadata": {
    "scrolled": true
   },
   "outputs": [
    {
     "ename": "TypeError",
     "evalue": "can only concatenate str (not \"int\") to str",
     "output_type": "error",
     "traceback": [
      "\u001b[1;31m---------------------------------------------------------------------------\u001b[0m",
      "\u001b[1;31mTypeError\u001b[0m                                 Traceback (most recent call last)",
      "Cell \u001b[1;32mIn[5], line 1\u001b[0m\n\u001b[1;32m----> 1\u001b[0m \u001b[38;5;124m\"\u001b[39m\u001b[38;5;124m_\u001b[39m\u001b[38;5;124m\"\u001b[39m\u001b[38;5;241m+\u001b[39my\n",
      "\u001b[1;31mTypeError\u001b[0m: can only concatenate str (not \"int\") to str"
     ]
    }
   ],
   "source": [
    "\"_\"+y # in python \"_\" means stores previous value"
   ]
  },
  {
   "cell_type": "code",
   "execution_count": 1,
   "id": "16d30e4f-6762-415e-b6ab-5bc66465208d",
   "metadata": {},
   "outputs": [],
   "source": [
    "#string is immutable"
   ]
  },
  {
   "cell_type": "code",
   "execution_count": 6,
   "id": "97c83b94-0cd8-4263-b989-715a7214f8e2",
   "metadata": {},
   "outputs": [],
   "source": [
    "name=\"fine\""
   ]
  },
  {
   "cell_type": "code",
   "execution_count": 7,
   "id": "17b41d0b-4f18-4366-883a-3a99869d6c28",
   "metadata": {},
   "outputs": [],
   "source": [
    "name1=name[1:]"
   ]
  },
  {
   "cell_type": "code",
   "execution_count": 9,
   "id": "6a41f529-e481-4b61-846d-653e6e9e1b7a",
   "metadata": {},
   "outputs": [
    {
     "data": {
      "text/plain": [
       "'dine'"
      ]
     },
     "execution_count": 9,
     "metadata": {},
     "output_type": "execute_result"
    }
   ],
   "source": [
    "\"d\"+name1"
   ]
  },
  {
   "cell_type": "code",
   "execution_count": 11,
   "id": "43031a3f-4f0a-40e5-85b0-95ca3b04d68d",
   "metadata": {},
   "outputs": [],
   "source": [
    "a=b=45#same address for 45"
   ]
  },
  {
   "cell_type": "code",
   "execution_count": 12,
   "id": "527fa68f-eabc-4c63-bcc3-20753bcfc12e",
   "metadata": {},
   "outputs": [
    {
     "data": {
      "text/plain": [
       "'0b101101'"
      ]
     },
     "execution_count": 12,
     "metadata": {},
     "output_type": "execute_result"
    }
   ],
   "source": [
    "bin(45)"
   ]
  },
  {
   "cell_type": "code",
   "execution_count": 17,
   "id": "8683a128-32ee-448e-a163-87a6b689f5a3",
   "metadata": {},
   "outputs": [
    {
     "data": {
      "text/plain": [
       "'0o31'"
      ]
     },
     "execution_count": 17,
     "metadata": {},
     "output_type": "execute_result"
    }
   ],
   "source": [
    "oct(25)"
   ]
  },
  {
   "cell_type": "code",
   "execution_count": 14,
   "id": "9217f887-861e-453e-b192-f2f3c14d45a6",
   "metadata": {},
   "outputs": [
    {
     "data": {
      "text/plain": [
       "'0x2d'"
      ]
     },
     "execution_count": 14,
     "metadata": {},
     "output_type": "execute_result"
    }
   ],
   "source": [
    "hex(45)"
   ]
  },
  {
   "cell_type": "code",
   "execution_count": 16,
   "id": "73c386ce-4e96-4fdc-aa1f-60d137f97ae1",
   "metadata": {},
   "outputs": [
    {
     "data": {
      "text/plain": [
       "45"
      ]
     },
     "execution_count": 16,
     "metadata": {},
     "output_type": "execute_result"
    }
   ],
   "source": [
    "int(0x2d)"
   ]
  },
  {
   "cell_type": "code",
   "execution_count": 18,
   "id": "27336a83-b120-4b37-8432-aeb6ca290eec",
   "metadata": {},
   "outputs": [
    {
     "data": {
      "text/plain": [
       "'0x1'"
      ]
     },
     "execution_count": 18,
     "metadata": {},
     "output_type": "execute_result"
    }
   ],
   "source": [
    "hex(1)"
   ]
  },
  {
   "cell_type": "code",
   "execution_count": 19,
   "id": "af3e9a92-25a9-4aae-8486-66f74c6d46c1",
   "metadata": {},
   "outputs": [
    {
     "data": {
      "text/plain": [
       "'0xa'"
      ]
     },
     "execution_count": 19,
     "metadata": {},
     "output_type": "execute_result"
    }
   ],
   "source": [
    "hex(10)"
   ]
  },
  {
   "cell_type": "code",
   "execution_count": 20,
   "id": "ee7589b6-6e73-4957-87fd-a37a74ac171e",
   "metadata": {},
   "outputs": [
    {
     "data": {
      "text/plain": [
       "10"
      ]
     },
     "execution_count": 20,
     "metadata": {},
     "output_type": "execute_result"
    }
   ],
   "source": [
    "int(0xa)"
   ]
  },
  {
   "cell_type": "code",
   "execution_count": 21,
   "id": "732728a2-14a5-4f96-8314-10e498d56934",
   "metadata": {},
   "outputs": [
    {
     "data": {
      "text/plain": [
       "'0x10'"
      ]
     },
     "execution_count": 21,
     "metadata": {},
     "output_type": "execute_result"
    }
   ],
   "source": [
    "hex(16)"
   ]
  },
  {
   "cell_type": "code",
   "execution_count": 22,
   "id": "bf0787c4-290e-434d-92d8-e477c7d8d7fe",
   "metadata": {},
   "outputs": [
    {
     "data": {
      "text/plain": [
       "'0x2d'"
      ]
     },
     "execution_count": 22,
     "metadata": {},
     "output_type": "execute_result"
    }
   ],
   "source": [
    "hex(a)"
   ]
  },
  {
   "cell_type": "code",
   "execution_count": 23,
   "id": "6d957733-6aa5-4ed4-b306-41a80433fd60",
   "metadata": {},
   "outputs": [
    {
     "data": {
      "text/plain": [
       "45"
      ]
     },
     "execution_count": 23,
     "metadata": {},
     "output_type": "execute_result"
    }
   ],
   "source": [
    "int(a)"
   ]
  },
  {
   "cell_type": "code",
   "execution_count": 24,
   "id": "c86430b5-2977-4a02-b648-1fcbef96715d",
   "metadata": {},
   "outputs": [
    {
     "data": {
      "text/plain": [
       "'0x19'"
      ]
     },
     "execution_count": 24,
     "metadata": {},
     "output_type": "execute_result"
    }
   ],
   "source": [
    "hex(25)"
   ]
  },
  {
   "cell_type": "code",
   "execution_count": 26,
   "id": "b42a7997-9c64-4b5c-ae8a-793b17050616",
   "metadata": {},
   "outputs": [
    {
     "name": "stdout",
     "output_type": "stream",
     "text": [
      "a 45\n",
      "b 18\n"
     ]
    }
   ],
   "source": [
    "a=18\n",
    "b=45\n",
    "a,b=b,a\n",
    "print(\"a\",a)\n",
    "print(\"b\",b)"
   ]
  },
  {
   "cell_type": "code",
   "execution_count": 30,
   "id": "5637634b-0c92-4f61-9c6a-0b53d1e8cd7a",
   "metadata": {},
   "outputs": [
    {
     "name": "stdout",
     "output_type": "stream",
     "text": [
      "15 13\n"
     ]
    }
   ],
   "source": [
    "a1=13\n",
    "b1=15\n",
    "a2=a1+b1\n",
    "a1=a2-a1\n",
    "b1=a2-b1\n",
    "print(a1,b1)"
   ]
  },
  {
   "cell_type": "code",
   "execution_count": 13,
   "id": "827eb7e4-f233-43c1-9787-27b67a9e2fff",
   "metadata": {},
   "outputs": [
    {
     "data": {
      "text/plain": [
       "'Hello'"
      ]
     },
     "execution_count": 13,
     "metadata": {},
     "output_type": "execute_result"
    }
   ],
   "source": [
    "s = \"hello\";  \n",
    "s = \"H\" + s[1:];  \n",
    "s"
   ]
  },
  {
   "cell_type": "markdown",
   "id": "458ec98d-8344-4021-86a8-cb08d0802132",
   "metadata": {},
   "source": [
    "# Day-18 (28May)"
   ]
  },
  {
   "cell_type": "markdown",
   "id": "8754d5af-3bb1-4b70-83b1-176628cbb1d4",
   "metadata": {},
   "source": [
    "- Bitwize operator\n",
    "    - completement ~\n",
    "    - and &\n",
    "    - or |\n",
    "    - xor ^\n",
    "    - leftshift <<\n",
    "    - rightshift >>\n",
    "- About PACKAGE : collections of modules\n",
    "- MODULE : collection of functions\n",
    "- FUNCTION\n",
    "- INPUT statement intro\n",
    "- eval()"
   ]
  },
  {
   "cell_type": "code",
   "execution_count": 3,
   "id": "59db9ab6-9b9b-4c94-8279-ce1642b80e22",
   "metadata": {},
   "outputs": [
    {
     "data": {
      "text/plain": [
       "-46"
      ]
     },
     "execution_count": 3,
     "metadata": {},
     "output_type": "execute_result"
    }
   ],
   "source": [
    "~45#complement"
   ]
  },
  {
   "cell_type": "code",
   "execution_count": 4,
   "id": "da87c38c-fdc0-45b0-ba7d-b57639f0f8cd",
   "metadata": {},
   "outputs": [
    {
     "data": {
      "text/plain": [
       "4"
      ]
     },
     "execution_count": 4,
     "metadata": {},
     "output_type": "execute_result"
    }
   ],
   "source": [
    "~-5"
   ]
  },
  {
   "cell_type": "code",
   "execution_count": 5,
   "id": "7864d531-4333-4194-8a3f-ac4bad5a4d15",
   "metadata": {},
   "outputs": [
    {
     "data": {
      "text/plain": [
       "-19"
      ]
     },
     "execution_count": 5,
     "metadata": {},
     "output_type": "execute_result"
    }
   ],
   "source": [
    "~18"
   ]
  },
  {
   "cell_type": "code",
   "execution_count": 6,
   "id": "ec86700a-07d6-4f89-a39b-5a0f5a8aa167",
   "metadata": {},
   "outputs": [
    {
     "data": {
      "text/plain": [
       "12"
      ]
     },
     "execution_count": 6,
     "metadata": {},
     "output_type": "execute_result"
    }
   ],
   "source": [
    "12 & 13"
   ]
  },
  {
   "cell_type": "code",
   "execution_count": 7,
   "id": "57b9e452-f418-4ee5-8ff0-039695922fb0",
   "metadata": {},
   "outputs": [
    {
     "data": {
      "text/plain": [
       "13"
      ]
     },
     "execution_count": 7,
     "metadata": {},
     "output_type": "execute_result"
    }
   ],
   "source": [
    "12|13"
   ]
  },
  {
   "cell_type": "code",
   "execution_count": 8,
   "id": "2bc77187-b529-47b9-9352-6d8064be356f",
   "metadata": {},
   "outputs": [
    {
     "data": {
      "text/plain": [
       "0"
      ]
     },
     "execution_count": 8,
     "metadata": {},
     "output_type": "execute_result"
    }
   ],
   "source": [
    "45&18"
   ]
  },
  {
   "cell_type": "code",
   "execution_count": 9,
   "id": "8ed989d4-f70c-44e1-868e-356ac2696a86",
   "metadata": {},
   "outputs": [
    {
     "data": {
      "text/plain": [
       "32"
      ]
     },
     "execution_count": 9,
     "metadata": {},
     "output_type": "execute_result"
    }
   ],
   "source": [
    "35&40"
   ]
  },
  {
   "cell_type": "code",
   "execution_count": 10,
   "id": "7a0ba974-aa0e-467f-87f5-212ed4ed062d",
   "metadata": {},
   "outputs": [
    {
     "data": {
      "text/plain": [
       "20"
      ]
     },
     "execution_count": 10,
     "metadata": {},
     "output_type": "execute_result"
    }
   ],
   "source": [
    "12^24 #xor"
   ]
  },
  {
   "cell_type": "code",
   "execution_count": 11,
   "id": "09f94de4-1c89-46bc-8d56-ee8f509cc15a",
   "metadata": {},
   "outputs": [
    {
     "data": {
      "text/plain": [
       "1"
      ]
     },
     "execution_count": 11,
     "metadata": {},
     "output_type": "execute_result"
    }
   ],
   "source": [
    "12^13"
   ]
  },
  {
   "cell_type": "code",
   "execution_count": 12,
   "id": "32d24d00-351f-4ea7-bc16-67f334d93144",
   "metadata": {},
   "outputs": [
    {
     "data": {
      "text/plain": [
       "40"
      ]
     },
     "execution_count": 12,
     "metadata": {},
     "output_type": "execute_result"
    }
   ],
   "source": [
    "10<<2#gain the bit"
   ]
  },
  {
   "cell_type": "code",
   "execution_count": 13,
   "id": "10fc60e0-0080-49bd-a19e-1183ee07f859",
   "metadata": {},
   "outputs": [
    {
     "data": {
      "text/plain": [
       "2"
      ]
     },
     "execution_count": 13,
     "metadata": {},
     "output_type": "execute_result"
    }
   ],
   "source": [
    "10>>2#loose the bit"
   ]
  },
  {
   "cell_type": "code",
   "execution_count": 14,
   "id": "9a0fa0b9-a530-40d8-8c8d-099209509e5b",
   "metadata": {},
   "outputs": [
    {
     "data": {
      "text/plain": [
       "1"
      ]
     },
     "execution_count": 14,
     "metadata": {},
     "output_type": "execute_result"
    }
   ],
   "source": [
    "10>>3"
   ]
  },
  {
   "cell_type": "code",
   "execution_count": 15,
   "id": "bc1673c1-9578-421d-a7ff-c9c64e7a092e",
   "metadata": {},
   "outputs": [
    {
     "data": {
      "text/plain": [
       "80"
      ]
     },
     "execution_count": 15,
     "metadata": {},
     "output_type": "execute_result"
    }
   ],
   "source": [
    "20<<2"
   ]
  },
  {
   "cell_type": "code",
   "execution_count": 16,
   "id": "8fa6e776-10b4-45b8-b588-c46201239e07",
   "metadata": {},
   "outputs": [],
   "source": [
    "import math # math is a module\n",
    "x=math.sqrt(25)"
   ]
  },
  {
   "cell_type": "code",
   "execution_count": 17,
   "id": "faff471d-dad5-4366-9eae-0130b2e53115",
   "metadata": {},
   "outputs": [
    {
     "data": {
      "text/plain": [
       "5.0"
      ]
     },
     "execution_count": 17,
     "metadata": {},
     "output_type": "execute_result"
    }
   ],
   "source": [
    "x"
   ]
  },
  {
   "cell_type": "code",
   "execution_count": 18,
   "id": "3e3b0cb5-53e3-4696-b454-234113c9b6f7",
   "metadata": {},
   "outputs": [
    {
     "data": {
      "text/plain": [
       "'3.12.7 | packaged by Anaconda, Inc. | (main, Oct  4 2024, 13:17:27) [MSC v.1929 64 bit (AMD64)]'"
      ]
     },
     "execution_count": 18,
     "metadata": {},
     "output_type": "execute_result"
    }
   ],
   "source": [
    "import sys\n",
    "sys.version"
   ]
  },
  {
   "cell_type": "code",
   "execution_count": 19,
   "id": "c0b28a82-1c6f-4866-8779-86cea8cee3f3",
   "metadata": {},
   "outputs": [
    {
     "data": {
      "text/plain": [
       "2"
      ]
     },
     "execution_count": 19,
     "metadata": {},
     "output_type": "execute_result"
    }
   ],
   "source": [
    "math.floor(2.9)"
   ]
  },
  {
   "cell_type": "code",
   "execution_count": 20,
   "id": "75b02a00-b10e-4f19-bf02-86db50b24889",
   "metadata": {},
   "outputs": [
    {
     "data": {
      "text/plain": [
       "3"
      ]
     },
     "execution_count": 20,
     "metadata": {},
     "output_type": "execute_result"
    }
   ],
   "source": [
    "math.ceil(2.9)"
   ]
  },
  {
   "cell_type": "code",
   "execution_count": 21,
   "id": "a25573ed-2e73-41e4-99b3-371957444c02",
   "metadata": {},
   "outputs": [
    {
     "data": {
      "text/plain": [
       "285311670611.0"
      ]
     },
     "execution_count": 21,
     "metadata": {},
     "output_type": "execute_result"
    }
   ],
   "source": [
    "math.pow(11,11)"
   ]
  },
  {
   "cell_type": "code",
   "execution_count": 22,
   "id": "a3d6c991-1add-44a4-bf43-74df82be9eb2",
   "metadata": {},
   "outputs": [
    {
     "data": {
      "text/plain": [
       "2.718281828459045"
      ]
     },
     "execution_count": 22,
     "metadata": {},
     "output_type": "execute_result"
    }
   ],
   "source": [
    "math.e # constant"
   ]
  },
  {
   "cell_type": "code",
   "execution_count": 23,
   "id": "39ea3dd5-aa79-4b94-9727-3ee9d94f8c21",
   "metadata": {},
   "outputs": [
    {
     "data": {
      "text/plain": [
       "3.141592653589793"
      ]
     },
     "execution_count": 23,
     "metadata": {},
     "output_type": "execute_result"
    }
   ],
   "source": [
    "math.pi # constant"
   ]
  },
  {
   "cell_type": "code",
   "execution_count": 24,
   "id": "d54745a9-d122-48b0-b96a-869a104c07ee",
   "metadata": {},
   "outputs": [],
   "source": [
    "import math as m"
   ]
  },
  {
   "cell_type": "code",
   "execution_count": 25,
   "id": "fb6c78c1-4e36-4646-9cf7-f68d6cabd8dd",
   "metadata": {},
   "outputs": [
    {
     "data": {
      "text/plain": [
       "121.0"
      ]
     },
     "execution_count": 25,
     "metadata": {},
     "output_type": "execute_result"
    }
   ],
   "source": [
    "m.pow(11,2)"
   ]
  },
  {
   "cell_type": "code",
   "execution_count": 26,
   "id": "fe42ad6b-afb8-48f8-a148-40ed2ed8837a",
   "metadata": {},
   "outputs": [
    {
     "data": {
      "text/plain": [
       "11.0"
      ]
     },
     "execution_count": 26,
     "metadata": {},
     "output_type": "execute_result"
    }
   ],
   "source": [
    "m.sqrt(121)"
   ]
  },
  {
   "cell_type": "code",
   "execution_count": 27,
   "id": "20d89814-1286-4d1f-895c-8ddd177e696e",
   "metadata": {},
   "outputs": [
    {
     "name": "stdout",
     "output_type": "stream",
     "text": [
      "5.0\n",
      "32.0\n"
     ]
    }
   ],
   "source": [
    "from math import sqrt,pow # from math import *\n",
    "print(sqrt(25))\n",
    "print(pow(2,5))"
   ]
  },
  {
   "cell_type": "code",
   "execution_count": 28,
   "id": "9ac7b0c6-7d0a-45f8-b3d6-1da23407e931",
   "metadata": {},
   "outputs": [
    {
     "data": {
      "text/plain": [
       "5"
      ]
     },
     "execution_count": 28,
     "metadata": {},
     "output_type": "execute_result"
    }
   ],
   "source": [
    "round(sqrt(26))"
   ]
  },
  {
   "cell_type": "code",
   "execution_count": 29,
   "id": "b05be926-14e7-4767-aebb-e7ff0466aa0d",
   "metadata": {},
   "outputs": [],
   "source": [
    "#help(math)"
   ]
  },
  {
   "cell_type": "code",
   "execution_count": 30,
   "id": "9719ebb4-f561-4ee9-bcc2-68c9c78b9b68",
   "metadata": {},
   "outputs": [],
   "source": [
    "# INPUT FUNCTION"
   ]
  },
  {
   "cell_type": "code",
   "execution_count": 31,
   "id": "bac9abcc-becb-4c24-bbe7-2c7cf07aa779",
   "metadata": {},
   "outputs": [
    {
     "name": "stdin",
     "output_type": "stream",
     "text": [
      " 12\n",
      " 13\n"
     ]
    },
    {
     "name": "stdout",
     "output_type": "stream",
     "text": [
      "1213\n"
     ]
    }
   ],
   "source": [
    "a=input()#default string\n",
    "b=input()\n",
    "print(a+b)"
   ]
  },
  {
   "cell_type": "code",
   "execution_count": 53,
   "id": "f350dcc9-4f75-42ef-8142-ae90ec8a359f",
   "metadata": {},
   "outputs": [
    {
     "name": "stdin",
     "output_type": "stream",
     "text": [
      "Enter first Number: 25\n",
      "Enter Second Number: 25\n"
     ]
    },
    {
     "name": "stdout",
     "output_type": "stream",
     "text": [
      "50\n"
     ]
    }
   ],
   "source": [
    "a=int(input(\"Enter first Number:\"))\n",
    "b=int(input(\"Enter Second Number:\"))\n",
    "print(a+b)"
   ]
  },
  {
   "cell_type": "code",
   "execution_count": 54,
   "id": "e9f9347e-c0f3-4928-93bd-32b1c6cc5d35",
   "metadata": {},
   "outputs": [
    {
     "name": "stdin",
     "output_type": "stream",
     "text": [
      "enter a character: hello\n"
     ]
    },
    {
     "data": {
      "text/plain": [
       "'h'"
      ]
     },
     "execution_count": 54,
     "metadata": {},
     "output_type": "execute_result"
    }
   ],
   "source": [
    "ch=input(\"enter a character:\")[0]\n",
    "ch"
   ]
  },
  {
   "cell_type": "code",
   "execution_count": 56,
   "id": "d9a6cca7-d844-4c38-84d8-3a9a2adcadd4",
   "metadata": {},
   "outputs": [
    {
     "name": "stdin",
     "output_type": "stream",
     "text": [
      "enter a expression 45+85-98\n"
     ]
    },
    {
     "data": {
      "text/plain": [
       "32"
      ]
     },
     "execution_count": 56,
     "metadata": {},
     "output_type": "execute_result"
    }
   ],
   "source": [
    "ch=eval(input(\"enter a expression\"))\n",
    "ch"
   ]
  },
  {
   "cell_type": "code",
   "execution_count": 2,
   "id": "152abb65-dff6-4d23-ace7-62db4eaa5916",
   "metadata": {},
   "outputs": [
    {
     "ename": "TypeError",
     "evalue": "eval() arg 1 must be a string, bytes or code object",
     "output_type": "error",
     "traceback": [
      "\u001b[1;31m---------------------------------------------------------------------------\u001b[0m",
      "\u001b[1;31mTypeError\u001b[0m                                 Traceback (most recent call last)",
      "Cell \u001b[1;32mIn[2], line 1\u001b[0m\n\u001b[1;32m----> 1\u001b[0m \u001b[38;5;28meval\u001b[39m(\u001b[38;5;241m45\u001b[39m\u001b[38;5;241m/\u001b[39m\u001b[38;5;241m4\u001b[39m\u001b[38;5;241m*\u001b[39m\u001b[38;5;241m9\u001b[39m)\n",
      "\u001b[1;31mTypeError\u001b[0m: eval() arg 1 must be a string, bytes or code object"
     ]
    }
   ],
   "source": [
    "eval(45/4*9) # Evaluate only String Input "
   ]
  },
  {
   "cell_type": "code",
   "execution_count": 2,
   "id": "5f0204a2-888b-439b-a7e4-54fea6708066",
   "metadata": {},
   "outputs": [
    {
     "data": {
      "text/plain": [
       "101.25"
      ]
     },
     "execution_count": 2,
     "metadata": {},
     "output_type": "execute_result"
    }
   ],
   "source": [
    "eval(\"45/4*9\")"
   ]
  },
  {
   "cell_type": "code",
   "execution_count": 1,
   "id": "5a872682-9dbd-4a29-a243-bb6881c82def",
   "metadata": {},
   "outputs": [
    {
     "name": "stdin",
     "output_type": "stream",
     "text": [
      " 23+90-78\n"
     ]
    },
    {
     "data": {
      "text/plain": [
       "35"
      ]
     },
     "execution_count": 1,
     "metadata": {},
     "output_type": "execute_result"
    }
   ],
   "source": [
    "eval(input())"
   ]
  },
  {
   "cell_type": "code",
   "execution_count": 7,
   "id": "6206b0d7-c7e2-478c-8e6a-39f190f8a909",
   "metadata": {},
   "outputs": [
    {
     "name": "stdout",
     "output_type": "stream",
     "text": [
      "2\n",
      "4\n",
      "6\n",
      "8\n"
     ]
    }
   ],
   "source": [
    "for index in range(2,10,2):\n",
    "    print(index)"
   ]
  },
  {
   "cell_type": "code",
   "execution_count": null,
   "id": "559a98d2-160d-476d-a5af-8e3aeef11154",
   "metadata": {},
   "outputs": [],
   "source": []
  },
  {
   "cell_type": "code",
   "execution_count": null,
   "id": "0eb7c9dc-39ca-41d2-bcc9-04c4257c3b63",
   "metadata": {},
   "outputs": [],
   "source": []
  }
 ],
 "metadata": {
  "kernelspec": {
   "display_name": "Python 3 (ipykernel)",
   "language": "python",
   "name": "python3"
  },
  "language_info": {
   "codemirror_mode": {
    "name": "ipython",
    "version": 3
   },
   "file_extension": ".py",
   "mimetype": "text/x-python",
   "name": "python",
   "nbconvert_exporter": "python",
   "pygments_lexer": "ipython3",
   "version": "3.12.7"
  }
 },
 "nbformat": 4,
 "nbformat_minor": 5
}
