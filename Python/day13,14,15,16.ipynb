{
 "cells": [
  {
   "cell_type": "markdown",
   "id": "7e16f8ee-b291-4ca4-9d82-c5568ba2d418",
   "metadata": {},
   "source": [
    "# Day-13 (23May)"
   ]
  },
  {
   "cell_type": "markdown",
   "id": "42ae6666-37d5-408a-a1b1-be18f148d10e",
   "metadata": {},
   "source": [
    "- Breif about list and its functions\n",
    "- Introduction to Tuple -> Has only two functions\n",
    "                                -> count\n",
    "                                -> index\n",
    "- Tuple is used by bank developers\n",
    "- Tuple is immutable"
   ]
  },
  {
   "cell_type": "code",
   "execution_count": 1,
   "id": "b6d138c1-a523-4c24-b51d-64320a271ffc",
   "metadata": {},
   "outputs": [
    {
     "data": {
      "text/plain": [
       "tuple"
      ]
     },
     "execution_count": 1,
     "metadata": {},
     "output_type": "execute_result"
    }
   ],
   "source": [
    "t=()\n",
    "type(t)"
   ]
  },
  {
   "cell_type": "code",
   "execution_count": 2,
   "id": "0bc94bbf-e233-400e-b6f8-b2d83b688139",
   "metadata": {},
   "outputs": [],
   "source": [
    "t=(10,2,4,5,5,5,10)"
   ]
  },
  {
   "cell_type": "code",
   "execution_count": 4,
   "id": "aee5c063-4d83-4c15-a75a-814d28e45c08",
   "metadata": {},
   "outputs": [
    {
     "data": {
      "text/plain": [
       "3"
      ]
     },
     "execution_count": 4,
     "metadata": {},
     "output_type": "execute_result"
    }
   ],
   "source": [
    "t.count(5)"
   ]
  },
  {
   "cell_type": "code",
   "execution_count": 5,
   "id": "e80d47b8-2e5d-45dd-aef5-230755de8e9e",
   "metadata": {},
   "outputs": [
    {
     "data": {
      "text/plain": [
       "1"
      ]
     },
     "execution_count": 5,
     "metadata": {},
     "output_type": "execute_result"
    }
   ],
   "source": [
    "t.index(2)"
   ]
  },
  {
   "cell_type": "code",
   "execution_count": 7,
   "id": "73fa5c19-9bae-40ac-838c-212eb1973daa",
   "metadata": {},
   "outputs": [
    {
     "data": {
      "text/plain": [
       "(10, 2, 4, 5, 5, 5, 10, 10, 2, 4, 5, 5, 5, 10)"
      ]
     },
     "execution_count": 7,
     "metadata": {},
     "output_type": "execute_result"
    }
   ],
   "source": [
    "t2=t*2\n",
    "t2"
   ]
  },
  {
   "cell_type": "code",
   "execution_count": 8,
   "id": "72342188-941a-4c9a-ae0b-d5e657867b10",
   "metadata": {},
   "outputs": [
    {
     "data": {
      "text/plain": [
       "14"
      ]
     },
     "execution_count": 8,
     "metadata": {},
     "output_type": "execute_result"
    }
   ],
   "source": [
    "len(t2)"
   ]
  },
  {
   "cell_type": "code",
   "execution_count": 12,
   "id": "9cd072b3-f177-4c1f-9df6-3a174270d82c",
   "metadata": {},
   "outputs": [],
   "source": [
    "t3=t2+t"
   ]
  },
  {
   "cell_type": "code",
   "execution_count": 13,
   "id": "03d7126b-f0de-4884-ab1a-26b74aa7d883",
   "metadata": {},
   "outputs": [
    {
     "data": {
      "text/plain": [
       "(10, 2, 4, 5, 5, 5, 10, 10, 2, 4, 5, 5, 5, 10, 10, 2, 4, 5, 5, 5, 10)"
      ]
     },
     "execution_count": 13,
     "metadata": {},
     "output_type": "execute_result"
    }
   ],
   "source": [
    "t3"
   ]
  },
  {
   "cell_type": "code",
   "execution_count": 14,
   "id": "923167c0-e3ec-48ae-b261-272b7f1fb421",
   "metadata": {},
   "outputs": [
    {
     "data": {
      "text/plain": [
       "21"
      ]
     },
     "execution_count": 14,
     "metadata": {},
     "output_type": "execute_result"
    }
   ],
   "source": [
    "len(t3)\n"
   ]
  },
  {
   "cell_type": "markdown",
   "id": "a6c98974-e8f1-42a7-806a-4d430a2b2053",
   "metadata": {},
   "source": [
    "# Day-14 (24May)\n"
   ]
  },
  {
   "cell_type": "markdown",
   "id": "5b4b4445-6712-4288-a940-c8e3b7c4d403",
   "metadata": {},
   "source": [
    "- SET\n",
    "- Duplicate is not allowed in the set\n",
    "- Set elemts are unique and has ordered items\n",
    "- Indexing and slicing is not allowed in set"
   ]
  },
  {
   "cell_type": "code",
   "execution_count": 3,
   "id": "690db182-051c-4654-b4c2-167339ca2dd9",
   "metadata": {},
   "outputs": [
    {
     "data": {
      "text/plain": [
       "set()"
      ]
     },
     "execution_count": 3,
     "metadata": {},
     "output_type": "execute_result"
    }
   ],
   "source": [
    "s=set()#craetion of empty set\n",
    "s"
   ]
  },
  {
   "cell_type": "code",
   "execution_count": 4,
   "id": "3d103b08-b31f-4e6d-8c8d-e30803911010",
   "metadata": {},
   "outputs": [
    {
     "data": {
      "text/plain": [
       "set"
      ]
     },
     "execution_count": 4,
     "metadata": {},
     "output_type": "execute_result"
    }
   ],
   "source": [
    "type(s)"
   ]
  },
  {
   "cell_type": "code",
   "execution_count": 5,
   "id": "9e5bd1f2-e3e0-41a3-befb-6c55f7b441a2",
   "metadata": {},
   "outputs": [
    {
     "data": {
      "text/plain": [
       "{7, 10, 18, 23, 45}"
      ]
     },
     "execution_count": 5,
     "metadata": {},
     "output_type": "execute_result"
    }
   ],
   "source": [
    "s1={23,18,45,10,7}\n",
    "s1"
   ]
  },
  {
   "cell_type": "code",
   "execution_count": 6,
   "id": "4b23f453-4d8f-480e-95aa-386645ffe52f",
   "metadata": {},
   "outputs": [
    {
     "data": {
      "text/plain": [
       "{7, 10, 18, 23, 33, 45}"
      ]
     },
     "execution_count": 6,
     "metadata": {},
     "output_type": "execute_result"
    }
   ],
   "source": [
    "s1.add(33)\n",
    "s1"
   ]
  },
  {
   "cell_type": "code",
   "execution_count": 7,
   "id": "7326416c-fbba-4f5d-a6e3-94fae4c7212d",
   "metadata": {},
   "outputs": [
    {
     "data": {
      "text/plain": [
       "{7, 10, 18, 23, 33, 45}"
      ]
     },
     "execution_count": 7,
     "metadata": {},
     "output_type": "execute_result"
    }
   ],
   "source": [
    "s2=s1.copy()\n",
    "s2\n"
   ]
  },
  {
   "cell_type": "code",
   "execution_count": 8,
   "id": "df03943b-4a83-4cd6-9ff7-fbf2388b1897",
   "metadata": {},
   "outputs": [
    {
     "ename": "TypeError",
     "evalue": "set.pop() takes no arguments (1 given)",
     "output_type": "error",
     "traceback": [
      "\u001b[1;31m---------------------------------------------------------------------------\u001b[0m",
      "\u001b[1;31mTypeError\u001b[0m                                 Traceback (most recent call last)",
      "Cell \u001b[1;32mIn[8], line 1\u001b[0m\n\u001b[1;32m----> 1\u001b[0m s2\u001b[38;5;241m.\u001b[39mpop(\u001b[38;5;241m3\u001b[39m)\n",
      "\u001b[1;31mTypeError\u001b[0m: set.pop() takes no arguments (1 given)"
     ]
    }
   ],
   "source": [
    "s2.pop(3) # takes no Arguments"
   ]
  },
  {
   "cell_type": "code",
   "execution_count": 9,
   "id": "a1f32b49-4bdc-4f08-bf14-b516d71c69c1",
   "metadata": {},
   "outputs": [
    {
     "data": {
      "text/plain": [
       "33"
      ]
     },
     "execution_count": 9,
     "metadata": {},
     "output_type": "execute_result"
    }
   ],
   "source": [
    "s2.pop()"
   ]
  },
  {
   "cell_type": "code",
   "execution_count": 10,
   "id": "1011359f-2c20-446d-aaf3-3e0f450022d6",
   "metadata": {},
   "outputs": [
    {
     "data": {
      "text/plain": [
       "18"
      ]
     },
     "execution_count": 10,
     "metadata": {},
     "output_type": "execute_result"
    }
   ],
   "source": [
    "s2.pop()#in set pop deletes random numbers"
   ]
  },
  {
   "cell_type": "code",
   "execution_count": 11,
   "id": "f5f26574-afd3-4a8d-8333-276fea477c50",
   "metadata": {},
   "outputs": [
    {
     "data": {
      "text/plain": [
       "{7, 10, 23, 45}"
      ]
     },
     "execution_count": 11,
     "metadata": {},
     "output_type": "execute_result"
    }
   ],
   "source": [
    "s2"
   ]
  },
  {
   "cell_type": "code",
   "execution_count": 12,
   "id": "d7d6f9b9-f0ca-49a7-9429-8a809dcf43c1",
   "metadata": {},
   "outputs": [
    {
     "data": {
      "text/plain": [
       "{7, 10, 18, 23, 33, 45}"
      ]
     },
     "execution_count": 12,
     "metadata": {},
     "output_type": "execute_result"
    }
   ],
   "source": [
    "s1"
   ]
  },
  {
   "cell_type": "code",
   "execution_count": 15,
   "id": "43d9673b-0f5f-45d5-8d19-4e2ba171931a",
   "metadata": {},
   "outputs": [
    {
     "data": {
      "text/plain": [
       "{7, 23, 45}"
      ]
     },
     "execution_count": 15,
     "metadata": {},
     "output_type": "execute_result"
    }
   ],
   "source": [
    "s2.remove(10)\n",
    "s2"
   ]
  },
  {
   "cell_type": "code",
   "execution_count": 16,
   "id": "ba3883e1-6bb9-4990-bd58-7cb83a180ee2",
   "metadata": {},
   "outputs": [
    {
     "data": {
      "text/plain": [
       "{7, 10, 45}"
      ]
     },
     "execution_count": 16,
     "metadata": {},
     "output_type": "execute_result"
    }
   ],
   "source": [
    "s2"
   ]
  },
  {
   "cell_type": "code",
   "execution_count": 21,
   "id": "3a0ff824-7df1-4e6e-b9ee-49d66af69612",
   "metadata": {},
   "outputs": [],
   "source": [
    "s2.remove(7)#if a member it deletes if not error "
   ]
  },
  {
   "cell_type": "code",
   "execution_count": 22,
   "id": "bcb129d2-73b3-41d7-bf8c-854566ad272f",
   "metadata": {},
   "outputs": [],
   "source": [
    "s2.discard(43)#if a member it deletes if not also no error no deletion of element"
   ]
  },
  {
   "cell_type": "code",
   "execution_count": 25,
   "id": "79e222ab-5974-4c3e-98fa-d8bcc6a79b39",
   "metadata": {},
   "outputs": [],
   "source": [
    "s2.update(\"hi\")"
   ]
  },
  {
   "cell_type": "code",
   "execution_count": 27,
   "id": "b7c26388-92b4-410b-8543-b2fe3004f620",
   "metadata": {},
   "outputs": [],
   "source": [
    "s2.update([1,23,43,76])"
   ]
  },
  {
   "cell_type": "code",
   "execution_count": 28,
   "id": "af1df89e-0d9e-4a0f-b63b-0447843bd17e",
   "metadata": {},
   "outputs": [
    {
     "data": {
      "text/plain": [
       "{1, 23, 43, 45, 76, 'h', 'i'}"
      ]
     },
     "execution_count": 28,
     "metadata": {},
     "output_type": "execute_result"
    }
   ],
   "source": [
    "s2"
   ]
  },
  {
   "cell_type": "code",
   "execution_count": 29,
   "id": "804e5013-772e-4677-ae9b-b76403ec5801",
   "metadata": {},
   "outputs": [
    {
     "data": {
      "text/plain": [
       "{1, 23, 43, 45, 76}"
      ]
     },
     "execution_count": 29,
     "metadata": {},
     "output_type": "execute_result"
    }
   ],
   "source": [
    "s2.remove(\"h\")\n",
    "s2.remove(\"i\")\n",
    "s2"
   ]
  },
  {
   "cell_type": "markdown",
   "id": "db4129ea-91b1-4fb3-9b9a-39c55cbe38d2",
   "metadata": {},
   "source": [
    "# Day-15(25May)"
   ]
  },
  {
   "cell_type": "markdown",
   "id": "eeaca187-abc7-442d-88c8-947f0c6034f6",
   "metadata": {},
   "source": [
    "- SET Operations\n",
    "   - Union PIPE(|)\n",
    "   - Difference(-)\n",
    "   - symmetric difference(^)\n",
    "   - intersect(&)\n",
    "- DICTIONARY\n",
    "    - dict is mutable\n"
   ]
  },
  {
   "cell_type": "code",
   "execution_count": 2,
   "id": "3eadea12-0981-410d-8f16-ffe7d9c9d94a",
   "metadata": {},
   "outputs": [],
   "source": [
    "a={1,2,3,4,5}\n",
    "b={4,5,6,7,8}\n",
    "c={8,9,10}"
   ]
  },
  {
   "cell_type": "code",
   "execution_count": 3,
   "id": "e6061515-c299-49e6-b11b-c6435122a3b7",
   "metadata": {},
   "outputs": [
    {
     "data": {
      "text/plain": [
       "{1, 2, 3, 4, 5, 6, 7, 8, 9, 10}"
      ]
     },
     "execution_count": 3,
     "metadata": {},
     "output_type": "execute_result"
    }
   ],
   "source": [
    "a|b|c"
   ]
  },
  {
   "cell_type": "code",
   "execution_count": 4,
   "id": "94bc2feb-e90c-4369-8295-c3ec34d38e05",
   "metadata": {},
   "outputs": [
    {
     "data": {
      "text/plain": [
       "{1, 2, 3, 4, 5, 6, 7, 8}"
      ]
     },
     "execution_count": 4,
     "metadata": {},
     "output_type": "execute_result"
    }
   ],
   "source": [
    "a.union(b)"
   ]
  },
  {
   "cell_type": "code",
   "execution_count": 5,
   "id": "4c00fe11-efbb-444d-9dab-157616525319",
   "metadata": {},
   "outputs": [
    {
     "data": {
      "text/plain": [
       "{4, 5}"
      ]
     },
     "execution_count": 5,
     "metadata": {},
     "output_type": "execute_result"
    }
   ],
   "source": [
    "a.intersection(b)"
   ]
  },
  {
   "cell_type": "code",
   "execution_count": 6,
   "id": "c3e0d4e6-62c7-4558-b9b8-0939729126fb",
   "metadata": {},
   "outputs": [
    {
     "data": {
      "text/plain": [
       "set()"
      ]
     },
     "execution_count": 6,
     "metadata": {},
     "output_type": "execute_result"
    }
   ],
   "source": [
    "a.intersection(c)"
   ]
  },
  {
   "cell_type": "code",
   "execution_count": 7,
   "id": "0df81309-6087-466b-94f5-c94746ee60f5",
   "metadata": {},
   "outputs": [
    {
     "data": {
      "text/plain": [
       "{8}"
      ]
     },
     "execution_count": 7,
     "metadata": {},
     "output_type": "execute_result"
    }
   ],
   "source": [
    "b&c #other way to intersect"
   ]
  },
  {
   "cell_type": "code",
   "execution_count": 8,
   "id": "987ad8c1-7b11-4c4f-b2dc-c85cd27b4a3a",
   "metadata": {},
   "outputs": [
    {
     "data": {
      "text/plain": [
       "{1, 2, 3}"
      ]
     },
     "execution_count": 8,
     "metadata": {},
     "output_type": "execute_result"
    }
   ],
   "source": [
    "a.difference(b)#leave common elements and prints remaining elements from first set"
   ]
  },
  {
   "cell_type": "code",
   "execution_count": 9,
   "id": "1919c6cb-294b-40c6-9325-4d52e4c4e543",
   "metadata": {},
   "outputs": [
    {
     "data": {
      "text/plain": [
       "{1, 2, 3, 6, 7, 8}"
      ]
     },
     "execution_count": 9,
     "metadata": {},
     "output_type": "execute_result"
    }
   ],
   "source": [
    "a.symmetric_difference(b)# leave common element and prints all the elements from both sets"
   ]
  },
  {
   "cell_type": "code",
   "execution_count": 10,
   "id": "3c028473-cf75-4779-b12d-70429a4f8491",
   "metadata": {},
   "outputs": [
    {
     "data": {
      "text/plain": [
       "{1, 2, 3, 6, 7, 8}"
      ]
     },
     "execution_count": 10,
     "metadata": {},
     "output_type": "execute_result"
    }
   ],
   "source": [
    "a^b # another way for Symmetric difference"
   ]
  },
  {
   "cell_type": "code",
   "execution_count": 11,
   "id": "28b3cd9c-dd45-4715-b74f-60c288162d1f",
   "metadata": {},
   "outputs": [],
   "source": [
    "a.symmetric_difference_update(b)#update the value of symmetric difference to a"
   ]
  },
  {
   "cell_type": "code",
   "execution_count": 12,
   "id": "57f97f92-bc1b-4f35-a06e-f16c619ff06c",
   "metadata": {},
   "outputs": [
    {
     "data": {
      "text/plain": [
       "{1, 2, 3, 6, 7, 8}"
      ]
     },
     "execution_count": 12,
     "metadata": {},
     "output_type": "execute_result"
    }
   ],
   "source": [
    "a"
   ]
  },
  {
   "cell_type": "code",
   "execution_count": 13,
   "id": "da17329d-3d4f-4bda-8f9e-f3d7eef90f59",
   "metadata": {},
   "outputs": [],
   "source": [
    "r={1,2,3,4,5,6}\n",
    "o={3,4,5,6}\n",
    "h={11,22,33}"
   ]
  },
  {
   "cell_type": "code",
   "execution_count": 14,
   "id": "ad6d63ab-94df-4788-ab39-73d08fa44e73",
   "metadata": {},
   "outputs": [
    {
     "data": {
      "text/plain": [
       "True"
      ]
     },
     "execution_count": 14,
     "metadata": {},
     "output_type": "execute_result"
    }
   ],
   "source": [
    "o.isdisjoint(h)"
   ]
  },
  {
   "cell_type": "code",
   "execution_count": 15,
   "id": "a1a6243a-a31d-4365-81d9-fd4c151d90f2",
   "metadata": {},
   "outputs": [
    {
     "data": {
      "text/plain": [
       "True"
      ]
     },
     "execution_count": 15,
     "metadata": {},
     "output_type": "execute_result"
    }
   ],
   "source": [
    "r.issuperset(o)"
   ]
  },
  {
   "cell_type": "code",
   "execution_count": 16,
   "id": "fad80f36-0610-4ae5-b49b-29d2c9a7c55c",
   "metadata": {},
   "outputs": [
    {
     "data": {
      "text/plain": [
       "True"
      ]
     },
     "execution_count": 16,
     "metadata": {},
     "output_type": "execute_result"
    }
   ],
   "source": [
    "o.issubset(r)"
   ]
  },
  {
   "cell_type": "code",
   "execution_count": 17,
   "id": "0de41715-878f-4871-b50d-55fdad3d4140",
   "metadata": {},
   "outputs": [],
   "source": [
    "# Dictionary"
   ]
  },
  {
   "cell_type": "code",
   "execution_count": 18,
   "id": "afb260ae-ab93-48ee-9d32-126a86c11c8c",
   "metadata": {},
   "outputs": [
    {
     "data": {
      "text/plain": [
       "dict"
      ]
     },
     "execution_count": 18,
     "metadata": {},
     "output_type": "execute_result"
    }
   ],
   "source": [
    "d={}\n",
    "type(d)"
   ]
  },
  {
   "cell_type": "code",
   "execution_count": 19,
   "id": "6e7374a1-f227-4050-9c99-09ce2b76fbe4",
   "metadata": {},
   "outputs": [],
   "source": [
    "d=dict({1:\"one\",2:\"two\"})"
   ]
  },
  {
   "cell_type": "code",
   "execution_count": 20,
   "id": "54d3b77d-4928-4ebd-a40f-b8bc7d54e0e3",
   "metadata": {},
   "outputs": [
    {
     "data": {
      "text/plain": [
       "{1: 'one', 2: 'two'}"
      ]
     },
     "execution_count": 20,
     "metadata": {},
     "output_type": "execute_result"
    }
   ],
   "source": [
    "d"
   ]
  },
  {
   "cell_type": "code",
   "execution_count": 21,
   "id": "61a4fbfa-bbd2-4a50-a165-a9311c8c5833",
   "metadata": {},
   "outputs": [
    {
     "data": {
      "text/plain": [
       "dict_keys([1, 2])"
      ]
     },
     "execution_count": 21,
     "metadata": {},
     "output_type": "execute_result"
    }
   ],
   "source": [
    "d.keys()"
   ]
  },
  {
   "cell_type": "code",
   "execution_count": 22,
   "id": "d29a44c1-c0d6-4453-a8a2-7003e4228545",
   "metadata": {},
   "outputs": [
    {
     "data": {
      "text/plain": [
       "dict_values(['one', 'two'])"
      ]
     },
     "execution_count": 22,
     "metadata": {},
     "output_type": "execute_result"
    }
   ],
   "source": [
    "d.values()"
   ]
  },
  {
   "cell_type": "code",
   "execution_count": 23,
   "id": "58ff8c1b-ca58-4fba-959a-1f62ae7bfd5f",
   "metadata": {},
   "outputs": [
    {
     "data": {
      "text/plain": [
       "dict_items([(1, 'one'), (2, 'two')])"
      ]
     },
     "execution_count": 23,
     "metadata": {},
     "output_type": "execute_result"
    }
   ],
   "source": [
    "d.items()"
   ]
  },
  {
   "cell_type": "code",
   "execution_count": 24,
   "id": "2b70ae73-de7b-4d99-a13f-c59b6a7f75ff",
   "metadata": {},
   "outputs": [
    {
     "data": {
      "text/plain": [
       "2"
      ]
     },
     "execution_count": 24,
     "metadata": {},
     "output_type": "execute_result"
    }
   ],
   "source": [
    "len(d)"
   ]
  },
  {
   "cell_type": "code",
   "execution_count": 25,
   "id": "1335dbb9-6ea5-41c2-aabd-3af05fc48b88",
   "metadata": {},
   "outputs": [
    {
     "data": {
      "text/plain": [
       "'two'"
      ]
     },
     "execution_count": 25,
     "metadata": {},
     "output_type": "execute_result"
    }
   ],
   "source": [
    "d[2]"
   ]
  },
  {
   "cell_type": "code",
   "execution_count": 26,
   "id": "05907305-3121-4106-b98f-f55632f4a056",
   "metadata": {},
   "outputs": [
    {
     "data": {
      "text/plain": [
       "True"
      ]
     },
     "execution_count": 26,
     "metadata": {},
     "output_type": "execute_result"
    }
   ],
   "source": [
    "2 in d"
   ]
  },
  {
   "cell_type": "code",
   "execution_count": 27,
   "id": "b8881dd8-317e-4abc-a8e5-9571a7fba209",
   "metadata": {},
   "outputs": [
    {
     "data": {
      "text/plain": [
       "'two'"
      ]
     },
     "execution_count": 27,
     "metadata": {},
     "output_type": "execute_result"
    }
   ],
   "source": [
    "d.pop(2)"
   ]
  },
  {
   "cell_type": "code",
   "execution_count": 28,
   "id": "f907efe4-a425-4579-9ed4-df73c34819d2",
   "metadata": {},
   "outputs": [
    {
     "data": {
      "text/plain": [
       "{1: 'one'}"
      ]
     },
     "execution_count": 28,
     "metadata": {},
     "output_type": "execute_result"
    }
   ],
   "source": [
    "d"
   ]
  },
  {
   "cell_type": "code",
   "execution_count": 29,
   "id": "c0c9c31f-ece4-4d1e-a9c8-cd766f8b8748",
   "metadata": {},
   "outputs": [
    {
     "data": {
      "text/plain": [
       "(1, 'one')"
      ]
     },
     "execution_count": 29,
     "metadata": {},
     "output_type": "execute_result"
    }
   ],
   "source": [
    "d.popitem()"
   ]
  },
  {
   "cell_type": "code",
   "execution_count": 30,
   "id": "50c6d15d-5ea4-4730-8b60-7938078c0fd4",
   "metadata": {},
   "outputs": [],
   "source": [
    "d=dict({1:\"one\",2:\"two\",3:\"three\"})"
   ]
  },
  {
   "cell_type": "code",
   "execution_count": 31,
   "id": "2f62e546-6dbd-413a-9a1a-ad90aa8c9105",
   "metadata": {},
   "outputs": [
    {
     "data": {
      "text/plain": [
       "dict_items([(1, 'one'), (2, 'two'), (3, 'three')])"
      ]
     },
     "execution_count": 31,
     "metadata": {},
     "output_type": "execute_result"
    }
   ],
   "source": [
    "d.items()"
   ]
  },
  {
   "cell_type": "code",
   "execution_count": 35,
   "id": "4ec1c1f6-c380-4c95-b435-175bc839c399",
   "metadata": {},
   "outputs": [],
   "source": [
    "b=dict({4:\"Four\"})"
   ]
  },
  {
   "cell_type": "code",
   "execution_count": 36,
   "id": "a1233989-bc9f-4c60-b4c0-47fbbe8c9e44",
   "metadata": {},
   "outputs": [],
   "source": [
    "d.update(b)"
   ]
  },
  {
   "cell_type": "code",
   "execution_count": 37,
   "id": "d5bc007e-316d-4bcc-8232-28cd6b9cc249",
   "metadata": {},
   "outputs": [
    {
     "data": {
      "text/plain": [
       "{1: 'one', 2: 'two', 3: 'three', 4: 'Four'}"
      ]
     },
     "execution_count": 37,
     "metadata": {},
     "output_type": "execute_result"
    }
   ],
   "source": [
    "d"
   ]
  },
  {
   "cell_type": "code",
   "execution_count": 43,
   "id": "c137dbee-2331-430e-bd8a-e74868907e1c",
   "metadata": {},
   "outputs": [
    {
     "data": {
      "text/plain": [
       "dict"
      ]
     },
     "execution_count": 43,
     "metadata": {},
     "output_type": "execute_result"
    }
   ],
   "source": [
    "r={5:\"1\"}\n",
    "type(r)"
   ]
  },
  {
   "cell_type": "code",
   "execution_count": 44,
   "id": "d7e864f7-708e-4156-9e5b-d860b1144d5a",
   "metadata": {},
   "outputs": [
    {
     "data": {
      "text/plain": [
       "{5: '1', 1: 'one', 2: 'two', 3: 'three', 4: 'Four'}"
      ]
     },
     "execution_count": 44,
     "metadata": {},
     "output_type": "execute_result"
    }
   ],
   "source": [
    "r.update(d)\n",
    "r"
   ]
  },
  {
   "cell_type": "raw",
   "id": "42c58a5a-8a85-49d3-a163-acecc838fc15",
   "metadata": {},
   "source": []
  },
  {
   "cell_type": "markdown",
   "id": "cbfe3d6b-8b26-49c2-a7f1-2edb9bc47983",
   "metadata": {},
   "source": [
    "# Day-16"
   ]
  },
  {
   "cell_type": "markdown",
   "id": "c084646f-54c8-45d0-906a-fd2757b96384",
   "metadata": {},
   "source": [
    "- About range()Function"
   ]
  },
  {
   "cell_type": "code",
   "execution_count": 6,
   "id": "f3c794cb-20d0-4164-a1c3-b959818906a5",
   "metadata": {},
   "outputs": [
    {
     "data": {
      "text/plain": [
       "[0, 1, 2]"
      ]
     },
     "execution_count": 6,
     "metadata": {},
     "output_type": "execute_result"
    }
   ],
   "source": [
    "li=[i for i in range(3)]\n",
    "li"
   ]
  },
  {
   "cell_type": "code",
   "execution_count": 7,
   "id": "5cfd3012-63fd-48cd-bc2d-6fb86541d2b2",
   "metadata": {},
   "outputs": [
    {
     "name": "stdout",
     "output_type": "stream",
     "text": [
      "1\n",
      "2\n",
      "3\n",
      "4\n",
      "5\n",
      "6\n",
      "7\n",
      "8\n",
      "9\n"
     ]
    }
   ],
   "source": [
    "for i in range(1,10):\n",
    "    print(i)"
   ]
  },
  {
   "cell_type": "code",
   "execution_count": 8,
   "id": "9dfb2f03-c003-4087-9dfd-23c315fbd2a1",
   "metadata": {},
   "outputs": [
    {
     "name": "stdout",
     "output_type": "stream",
     "text": [
      "2 4 6 8 10 "
     ]
    }
   ],
   "source": [
    "for i in range(2,11,2):\n",
    "    print(i,end=\" \")"
   ]
  },
  {
   "cell_type": "code",
   "execution_count": 16,
   "id": "d4a5a656-ef61-47f8-a06e-a770f815f83c",
   "metadata": {},
   "outputs": [
    {
     "data": {
      "text/plain": [
       "range(0, 11)"
      ]
     },
     "execution_count": 16,
     "metadata": {},
     "output_type": "execute_result"
    }
   ],
   "source": [
    "range(11)"
   ]
  },
  {
   "cell_type": "code",
   "execution_count": null,
   "id": "f604898d-c881-4dd9-b97d-76bed2ef2f88",
   "metadata": {},
   "outputs": [],
   "source": []
  }
 ],
 "metadata": {
  "kernelspec": {
   "display_name": "Python 3 (ipykernel)",
   "language": "python",
   "name": "python3"
  },
  "language_info": {
   "codemirror_mode": {
    "name": "ipython",
    "version": 3
   },
   "file_extension": ".py",
   "mimetype": "text/x-python",
   "name": "python",
   "nbconvert_exporter": "python",
   "pygments_lexer": "ipython3",
   "version": "3.12.7"
  }
 },
 "nbformat": 4,
 "nbformat_minor": 5
}
