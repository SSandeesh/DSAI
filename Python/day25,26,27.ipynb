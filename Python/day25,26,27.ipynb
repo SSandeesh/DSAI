{
 "cells": [
  {
   "cell_type": "markdown",
   "id": "fbf84286-7de8-4b7b-a30a-e4a17fa1dee7",
   "metadata": {},
   "source": [
    "# Day-25(6June)"
   ]
  },
  {
   "cell_type": "markdown",
   "id": "8c537d63-d38e-431f-987a-e44d1555ec20",
   "metadata": {},
   "source": [
    "- Python\n",
    "- notepad extension(.txt)\n",
    "- sys.argv()\n",
    "- pycharm\n",
    "- conditional statements"
   ]
  },
  {
   "cell_type": "code",
   "execution_count": 1,
   "id": "193b0747-8d50-4495-aaa6-fc750a2c6659",
   "metadata": {},
   "outputs": [
    {
     "name": "stdout",
     "output_type": "stream",
     "text": [
      "Hello\n"
     ]
    }
   ],
   "source": [
    "if True:\n",
    "    print(\"Hello\")"
   ]
  },
  {
   "cell_type": "code",
   "execution_count": 2,
   "id": "46a69a4e-3a2b-4259-ab25-23b1e598dcfb",
   "metadata": {},
   "outputs": [
    {
     "name": "stdout",
     "output_type": "stream",
     "text": [
      "True\n"
     ]
    }
   ],
   "source": [
    "num=8\n",
    "if num%2==0:\n",
    "    print(True)\n",
    "else:\n",
    "    print(False)"
   ]
  },
  {
   "cell_type": "code",
   "execution_count": 3,
   "id": "f0f74bad-5870-4144-bc1f-27ffb6dc3011",
   "metadata": {},
   "outputs": [
    {
     "name": "stdout",
     "output_type": "stream",
     "text": [
      "Even Number\n",
      "Greater\n"
     ]
    }
   ],
   "source": [
    "num=18\n",
    "if num%2==0:\n",
    "    print(\"Even Number\")\n",
    "    if num>5:\n",
    "        print(\"Greater\")\n",
    "else:\n",
    "    print(\"Odd Number\")"
   ]
  },
  {
   "cell_type": "code",
   "execution_count": 4,
   "id": "c76c3bba-0697-4388-b68a-16c8333b605c",
   "metadata": {},
   "outputs": [
    {
     "name": "stdout",
     "output_type": "stream",
     "text": [
      "Even Number\n"
     ]
    }
   ],
   "source": [
    "num=4\n",
    "if num%2==0:\n",
    "    print(\"Even Number\")\n",
    "    if num>5:\n",
    "        print(\"Greater\")\n",
    "else:\n",
    "    print(\"Odd Number\")"
   ]
  },
  {
   "cell_type": "code",
   "execution_count": 5,
   "id": "2dfef946-be0d-45ff-9e3c-4c28d904524c",
   "metadata": {},
   "outputs": [
    {
     "name": "stdout",
     "output_type": "stream",
     "text": [
      "Even Number\n",
      "Lesser\n"
     ]
    }
   ],
   "source": [
    "num=2\n",
    "if num%2==0:\n",
    "    print(\"Even Number\")\n",
    "    if num>5:\n",
    "        print(\"Greater\")\n",
    "    else:\n",
    "        print(\"Lesser\")\n",
    "else:\n",
    "    print(\"Odd Number\")"
   ]
  },
  {
   "cell_type": "code",
   "execution_count": 7,
   "id": "485891de-50e5-4adb-b380-2cb9bb05e961",
   "metadata": {},
   "outputs": [
    {
     "name": "stdout",
     "output_type": "stream",
     "text": [
      "one\n"
     ]
    }
   ],
   "source": [
    "x=1\n",
    "if x==1:\n",
    "    print(\"one\")\n",
    "if x==2:\n",
    "    print(\"two\")"
   ]
  },
  {
   "cell_type": "code",
   "execution_count": 8,
   "id": "9e617f24-d24d-47a4-a3a6-b964646f7677",
   "metadata": {},
   "outputs": [
    {
     "name": "stdout",
     "output_type": "stream",
     "text": [
      "one\n"
     ]
    }
   ],
   "source": [
    "x=1\n",
    "if x==1:\n",
    "    print(\"one\")\n",
    "elif x==2:\n",
    "    print(\"two\")"
   ]
  },
  {
   "cell_type": "code",
   "execution_count": 9,
   "id": "51694069-1b69-4142-bcdb-0876881a2221",
   "metadata": {},
   "outputs": [],
   "source": [
    "x=3\n",
    "if x==1:\n",
    "    print(\"one\")\n",
    "elif x==2:\n",
    "    print(\"two\")"
   ]
  },
  {
   "cell_type": "code",
   "execution_count": 11,
   "id": "5fa047d5-e2cf-4b16-be8f-758110034d46",
   "metadata": {},
   "outputs": [
    {
     "name": "stdout",
     "output_type": "stream",
     "text": [
      "Number not Found\n"
     ]
    }
   ],
   "source": [
    "x=5\n",
    "if x==1:\n",
    "    print(\"one\")\n",
    "elif x==2:\n",
    "    print(\"two\")\n",
    "else:\n",
    "    print(\"Number not Found\")"
   ]
  },
  {
   "cell_type": "code",
   "execution_count": 12,
   "id": "952f4997-69fb-4f63-9e46-c15830dd1b8a",
   "metadata": {},
   "outputs": [
    {
     "name": "stdout",
     "output_type": "stream",
     "text": [
      "two\n"
     ]
    }
   ],
   "source": [
    "x=2\n",
    "if x==1:\n",
    "    print(\"one\")\n",
    "elif x==2:\n",
    "    print(\"two\")\n",
    "else:\n",
    "    print(\"Number not Found\")"
   ]
  },
  {
   "cell_type": "markdown",
   "id": "8093f17f-b31c-473b-81e9-f9a5a88221df",
   "metadata": {},
   "source": [
    "# Day-26(7JUNE)"
   ]
  },
  {
   "cell_type": "markdown",
   "id": "01754b99-218e-4219-bedb-25fe77278cfe",
   "metadata": {},
   "source": [
    "- Python - Looping Statements\n",
    "   - for loop\n",
    "   - while loop\n",
    "   - break\n",
    "   - continue\n",
    "   - pass"
   ]
  },
  {
   "cell_type": "code",
   "execution_count": 7,
   "id": "980600ab-74eb-4887-9fd0-d4327006c0f9",
   "metadata": {},
   "outputs": [
    {
     "name": "stdout",
     "output_type": "stream",
     "text": [
      "While\n",
      "While\n",
      "While\n",
      "While\n",
      "While\n"
     ]
    }
   ],
   "source": [
    "i=1 #initialize\n",
    "\n",
    "while i<=5: \n",
    "    print(\"While\")\n",
    "    i+=1\n"
   ]
  },
  {
   "cell_type": "code",
   "execution_count": 8,
   "id": "aa3e5694-5fd9-4710-a156-343e7f1e0fb1",
   "metadata": {},
   "outputs": [
    {
     "name": "stdout",
     "output_type": "stream",
     "text": [
      "1\n",
      "2\n",
      "3\n",
      "4\n",
      "5\n"
     ]
    }
   ],
   "source": [
    "i=1\n",
    "\n",
    "while i<=5: \n",
    "    print(i)\n",
    "    i+=1"
   ]
  },
  {
   "cell_type": "code",
   "execution_count": 13,
   "id": "b449f7dc-3555-4a81-bac5-6780d2b6554c",
   "metadata": {},
   "outputs": [
    {
     "name": "stdout",
     "output_type": "stream",
     "text": [
      "5\n",
      "4\n",
      "3\n",
      "2\n",
      "1\n"
     ]
    }
   ],
   "source": [
    "i=5\n",
    "\n",
    "while i>=1: \n",
    "    print(i)\n",
    "    i-=1"
   ]
  },
  {
   "cell_type": "code",
   "execution_count": 21,
   "id": "7e3c8e5c-7c2c-4675-be0f-d557f46c2f29",
   "metadata": {},
   "outputs": [
    {
     "name": "stdout",
     "output_type": "stream",
     "text": [
      "While\n",
      "loop\n",
      "loop\n",
      "loop\n",
      "loop\n",
      "\n",
      "While\n",
      "loop\n",
      "loop\n",
      "loop\n",
      "loop\n",
      "\n",
      "While\n",
      "loop\n",
      "loop\n",
      "loop\n",
      "loop\n",
      "\n",
      "While\n",
      "loop\n",
      "loop\n",
      "loop\n",
      "loop\n",
      "\n",
      "While\n",
      "loop\n",
      "loop\n",
      "loop\n",
      "loop\n",
      "\n"
     ]
    }
   ],
   "source": [
    "i=1 \n",
    "while i<=5: \n",
    "    print(\"While\")\n",
    "    j=1\n",
    "    while j<=4:\n",
    "        print(\"loop\")\n",
    "        j+=1\n",
    "    i+=1\n",
    "    print()"
   ]
  },
  {
   "cell_type": "code",
   "execution_count": 22,
   "id": "53f8f4d0-0c23-444c-92d8-ca6114d6a030",
   "metadata": {},
   "outputs": [
    {
     "name": "stdout",
     "output_type": "stream",
     "text": [
      "While loop loop loop loop \n",
      "While loop loop loop loop \n",
      "While loop loop loop loop \n",
      "While loop loop loop loop \n",
      "While loop loop loop loop \n"
     ]
    }
   ],
   "source": [
    "i=1 \n",
    "while i<=5: \n",
    "    print(\"While\",end=\" \")\n",
    "    j=1\n",
    "    while j<=4:\n",
    "        print(\"loop\",end=\" \")\n",
    "        j+=1\n",
    "    i+=1\n",
    "    print()"
   ]
  },
  {
   "cell_type": "code",
   "execution_count": 25,
   "id": "d1b9e522-c661-4845-91eb-3309c9f7cbb2",
   "metadata": {},
   "outputs": [
    {
     "name": "stdout",
     "output_type": "stream",
     "text": [
      "0 1 2 3 \n",
      "0 2 4 6 \n",
      "0 3 6 9 \n",
      "0 4 8 12 \n"
     ]
    }
   ],
   "source": [
    "i=1\n",
    "while i<=4:\n",
    "    j=0\n",
    "    while j<=3:\n",
    "        print(i*j,end=\" \")\n",
    "        j+=1\n",
    "    print()\n",
    "    i+=1"
   ]
  },
  {
   "cell_type": "code",
   "execution_count": 27,
   "id": "f8c04de2-ccf8-409a-839d-fb3130d4b137",
   "metadata": {},
   "outputs": [],
   "source": [
    "# for loop"
   ]
  },
  {
   "cell_type": "code",
   "execution_count": 28,
   "id": "23d4463b-21ab-4d6f-b02e-4bf3dc71cab0",
   "metadata": {},
   "outputs": [
    {
     "name": "stdout",
     "output_type": "stream",
     "text": [
      "E\n",
      "l\n",
      "e\n",
      "p\n",
      "h\n",
      "a\n",
      "n\n",
      "t\n"
     ]
    }
   ],
   "source": [
    "name=\"Elephant\"\n",
    "for i in name:\n",
    "    print(i)"
   ]
  },
  {
   "cell_type": "code",
   "execution_count": 29,
   "id": "5f7bb39c-bb94-497a-8e7b-1d5dce6ce0b5",
   "metadata": {},
   "outputs": [
    {
     "name": "stdout",
     "output_type": "stream",
     "text": [
      "0\n",
      "1\n",
      "2\n",
      "3\n"
     ]
    }
   ],
   "source": [
    "for i in range(4):\n",
    "    print(i)"
   ]
  },
  {
   "cell_type": "code",
   "execution_count": 30,
   "id": "5949c6d1-c8d5-4128-a269-13e47f5d4602",
   "metadata": {},
   "outputs": [
    {
     "name": "stdout",
     "output_type": "stream",
     "text": [
      "5\n",
      "10\n",
      "15\n",
      "20\n",
      "25\n",
      "30\n",
      "35\n",
      "40\n",
      "45\n",
      "50\n"
     ]
    }
   ],
   "source": [
    "for i in range(1,51):\n",
    "    if(i%5==0):\n",
    "        print(i)"
   ]
  },
  {
   "cell_type": "code",
   "execution_count": 33,
   "id": "7b4988c0-9e7d-49d2-b36a-5f9f84b1fbca",
   "metadata": {},
   "outputs": [
    {
     "name": "stdout",
     "output_type": "stream",
     "text": [
      "6\n",
      "12\n",
      "18\n",
      "24\n",
      "30\n",
      "36\n",
      "42\n",
      "48\n",
      "54\n",
      "60\n"
     ]
    }
   ],
   "source": [
    "for i in range(1,61):\n",
    "    if(i%6==0):\n",
    "        print(i)"
   ]
  },
  {
   "cell_type": "code",
   "execution_count": 34,
   "id": "9ceea4f6-4679-429b-83ac-0e1352d79e35",
   "metadata": {},
   "outputs": [
    {
     "name": "stdout",
     "output_type": "stream",
     "text": [
      "1\n",
      "2\n",
      "3\n",
      "4\n",
      "5\n"
     ]
    }
   ],
   "source": [
    "for i in range(1,11):\n",
    "    if i==6:\n",
    "        break\n",
    "    print(i)"
   ]
  },
  {
   "cell_type": "code",
   "execution_count": 36,
   "id": "6d1f6b29-31d8-4b37-a607-b31010a07261",
   "metadata": {},
   "outputs": [
    {
     "name": "stdout",
     "output_type": "stream",
     "text": [
      "1\n",
      "2\n",
      "3\n",
      "4\n",
      "6\n",
      "7\n",
      "8\n",
      "9\n",
      "10\n"
     ]
    }
   ],
   "source": [
    "for i in range(1,11):\n",
    "    if i==5:\n",
    "        continue\n",
    "    print(i)"
   ]
  },
  {
   "cell_type": "code",
   "execution_count": 46,
   "id": "ba28ec12-d362-4b7d-8c09-5763ba2744e7",
   "metadata": {},
   "outputs": [
    {
     "ename": "SyntaxError",
     "evalue": "incomplete input (3001634288.py, line 1)",
     "output_type": "error",
     "traceback": [
      "\u001b[1;36m  Cell \u001b[1;32mIn[46], line 1\u001b[1;36m\u001b[0m\n\u001b[1;33m    for i in range(5):  #error\u001b[0m\n\u001b[1;37m                              ^\u001b[0m\n\u001b[1;31mSyntaxError\u001b[0m\u001b[1;31m:\u001b[0m incomplete input\n"
     ]
    }
   ],
   "source": [
    "for i in range(5):  #error"
   ]
  },
  {
   "cell_type": "code",
   "execution_count": 48,
   "id": "f4a86293-7201-4e73-8cc6-601c07589632",
   "metadata": {},
   "outputs": [],
   "source": [
    "for i in range(5): # No error\n",
    "    pass"
   ]
  },
  {
   "cell_type": "code",
   "execution_count": 45,
   "id": "94531f33-bb1b-4168-bf8f-490c4d6eb63c",
   "metadata": {},
   "outputs": [
    {
     "name": "stdout",
     "output_type": "stream",
     "text": [
      "5 * 1 = 5\n",
      "5 * 2 = 10\n",
      "5 * 3 = 15\n",
      "5 * 4 = 20\n",
      "5 * 5 = 25\n",
      "5 * 6 = 30\n",
      "5 * 7 = 35\n",
      "5 * 8 = 40\n",
      "5 * 9 = 45\n",
      "5 * 10 = 50\n"
     ]
    }
   ],
   "source": [
    "num=5\n",
    "for i in range(1,11):\n",
    "    print(num,\"*\",i,\"=\",num*i)"
   ]
  },
  {
   "cell_type": "code",
   "execution_count": 1,
   "id": "726f0964-63e5-4302-a83f-b945582d26d7",
   "metadata": {},
   "outputs": [
    {
     "name": "stdout",
     "output_type": "stream",
     "text": [
      "19 * 1 = 19\n",
      "19 * 2 = 38\n",
      "19 * 3 = 57\n",
      "19 * 4 = 76\n",
      "19 * 5 = 95\n",
      "19 * 6 = 114\n",
      "19 * 7 = 133\n",
      "19 * 8 = 152\n",
      "19 * 9 = 171\n",
      "19 * 10 = 190\n"
     ]
    }
   ],
   "source": [
    "num=19\n",
    "for i in range(1,11):\n",
    "    print(num,\"*\",i,\"=\",num*i)"
   ]
  },
  {
   "cell_type": "markdown",
   "id": "a7d1b8eb-1ee1-49c2-95f7-e76a81363260",
   "metadata": {},
   "source": [
    "# Day-27(9June)"
   ]
  },
  {
   "cell_type": "code",
   "execution_count": 5,
   "id": "33811b91-4229-4012-9793-fcdad1f296cc",
   "metadata": {},
   "outputs": [
    {
     "name": "stdout",
     "output_type": "stream",
     "text": [
      "1\n",
      "2\n",
      "4\n",
      "7\n",
      "8\n",
      "11\n",
      "13\n",
      "14\n",
      "16\n",
      "17\n",
      "19\n",
      "22\n",
      "23\n",
      "26\n",
      "28\n",
      "29\n",
      "31\n",
      "32\n",
      "34\n",
      "37\n",
      "38\n",
      "41\n",
      "43\n",
      "44\n",
      "46\n",
      "47\n",
      "49\n"
     ]
    }
   ],
   "source": [
    "for i in range(1,51):\n",
    "    if i%3==0 or i%5==0:\n",
    "        continue\n",
    "    print(i)"
   ]
  },
  {
   "cell_type": "code",
   "execution_count": 10,
   "id": "98f8aa69-51b4-4be1-a7cb-b2f1fd93a44d",
   "metadata": {},
   "outputs": [
    {
     "name": "stdout",
     "output_type": "stream",
     "text": [
      "# # # # \n",
      "# # # # \n",
      "# # # # \n",
      "# # # # \n"
     ]
    }
   ],
   "source": [
    "for i in range(4):\n",
    "    for j in range(4):\n",
    "        print(\"#\",end=\" \")\n",
    "    print()"
   ]
  },
  {
   "cell_type": "code",
   "execution_count": 13,
   "id": "8bf5d83b-de68-421f-9665-4adac73fc882",
   "metadata": {},
   "outputs": [
    {
     "name": "stdout",
     "output_type": "stream",
     "text": [
      "# \n",
      "# # \n",
      "# # # \n",
      "# # # # \n"
     ]
    }
   ],
   "source": [
    "for i in range(4):\n",
    "    for j in range(i+1):\n",
    "        print(\"#\",end=\" \")\n",
    "    print()"
   ]
  },
  {
   "cell_type": "code",
   "execution_count": 15,
   "id": "155e537f-2a94-4941-89a8-f68fd2044438",
   "metadata": {},
   "outputs": [
    {
     "name": "stdout",
     "output_type": "stream",
     "text": [
      "\n",
      "# \n",
      "# # \n",
      "# # # \n",
      "# # # # \n"
     ]
    }
   ],
   "source": [
    "for i in range(5):\n",
    "    print(\"# \"*i)"
   ]
  },
  {
   "cell_type": "code",
   "execution_count": 17,
   "id": "e8977b45-ed0a-4913-af46-0ad0380edf5c",
   "metadata": {},
   "outputs": [
    {
     "name": "stdout",
     "output_type": "stream",
     "text": [
      "# # # # \n",
      "# # # \n",
      "# # \n",
      "# \n"
     ]
    }
   ],
   "source": [
    "\n",
    "for i in range(4):\n",
    "    for j in range(4-i):\n",
    "        print(\"#\",end=\" \")\n",
    "    print()"
   ]
  },
  {
   "cell_type": "markdown",
   "id": "082f0548-e73e-43d3-8ce5-433030cec1f8",
   "metadata": {},
   "source": [
    "# for-else"
   ]
  },
  {
   "cell_type": "code",
   "execution_count": 21,
   "id": "92cacf49-eeb7-4d6e-bd7c-e2bdd5e358f1",
   "metadata": {},
   "outputs": [
    {
     "name": "stdout",
     "output_type": "stream",
     "text": [
      "not prime\n"
     ]
    }
   ],
   "source": [
    "num=14\n",
    "for i in range(2,num):\n",
    "    if num%i==0:\n",
    "        print(\"not prime\")\n",
    "        break\n",
    "        \n",
    "else:\n",
    "    print(\"prime\")"
   ]
  },
  {
   "cell_type": "code",
   "execution_count": 24,
   "id": "1d7c45ef-168f-49cc-bd70-44851137439b",
   "metadata": {},
   "outputs": [
    {
     "name": "stdout",
     "output_type": "stream",
     "text": [
      "prime\n"
     ]
    }
   ],
   "source": [
    "num=2\n",
    "for i in range(2,num):\n",
    "    if num%i==0:\n",
    "        print(\"not prime\")\n",
    "        break\n",
    "        \n",
    "else:\n",
    "    print(\"prime\")"
   ]
  },
  {
   "cell_type": "code",
   "execution_count": null,
   "id": "55b16b50-ac16-4697-840c-ef46a90b8d23",
   "metadata": {},
   "outputs": [],
   "source": []
  }
 ],
 "metadata": {
  "kernelspec": {
   "display_name": "Python 3 (ipykernel)",
   "language": "python",
   "name": "python3"
  },
  "language_info": {
   "codemirror_mode": {
    "name": "ipython",
    "version": 3
   },
   "file_extension": ".py",
   "mimetype": "text/x-python",
   "name": "python",
   "nbconvert_exporter": "python",
   "pygments_lexer": "ipython3",
   "version": "3.12.7"
  }
 },
 "nbformat": 4,
 "nbformat_minor": 5
}
