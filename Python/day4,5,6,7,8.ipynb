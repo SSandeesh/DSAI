{
 "cells": [
  {
   "cell_type": "markdown",
   "id": "54c1417e-555e-4241-9b2b-8523f0e44242",
   "metadata": {},
   "source": [
    "# DAY-4 \n"
   ]
  },
  {
   "cell_type": "markdown",
   "id": "d99ddfb2-94e0-4386-950c-3cb751c0bf1d",
   "metadata": {},
   "source": [
    "- Keywords\n",
    "- Data types\n",
    "- funtions with parameters"
   ]
  },
  {
   "cell_type": "code",
   "execution_count": 1,
   "id": "3e6fadea-201b-4387-bdc2-92100b936c0f",
   "metadata": {},
   "outputs": [
    {
     "ename": "SyntaxError",
     "evalue": "invalid syntax (1080941659.py, line 1)",
     "output_type": "error",
     "traceback": [
      "\u001b[1;36m  Cell \u001b[1;32mIn[1], line 1\u001b[1;36m\u001b[0m\n\u001b[1;33m    while=3\u001b[0m\n\u001b[1;37m         ^\u001b[0m\n\u001b[1;31mSyntaxError\u001b[0m\u001b[1;31m:\u001b[0m invalid syntax\n"
     ]
    }
   ],
   "source": [
    "while=3\n"
   ]
  },
  {
   "cell_type": "code",
   "execution_count": 3,
   "id": "814b2c5f-40e8-4ea9-8d6e-15e3adeef283",
   "metadata": {},
   "outputs": [
    {
     "data": {
      "text/plain": [
       "35"
      ]
     },
     "execution_count": 3,
     "metadata": {},
     "output_type": "execute_result"
    }
   ],
   "source": [
    "import keyword\n",
    "keyword.kwlist\n",
    "len(keyword.kwlist)"
   ]
  },
  {
   "cell_type": "code",
   "execution_count": 4,
   "id": "5209a5b4-3d8c-456a-8d6b-8ae7e0c62645",
   "metadata": {},
   "outputs": [
    {
     "data": {
      "text/plain": [
       "int"
      ]
     },
     "execution_count": 4,
     "metadata": {},
     "output_type": "execute_result"
    }
   ],
   "source": [
    "startindex=0\n",
    "type(startindex)\n"
   ]
  },
  {
   "cell_type": "code",
   "execution_count": 5,
   "id": "227e601d-52c6-4c38-9f0a-afbb2f85054b",
   "metadata": {},
   "outputs": [
    {
     "data": {
      "text/plain": [
       "float"
      ]
     },
     "execution_count": 5,
     "metadata": {},
     "output_type": "execute_result"
    }
   ],
   "source": [
    "floatt=100.3\n",
    "type(floatt)"
   ]
  },
  {
   "cell_type": "code",
   "execution_count": 6,
   "id": "1ae73662-e6c5-4ce5-a7a2-cbdb3c05bac4",
   "metadata": {},
   "outputs": [
    {
     "name": "stdout",
     "output_type": "stream",
     "text": [
      "30\n"
     ]
    }
   ],
   "source": [
    "a,b=10,20\n",
    "print(a+b)"
   ]
  },
  {
   "cell_type": "code",
   "execution_count": 8,
   "id": "f835e208-67f7-4f9a-abd9-5712dd6b7b2e",
   "metadata": {},
   "outputs": [
    {
     "name": "stdout",
     "output_type": "stream",
     "text": [
      "30 -10\n"
     ]
    }
   ],
   "source": [
    "c=a+b\n",
    "d=a-b\n",
    "print(c,d)\n",
    "\n"
   ]
  },
  {
   "cell_type": "code",
   "execution_count": 11,
   "id": "63b0d3e8-df1a-460c-b80c-3c64abf434b7",
   "metadata": {},
   "outputs": [
    {
     "data": {
      "text/plain": [
       "'3.12.7 | packaged by Anaconda, Inc. | (main, Oct  4 2024, 13:17:27) [MSC v.1929 64 bit (AMD64)]'"
      ]
     },
     "execution_count": 11,
     "metadata": {},
     "output_type": "execute_result"
    }
   ],
   "source": [
    "import sys\n",
    "sys.version\n"
   ]
  },
  {
   "cell_type": "markdown",
   "id": "b993ae88-0435-4826-b7b1-93fa031ac873",
   "metadata": {},
   "source": [
    "# day-5"
   ]
  },
  {
   "cell_type": "markdown",
   "id": "e1d580d5-b576-48ed-8395-b51425e7a364",
   "metadata": {},
   "source": [
    "- Generative AI: that can generate new content\n",
    "- gen AI are two types\n",
    "    1.Text based model -> text to text generation\n",
    "    2.Muilti model -> text to image,video,audio\n",
    "- multi model is also called \"STATE OF THE ART\" (SOTA)\n",
    "- \"COGNITIVE AI\" in cloud\n",
    "- Small Gen AI project in google colab\n"
   ]
  },
  {
   "cell_type": "markdown",
   "id": "3e86a11f-81ff-4568-a8ae-7b0f52d0b3be",
   "metadata": {},
   "source": [
    "# Day-6"
   ]
  },
  {
   "cell_type": "markdown",
   "id": "f5919cf0-3164-4568-8787-675cec295d5e",
   "metadata": {},
   "source": [
    "- Datatypes in detail\n",
    "  (int,float,complex,bool,String,)\n"
   ]
  },
  {
   "cell_type": "code",
   "execution_count": 1,
   "id": "d8ffa0ff-50c9-4278-b06f-f3d25d0899c1",
   "metadata": {},
   "outputs": [
    {
     "data": {
      "text/plain": [
       "(20+3j)"
      ]
     },
     "execution_count": 1,
     "metadata": {},
     "output_type": "execute_result"
    }
   ],
   "source": [
    "c=20+3j\n",
    "c"
   ]
  },
  {
   "cell_type": "code",
   "execution_count": 2,
   "id": "04559869-6876-4c9f-80ff-79e2372b8197",
   "metadata": {},
   "outputs": [
    {
     "data": {
      "text/plain": [
       "20.0"
      ]
     },
     "execution_count": 2,
     "metadata": {},
     "output_type": "execute_result"
    }
   ],
   "source": [
    "c.real\n"
   ]
  },
  {
   "cell_type": "code",
   "execution_count": 3,
   "id": "0bfa13a8-80bb-428b-8f1d-19f77df51c96",
   "metadata": {},
   "outputs": [
    {
     "data": {
      "text/plain": [
       "3.0"
      ]
     },
     "execution_count": 3,
     "metadata": {},
     "output_type": "execute_result"
    }
   ],
   "source": [
    "c.imag"
   ]
  },
  {
   "cell_type": "code",
   "execution_count": 4,
   "id": "635e2f5f-fd5c-4ec0-85a3-79973387165a",
   "metadata": {},
   "outputs": [
    {
     "data": {
      "text/plain": [
       "complex"
      ]
     },
     "execution_count": 4,
     "metadata": {},
     "output_type": "execute_result"
    }
   ],
   "source": [
    "type(c)"
   ]
  },
  {
   "cell_type": "code",
   "execution_count": 5,
   "id": "17408f8b-077d-4fdf-93b5-69c53ce6b503",
   "metadata": {},
   "outputs": [],
   "source": [
    "d=3+2J\n"
   ]
  },
  {
   "cell_type": "code",
   "execution_count": 6,
   "id": "99228d42-2989-464a-9903-9e195b715f34",
   "metadata": {},
   "outputs": [
    {
     "data": {
      "text/plain": [
       "(3+2j)"
      ]
     },
     "execution_count": 6,
     "metadata": {},
     "output_type": "execute_result"
    }
   ],
   "source": [
    "d\n"
   ]
  },
  {
   "cell_type": "code",
   "execution_count": 7,
   "id": "ef7b3780-9d31-4b20-adac-83b93101b915",
   "metadata": {},
   "outputs": [
    {
     "name": "stdout",
     "output_type": "stream",
     "text": [
      "(20+3j) (3+2j)\n"
     ]
    }
   ],
   "source": [
    "print(c,d)\n"
   ]
  },
  {
   "cell_type": "code",
   "execution_count": 8,
   "id": "3c632755-c6cd-4fdc-9a80-a01b91f73223",
   "metadata": {},
   "outputs": [
    {
     "name": "stdout",
     "output_type": "stream",
     "text": [
      "(23+5j)\n"
     ]
    }
   ],
   "source": [
    "print(c+d)"
   ]
  },
  {
   "cell_type": "code",
   "execution_count": 9,
   "id": "cc66d91a-f360-47f8-afa0-16566c9f0603",
   "metadata": {},
   "outputs": [],
   "source": [
    "b=True\n"
   ]
  },
  {
   "cell_type": "code",
   "execution_count": 10,
   "id": "958a8b67-4856-4465-8940-9294bfefca22",
   "metadata": {},
   "outputs": [
    {
     "data": {
      "text/plain": [
       "bool"
      ]
     },
     "execution_count": 10,
     "metadata": {},
     "output_type": "execute_result"
    }
   ],
   "source": [
    "type(b)\n"
   ]
  },
  {
   "cell_type": "code",
   "execution_count": 11,
   "id": "395a06f3-1e25-4345-afe9-42df24df7dfb",
   "metadata": {},
   "outputs": [
    {
     "data": {
      "text/plain": [
       "False"
      ]
     },
     "execution_count": 11,
     "metadata": {},
     "output_type": "execute_result"
    }
   ],
   "source": [
    "False\n"
   ]
  },
  {
   "cell_type": "code",
   "execution_count": 12,
   "id": "2b1a81aa-d447-43b0-aff0-c5e1588a5eb2",
   "metadata": {},
   "outputs": [
    {
     "data": {
      "text/plain": [
       "1"
      ]
     },
     "execution_count": 12,
     "metadata": {},
     "output_type": "execute_result"
    }
   ],
   "source": [
    "True+False\n"
   ]
  },
  {
   "cell_type": "code",
   "execution_count": 18,
   "id": "5f0e1481-33db-40d0-8d8a-3539236f1872",
   "metadata": {},
   "outputs": [
    {
     "data": {
      "text/plain": [
       "'rohit'"
      ]
     },
     "execution_count": 18,
     "metadata": {},
     "output_type": "execute_result"
    }
   ],
   "source": [
    "n=\"rohit\"\n",
    "n[-5:]"
   ]
  },
  {
   "cell_type": "code",
   "execution_count": 19,
   "id": "10a093fa-fd9c-487b-87cb-e466bd9b33a1",
   "metadata": {},
   "outputs": [
    {
     "data": {
      "text/plain": [
       "1"
      ]
     },
     "execution_count": 19,
     "metadata": {},
     "output_type": "execute_result"
    }
   ],
   "source": [
    "int(True)"
   ]
  },
  {
   "cell_type": "code",
   "execution_count": 20,
   "id": "6e72dd00-92f2-49f7-a97c-2a40c46a206d",
   "metadata": {},
   "outputs": [
    {
     "data": {
      "text/plain": [
       "5"
      ]
     },
     "execution_count": 20,
     "metadata": {},
     "output_type": "execute_result"
    }
   ],
   "source": [
    "len(n)"
   ]
  },
  {
   "cell_type": "code",
   "execution_count": 22,
   "id": "74592f83-ecd1-4f3b-9f02-776c9b39c67a",
   "metadata": {},
   "outputs": [
    {
     "data": {
      "text/plain": [
       "140731836672568"
      ]
     },
     "execution_count": 22,
     "metadata": {},
     "output_type": "execute_result"
    }
   ],
   "source": [
    "v1=5\n",
    "id(v1)"
   ]
  },
  {
   "cell_type": "code",
   "execution_count": 23,
   "id": "03c1bdfe-0221-426e-af24-aa55ca099def",
   "metadata": {},
   "outputs": [
    {
     "data": {
      "text/plain": [
       "140731836672568"
      ]
     },
     "execution_count": 23,
     "metadata": {},
     "output_type": "execute_result"
    }
   ],
   "source": [
    "v3=5\n",
    "id(v3)"
   ]
  },
  {
   "cell_type": "code",
   "execution_count": 1,
   "id": "70dd8f9e-2edb-46f2-bb80-9af8ea6b1eba",
   "metadata": {},
   "outputs": [
    {
     "data": {
      "text/plain": [
       "'3.12.7 | packaged by Anaconda, Inc. | (main, Oct  4 2024, 13:17:27) [MSC v.1929 64 bit (AMD64)]'"
      ]
     },
     "execution_count": 1,
     "metadata": {},
     "output_type": "execute_result"
    }
   ],
   "source": [
    "import sys\n",
    "sys.version"
   ]
  },
  {
   "cell_type": "markdown",
   "id": "dfab4361-165f-44ac-a0ad-3ce9af7637dd",
   "metadata": {},
   "source": [
    "# Day-7 "
   ]
  },
  {
   "cell_type": "markdown",
   "id": "1a3a8e58-1bc7-4a3a-8af0-4982bd8f274e",
   "metadata": {},
   "source": [
    "- Breif intro about python "
   ]
  },
  {
   "cell_type": "markdown",
   "id": "48fff634-d922-4791-9cb7-0348d65bc317",
   "metadata": {},
   "source": [
    "# Day-8"
   ]
  },
  {
   "cell_type": "markdown",
   "id": "90965d0e-1942-4f9d-a674-7c03d8b751ce",
   "metadata": {},
   "source": [
    "- Python is both compiler and interpreted\n",
    "- Python Software provides:\n",
    "    - IDLE/IDE\n",
    "    - Python Compiler\n",
    "    - PVM( Python code → Compiled to Bytecode → Interpreted by PVM → Executable code/output )\n",
    "    - Python Standard Libraries"
   ]
  },
  {
   "cell_type": "code",
   "execution_count": 1,
   "id": "ed31f58c-5f55-4c5e-bcc1-5d155abcc4e8",
   "metadata": {},
   "outputs": [
    {
     "data": {
      "text/plain": [
       "3.0"
      ]
     },
     "execution_count": 1,
     "metadata": {},
     "output_type": "execute_result"
    }
   ],
   "source": [
    "import math\n",
    "math.sqrt(9)"
   ]
  },
  {
   "cell_type": "code",
   "execution_count": 2,
   "id": "c060eac7-8ebd-4833-8ccc-36209a3622c7",
   "metadata": {},
   "outputs": [
    {
     "data": {
      "text/plain": [
       "['ArithmeticError',\n",
       " 'AssertionError',\n",
       " 'AttributeError',\n",
       " 'BaseException',\n",
       " 'BaseExceptionGroup',\n",
       " 'BlockingIOError',\n",
       " 'BrokenPipeError',\n",
       " 'BufferError',\n",
       " 'BytesWarning',\n",
       " 'ChildProcessError',\n",
       " 'ConnectionAbortedError',\n",
       " 'ConnectionError',\n",
       " 'ConnectionRefusedError',\n",
       " 'ConnectionResetError',\n",
       " 'DeprecationWarning',\n",
       " 'EOFError',\n",
       " 'Ellipsis',\n",
       " 'EncodingWarning',\n",
       " 'EnvironmentError',\n",
       " 'Exception',\n",
       " 'ExceptionGroup',\n",
       " 'False',\n",
       " 'FileExistsError',\n",
       " 'FileNotFoundError',\n",
       " 'FloatingPointError',\n",
       " 'FutureWarning',\n",
       " 'GeneratorExit',\n",
       " 'IOError',\n",
       " 'ImportError',\n",
       " 'ImportWarning',\n",
       " 'IndentationError',\n",
       " 'IndexError',\n",
       " 'InterruptedError',\n",
       " 'IsADirectoryError',\n",
       " 'KeyError',\n",
       " 'KeyboardInterrupt',\n",
       " 'LookupError',\n",
       " 'MemoryError',\n",
       " 'ModuleNotFoundError',\n",
       " 'NameError',\n",
       " 'None',\n",
       " 'NotADirectoryError',\n",
       " 'NotImplemented',\n",
       " 'NotImplementedError',\n",
       " 'OSError',\n",
       " 'OverflowError',\n",
       " 'PendingDeprecationWarning',\n",
       " 'PermissionError',\n",
       " 'ProcessLookupError',\n",
       " 'RecursionError',\n",
       " 'ReferenceError',\n",
       " 'ResourceWarning',\n",
       " 'RuntimeError',\n",
       " 'RuntimeWarning',\n",
       " 'StopAsyncIteration',\n",
       " 'StopIteration',\n",
       " 'SyntaxError',\n",
       " 'SyntaxWarning',\n",
       " 'SystemError',\n",
       " 'SystemExit',\n",
       " 'TabError',\n",
       " 'TimeoutError',\n",
       " 'True',\n",
       " 'TypeError',\n",
       " 'UnboundLocalError',\n",
       " 'UnicodeDecodeError',\n",
       " 'UnicodeEncodeError',\n",
       " 'UnicodeError',\n",
       " 'UnicodeTranslateError',\n",
       " 'UnicodeWarning',\n",
       " 'UserWarning',\n",
       " 'ValueError',\n",
       " 'Warning',\n",
       " 'WindowsError',\n",
       " 'ZeroDivisionError',\n",
       " '__IPYTHON__',\n",
       " '__build_class__',\n",
       " '__debug__',\n",
       " '__doc__',\n",
       " '__import__',\n",
       " '__loader__',\n",
       " '__name__',\n",
       " '__package__',\n",
       " '__spec__',\n",
       " 'abs',\n",
       " 'aiter',\n",
       " 'all',\n",
       " 'anext',\n",
       " 'any',\n",
       " 'ascii',\n",
       " 'bin',\n",
       " 'bool',\n",
       " 'breakpoint',\n",
       " 'bytearray',\n",
       " 'bytes',\n",
       " 'callable',\n",
       " 'chr',\n",
       " 'classmethod',\n",
       " 'compile',\n",
       " 'complex',\n",
       " 'copyright',\n",
       " 'credits',\n",
       " 'delattr',\n",
       " 'dict',\n",
       " 'dir',\n",
       " 'display',\n",
       " 'divmod',\n",
       " 'enumerate',\n",
       " 'eval',\n",
       " 'exec',\n",
       " 'execfile',\n",
       " 'filter',\n",
       " 'float',\n",
       " 'format',\n",
       " 'frozenset',\n",
       " 'get_ipython',\n",
       " 'getattr',\n",
       " 'globals',\n",
       " 'hasattr',\n",
       " 'hash',\n",
       " 'help',\n",
       " 'hex',\n",
       " 'id',\n",
       " 'input',\n",
       " 'int',\n",
       " 'isinstance',\n",
       " 'issubclass',\n",
       " 'iter',\n",
       " 'len',\n",
       " 'license',\n",
       " 'list',\n",
       " 'locals',\n",
       " 'map',\n",
       " 'max',\n",
       " 'memoryview',\n",
       " 'min',\n",
       " 'next',\n",
       " 'object',\n",
       " 'oct',\n",
       " 'open',\n",
       " 'ord',\n",
       " 'pow',\n",
       " 'print',\n",
       " 'property',\n",
       " 'range',\n",
       " 'repr',\n",
       " 'reversed',\n",
       " 'round',\n",
       " 'runfile',\n",
       " 'set',\n",
       " 'setattr',\n",
       " 'slice',\n",
       " 'sorted',\n",
       " 'staticmethod',\n",
       " 'str',\n",
       " 'sum',\n",
       " 'super',\n",
       " 'tuple',\n",
       " 'type',\n",
       " 'vars',\n",
       " 'zip']"
      ]
     },
     "execution_count": 2,
     "metadata": {},
     "output_type": "execute_result"
    }
   ],
   "source": [
    "dir(__builtins__)"
   ]
  },
  {
   "cell_type": "code",
   "execution_count": 4,
   "id": "b367303a-38e4-468d-bed0-2c2924b036b1",
   "metadata": {},
   "outputs": [
    {
     "data": {
      "text/plain": [
       "161"
      ]
     },
     "execution_count": 4,
     "metadata": {},
     "output_type": "execute_result"
    }
   ],
   "source": [
    "len(dir(__builtins__))"
   ]
  },
  {
   "cell_type": "code",
   "execution_count": null,
   "id": "73aa5cfc-cb1c-4dcd-9921-40c8323143a0",
   "metadata": {},
   "outputs": [],
   "source": []
  }
 ],
 "metadata": {
  "kernelspec": {
   "display_name": "Python 3 (ipykernel)",
   "language": "python",
   "name": "python3"
  },
  "language_info": {
   "codemirror_mode": {
    "name": "ipython",
    "version": 3
   },
   "file_extension": ".py",
   "mimetype": "text/x-python",
   "name": "python",
   "nbconvert_exporter": "python",
   "pygments_lexer": "ipython3",
   "version": "3.12.7"
  }
 },
 "nbformat": 4,
 "nbformat_minor": 5
}
