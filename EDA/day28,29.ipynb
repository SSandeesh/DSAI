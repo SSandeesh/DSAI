{
 "cells": [
  {
   "cell_type": "markdown",
   "id": "ed3a248f-7b4d-4aae-848b-f0bf68e4191b",
   "metadata": {},
   "source": [
    "# Day-28 (10June)"
   ]
  },
  {
   "cell_type": "markdown",
   "id": "70c1ce10-5609-4476-b37e-bd968dd23350",
   "metadata": {},
   "source": [
    "- Intro to EDA (Raw data to clean data)\n",
    "- EDA is the foundation of ML\n",
    "- ETL -Extract Transpose Load\n",
    "- EDA Techniques:(7)\n",
    "     1. Variable Identification\n",
    "        - classify features into\n",
    "            1. Dependent Variable(Y)\n",
    "            2. Independent Variable(X)\n",
    "            3. Relavant attribute\n",
    "    \t\t4. Irrelavant attribute \n",
    "\t\t\n",
    "\n",
    "     2. Univariate : Analyze one variable\n",
    "     3. Bivariate Analyses\n",
    "     4. Outliers Detection \n",
    "     5. Missing Value Treatment\n",
    "     6. Variable Creation\n",
    "     7. Variable Tranformation\n",
    "- Variable Identification(Dependent(Y)& Independent variable(X))"
   ]
  },
  {
   "cell_type": "markdown",
   "id": "1d27c070-9193-454c-95ea-8e6525e3e097",
   "metadata": {},
   "source": [
    "# Day-29(11June)"
   ]
  },
  {
   "cell_type": "markdown",
   "id": "0e79a72e-4624-41c7-9a59-73e4248ec202",
   "metadata": {},
   "source": [
    "- Univariate : Analyze one variable\n",
    "- Bivariate Analyses\n",
    "- Correlation :\n",
    "   - Relation b/w two variables\n",
    "   - Range of corelation -1 to 1(BV)\n",
    "   - Types of Correlation:\n",
    "     - +ve(0 to +1)\n",
    "     - -ve(-1)\n",
    "     - zero(0)\n",
    "- Outliers Detection (also called Anomaly Detection) - datapoint which is far from other observations\n",
    "- Missing Value Treatment\n",
    "  - Mode strategy / KNN imputation (categorical)\n",
    "  - Mean/Mode/Median (numerical)\n",
    "- Variable Tranformation:\n",
    "    - Dummy Variable (cat to numerical data)\n",
    "    - One Hot Encoder (4 classes 3 columns)\n",
    "    - Label encoder (Numeric labels to categories)\n",
    "- Variable Creation\n",
    "    - Creating new features from exiting ones\n",
    "- Tranformers = categorical to numerical\n",
    "- EDA technique == feature engineering"
   ]
  },
  {
   "cell_type": "markdown",
   "id": "edf7e40d-a031-4275-8711-3defa933231c",
   "metadata": {},
   "source": [
    "# Machine Learning\n",
    "1. Supervised learning : Uses labeled data meaning the data has both input features (X) and known output labels (Y). The algorithm learns a mapping from inputs to outputs and predicts the output for new, unseen inputs.\n",
    "   \n",
    "    - Regression (Used when Dependent Variable is Continuous)\n",
    "      - eg: Gold Price,Petrol Price ---\n",
    "    - Classification (when Dependent Variable(Y) is Binary)\n",
    "      - eg: Profit/Loss, Spam/Not Spam ---\n",
    "        \n",
    "2. Unsupervised learning : Uses unlabeled data only inputs (X), no target (Y). The algorithm finds hidden patterns, structures, or groupings in the data.\n",
    "    - Clustering (No Depentent Variable)\n",
    "      - eg: Grouping documents ---"
   ]
  },
  {
   "cell_type": "code",
   "execution_count": null,
   "id": "76879eb2-fca6-4f56-aeec-fb406a72ca71",
   "metadata": {},
   "outputs": [],
   "source": []
  }
 ],
 "metadata": {
  "kernelspec": {
   "display_name": "Python 3 (ipykernel)",
   "language": "python",
   "name": "python3"
  },
  "language_info": {
   "codemirror_mode": {
    "name": "ipython",
    "version": 3
   },
   "file_extension": ".py",
   "mimetype": "text/x-python",
   "name": "python",
   "nbconvert_exporter": "python",
   "pygments_lexer": "ipython3",
   "version": "3.12.7"
  }
 },
 "nbformat": 4,
 "nbformat_minor": 5
}
